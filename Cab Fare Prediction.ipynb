{
 "cells": [
  {
   "cell_type": "code",
   "execution_count": 1,
   "metadata": {},
   "outputs": [],
   "source": [
    "# Importing necessary libraries\n",
    "\n",
    "import numpy as np\n",
    "import pandas as pd\n",
    "import sklearn\n",
    "import seaborn as sns\n",
    "import matplotlib.pyplot as plt"
   ]
  },
  {
   "cell_type": "code",
   "execution_count": 2,
   "metadata": {},
   "outputs": [],
   "source": [
    "# Reading respective csv files\n",
    "\n",
    "train = pd.read_csv(\"train_cab.csv\")\n",
    "test = pd.read_csv(\"test.csv\")"
   ]
  },
  {
   "cell_type": "code",
   "execution_count": 3,
   "metadata": {},
   "outputs": [
    {
     "data": {
      "text/plain": [
       "(16067, 7)"
      ]
     },
     "execution_count": 3,
     "metadata": {},
     "output_type": "execute_result"
    }
   ],
   "source": [
    "train.shape"
   ]
  },
  {
   "cell_type": "code",
   "execution_count": 4,
   "metadata": {},
   "outputs": [
    {
     "data": {
      "text/plain": [
       "(9914, 6)"
      ]
     },
     "execution_count": 4,
     "metadata": {},
     "output_type": "execute_result"
    }
   ],
   "source": [
    "test.shape"
   ]
  },
  {
   "cell_type": "code",
   "execution_count": 5,
   "metadata": {},
   "outputs": [
    {
     "data": {
      "text/html": [
       "<div>\n",
       "<style scoped>\n",
       "    .dataframe tbody tr th:only-of-type {\n",
       "        vertical-align: middle;\n",
       "    }\n",
       "\n",
       "    .dataframe tbody tr th {\n",
       "        vertical-align: top;\n",
       "    }\n",
       "\n",
       "    .dataframe thead th {\n",
       "        text-align: right;\n",
       "    }\n",
       "</style>\n",
       "<table border=\"1\" class=\"dataframe\">\n",
       "  <thead>\n",
       "    <tr style=\"text-align: right;\">\n",
       "      <th></th>\n",
       "      <th>fare_amount</th>\n",
       "      <th>pickup_datetime</th>\n",
       "      <th>pickup_longitude</th>\n",
       "      <th>pickup_latitude</th>\n",
       "      <th>dropoff_longitude</th>\n",
       "      <th>dropoff_latitude</th>\n",
       "      <th>passenger_count</th>\n",
       "    </tr>\n",
       "  </thead>\n",
       "  <tbody>\n",
       "    <tr>\n",
       "      <th>0</th>\n",
       "      <td>4.5</td>\n",
       "      <td>2009-06-15 17:26:21 UTC</td>\n",
       "      <td>-73.844311</td>\n",
       "      <td>40.721319</td>\n",
       "      <td>-73.841610</td>\n",
       "      <td>40.712278</td>\n",
       "      <td>1.0</td>\n",
       "    </tr>\n",
       "    <tr>\n",
       "      <th>1</th>\n",
       "      <td>16.9</td>\n",
       "      <td>2010-01-05 16:52:16 UTC</td>\n",
       "      <td>-74.016048</td>\n",
       "      <td>40.711303</td>\n",
       "      <td>-73.979268</td>\n",
       "      <td>40.782004</td>\n",
       "      <td>1.0</td>\n",
       "    </tr>\n",
       "    <tr>\n",
       "      <th>2</th>\n",
       "      <td>5.7</td>\n",
       "      <td>2011-08-18 00:35:00 UTC</td>\n",
       "      <td>-73.982738</td>\n",
       "      <td>40.761270</td>\n",
       "      <td>-73.991242</td>\n",
       "      <td>40.750562</td>\n",
       "      <td>2.0</td>\n",
       "    </tr>\n",
       "    <tr>\n",
       "      <th>3</th>\n",
       "      <td>7.7</td>\n",
       "      <td>2012-04-21 04:30:42 UTC</td>\n",
       "      <td>-73.987130</td>\n",
       "      <td>40.733143</td>\n",
       "      <td>-73.991567</td>\n",
       "      <td>40.758092</td>\n",
       "      <td>1.0</td>\n",
       "    </tr>\n",
       "    <tr>\n",
       "      <th>4</th>\n",
       "      <td>5.3</td>\n",
       "      <td>2010-03-09 07:51:00 UTC</td>\n",
       "      <td>-73.968095</td>\n",
       "      <td>40.768008</td>\n",
       "      <td>-73.956655</td>\n",
       "      <td>40.783762</td>\n",
       "      <td>1.0</td>\n",
       "    </tr>\n",
       "  </tbody>\n",
       "</table>\n",
       "</div>"
      ],
      "text/plain": [
       "  fare_amount          pickup_datetime  pickup_longitude  pickup_latitude  \\\n",
       "0         4.5  2009-06-15 17:26:21 UTC        -73.844311        40.721319   \n",
       "1        16.9  2010-01-05 16:52:16 UTC        -74.016048        40.711303   \n",
       "2         5.7  2011-08-18 00:35:00 UTC        -73.982738        40.761270   \n",
       "3         7.7  2012-04-21 04:30:42 UTC        -73.987130        40.733143   \n",
       "4         5.3  2010-03-09 07:51:00 UTC        -73.968095        40.768008   \n",
       "\n",
       "   dropoff_longitude  dropoff_latitude  passenger_count  \n",
       "0         -73.841610         40.712278              1.0  \n",
       "1         -73.979268         40.782004              1.0  \n",
       "2         -73.991242         40.750562              2.0  \n",
       "3         -73.991567         40.758092              1.0  \n",
       "4         -73.956655         40.783762              1.0  "
      ]
     },
     "execution_count": 5,
     "metadata": {},
     "output_type": "execute_result"
    }
   ],
   "source": [
    "train.head()"
   ]
  },
  {
   "cell_type": "code",
   "execution_count": 6,
   "metadata": {},
   "outputs": [
    {
     "data": {
      "text/html": [
       "<div>\n",
       "<style scoped>\n",
       "    .dataframe tbody tr th:only-of-type {\n",
       "        vertical-align: middle;\n",
       "    }\n",
       "\n",
       "    .dataframe tbody tr th {\n",
       "        vertical-align: top;\n",
       "    }\n",
       "\n",
       "    .dataframe thead th {\n",
       "        text-align: right;\n",
       "    }\n",
       "</style>\n",
       "<table border=\"1\" class=\"dataframe\">\n",
       "  <thead>\n",
       "    <tr style=\"text-align: right;\">\n",
       "      <th></th>\n",
       "      <th>pickup_longitude</th>\n",
       "      <th>pickup_latitude</th>\n",
       "      <th>dropoff_longitude</th>\n",
       "      <th>dropoff_latitude</th>\n",
       "      <th>passenger_count</th>\n",
       "    </tr>\n",
       "  </thead>\n",
       "  <tbody>\n",
       "    <tr>\n",
       "      <th>count</th>\n",
       "      <td>16067.000000</td>\n",
       "      <td>16067.000000</td>\n",
       "      <td>16067.000000</td>\n",
       "      <td>16067.000000</td>\n",
       "      <td>16012.000000</td>\n",
       "    </tr>\n",
       "    <tr>\n",
       "      <th>mean</th>\n",
       "      <td>-72.462787</td>\n",
       "      <td>39.914725</td>\n",
       "      <td>-72.462328</td>\n",
       "      <td>39.897906</td>\n",
       "      <td>2.625070</td>\n",
       "    </tr>\n",
       "    <tr>\n",
       "      <th>std</th>\n",
       "      <td>10.578384</td>\n",
       "      <td>6.826587</td>\n",
       "      <td>10.575062</td>\n",
       "      <td>6.187087</td>\n",
       "      <td>60.844122</td>\n",
       "    </tr>\n",
       "    <tr>\n",
       "      <th>min</th>\n",
       "      <td>-74.438233</td>\n",
       "      <td>-74.006893</td>\n",
       "      <td>-74.429332</td>\n",
       "      <td>-74.006377</td>\n",
       "      <td>0.000000</td>\n",
       "    </tr>\n",
       "    <tr>\n",
       "      <th>25%</th>\n",
       "      <td>-73.992156</td>\n",
       "      <td>40.734927</td>\n",
       "      <td>-73.991182</td>\n",
       "      <td>40.734651</td>\n",
       "      <td>1.000000</td>\n",
       "    </tr>\n",
       "    <tr>\n",
       "      <th>50%</th>\n",
       "      <td>-73.981698</td>\n",
       "      <td>40.752603</td>\n",
       "      <td>-73.980172</td>\n",
       "      <td>40.753567</td>\n",
       "      <td>1.000000</td>\n",
       "    </tr>\n",
       "    <tr>\n",
       "      <th>75%</th>\n",
       "      <td>-73.966838</td>\n",
       "      <td>40.767381</td>\n",
       "      <td>-73.963643</td>\n",
       "      <td>40.768013</td>\n",
       "      <td>2.000000</td>\n",
       "    </tr>\n",
       "    <tr>\n",
       "      <th>max</th>\n",
       "      <td>40.766125</td>\n",
       "      <td>401.083332</td>\n",
       "      <td>40.802437</td>\n",
       "      <td>41.366138</td>\n",
       "      <td>5345.000000</td>\n",
       "    </tr>\n",
       "  </tbody>\n",
       "</table>\n",
       "</div>"
      ],
      "text/plain": [
       "       pickup_longitude  pickup_latitude  dropoff_longitude  dropoff_latitude  \\\n",
       "count      16067.000000     16067.000000       16067.000000      16067.000000   \n",
       "mean         -72.462787        39.914725         -72.462328         39.897906   \n",
       "std           10.578384         6.826587          10.575062          6.187087   \n",
       "min          -74.438233       -74.006893         -74.429332        -74.006377   \n",
       "25%          -73.992156        40.734927         -73.991182         40.734651   \n",
       "50%          -73.981698        40.752603         -73.980172         40.753567   \n",
       "75%          -73.966838        40.767381         -73.963643         40.768013   \n",
       "max           40.766125       401.083332          40.802437         41.366138   \n",
       "\n",
       "       passenger_count  \n",
       "count     16012.000000  \n",
       "mean          2.625070  \n",
       "std          60.844122  \n",
       "min           0.000000  \n",
       "25%           1.000000  \n",
       "50%           1.000000  \n",
       "75%           2.000000  \n",
       "max        5345.000000  "
      ]
     },
     "execution_count": 6,
     "metadata": {},
     "output_type": "execute_result"
    }
   ],
   "source": [
    "train.describe()"
   ]
  },
  {
   "cell_type": "code",
   "execution_count": 7,
   "metadata": {},
   "outputs": [
    {
     "name": "stdout",
     "output_type": "stream",
     "text": [
      "<class 'pandas.core.frame.DataFrame'>\n",
      "RangeIndex: 16067 entries, 0 to 16066\n",
      "Data columns (total 7 columns):\n",
      "fare_amount          16043 non-null object\n",
      "pickup_datetime      16067 non-null object\n",
      "pickup_longitude     16067 non-null float64\n",
      "pickup_latitude      16067 non-null float64\n",
      "dropoff_longitude    16067 non-null float64\n",
      "dropoff_latitude     16067 non-null float64\n",
      "passenger_count      16012 non-null float64\n",
      "dtypes: float64(5), object(2)\n",
      "memory usage: 878.7+ KB\n"
     ]
    }
   ],
   "source": [
    "train.info()"
   ]
  },
  {
   "cell_type": "code",
   "execution_count": 8,
   "metadata": {},
   "outputs": [],
   "source": [
    "# Converting fare_amount to numeric datatype\n",
    "\n",
    "train[\"fare_amount\"] = pd.to_numeric(train[\"fare_amount\"], errors='coerce')"
   ]
  },
  {
   "cell_type": "code",
   "execution_count": 9,
   "metadata": {},
   "outputs": [
    {
     "data": {
      "text/plain": [
       "passenger_count      55\n",
       "fare_amount          25\n",
       "dropoff_latitude      0\n",
       "dropoff_longitude     0\n",
       "pickup_latitude       0\n",
       "pickup_longitude      0\n",
       "pickup_datetime       0\n",
       "dtype: int64"
      ]
     },
     "execution_count": 9,
     "metadata": {},
     "output_type": "execute_result"
    }
   ],
   "source": [
    "# Checking for null values in train and test datasets\n",
    "\n",
    "train.isnull().sum().sort_values(ascending=False)"
   ]
  },
  {
   "cell_type": "code",
   "execution_count": 10,
   "metadata": {},
   "outputs": [
    {
     "data": {
      "text/plain": [
       "passenger_count      0\n",
       "dropoff_latitude     0\n",
       "dropoff_longitude    0\n",
       "pickup_latitude      0\n",
       "pickup_longitude     0\n",
       "pickup_datetime      0\n",
       "dtype: int64"
      ]
     },
     "execution_count": 10,
     "metadata": {},
     "output_type": "execute_result"
    }
   ],
   "source": [
    "test.isnull().sum().sort_values(ascending=False)"
   ]
  },
  {
   "cell_type": "code",
   "execution_count": 11,
   "metadata": {},
   "outputs": [
    {
     "data": {
      "text/plain": [
       "0.34231654944918155"
      ]
     },
     "execution_count": 11,
     "metadata": {},
     "output_type": "execute_result"
    }
   ],
   "source": [
    "(train[\"passenger_count\"].isnull().sum() / len(train)) * 100"
   ]
  },
  {
   "cell_type": "code",
   "execution_count": 12,
   "metadata": {},
   "outputs": [
    {
     "data": {
      "text/plain": [
       "0.15559843156780978"
      ]
     },
     "execution_count": 12,
     "metadata": {},
     "output_type": "execute_result"
    }
   ],
   "source": [
    "(train[\"fare_amount\"].isnull().sum() / len(train)) * 100"
   ]
  },
  {
   "cell_type": "code",
   "execution_count": 13,
   "metadata": {},
   "outputs": [],
   "source": [
    "# Since the percentage of null values is very less we will be dropping the corresponding rows.\n",
    "# Dropping null values from training dataset\n",
    "\n",
    "train = train.drop(train[train.isnull().any(1)].index, axis = 0)"
   ]
  },
  {
   "cell_type": "code",
   "execution_count": 14,
   "metadata": {},
   "outputs": [
    {
     "data": {
      "text/plain": [
       "(15987, 7)"
      ]
     },
     "execution_count": 14,
     "metadata": {},
     "output_type": "execute_result"
    }
   ],
   "source": [
    "train.shape"
   ]
  },
  {
   "cell_type": "code",
   "execution_count": 15,
   "metadata": {},
   "outputs": [
    {
     "name": "stdout",
     "output_type": "stream",
     "text": [
      "<class 'pandas.core.frame.DataFrame'>\n",
      "Int64Index: 15987 entries, 0 to 16065\n",
      "Data columns (total 7 columns):\n",
      "fare_amount          15987 non-null float64\n",
      "pickup_datetime      15987 non-null object\n",
      "pickup_longitude     15987 non-null float64\n",
      "pickup_latitude      15987 non-null float64\n",
      "dropoff_longitude    15987 non-null float64\n",
      "dropoff_latitude     15987 non-null float64\n",
      "passenger_count      15987 non-null float64\n",
      "dtypes: float64(6), object(1)\n",
      "memory usage: 999.2+ KB\n"
     ]
    }
   ],
   "source": [
    "train.info()"
   ]
  },
  {
   "cell_type": "code",
   "execution_count": 16,
   "metadata": {},
   "outputs": [],
   "source": [
    "# Converting pickup_datetime to datetime datatype and removing default timezone\n",
    "\n",
    "train['pickup_datetime'] = pd.to_datetime(train['pickup_datetime'], errors='coerce').dt.tz_localize(None)\n",
    "test['pickup_datetime'] = pd.to_datetime(test['pickup_datetime'], errors='coerce').dt.tz_localize(None)"
   ]
  },
  {
   "cell_type": "code",
   "execution_count": 17,
   "metadata": {},
   "outputs": [
    {
     "name": "stdout",
     "output_type": "stream",
     "text": [
      "<class 'pandas.core.frame.DataFrame'>\n",
      "Int64Index: 15987 entries, 0 to 16065\n",
      "Data columns (total 7 columns):\n",
      "fare_amount          15987 non-null float64\n",
      "pickup_datetime      15986 non-null datetime64[ns]\n",
      "pickup_longitude     15987 non-null float64\n",
      "pickup_latitude      15987 non-null float64\n",
      "dropoff_longitude    15987 non-null float64\n",
      "dropoff_latitude     15987 non-null float64\n",
      "passenger_count      15987 non-null float64\n",
      "dtypes: datetime64[ns](1), float64(6)\n",
      "memory usage: 999.2 KB\n"
     ]
    }
   ],
   "source": [
    "train.info()"
   ]
  },
  {
   "cell_type": "code",
   "execution_count": 18,
   "metadata": {},
   "outputs": [
    {
     "data": {
      "text/html": [
       "<div>\n",
       "<style scoped>\n",
       "    .dataframe tbody tr th:only-of-type {\n",
       "        vertical-align: middle;\n",
       "    }\n",
       "\n",
       "    .dataframe tbody tr th {\n",
       "        vertical-align: top;\n",
       "    }\n",
       "\n",
       "    .dataframe thead th {\n",
       "        text-align: right;\n",
       "    }\n",
       "</style>\n",
       "<table border=\"1\" class=\"dataframe\">\n",
       "  <thead>\n",
       "    <tr style=\"text-align: right;\">\n",
       "      <th></th>\n",
       "      <th>fare_amount</th>\n",
       "      <th>pickup_longitude</th>\n",
       "      <th>pickup_latitude</th>\n",
       "      <th>dropoff_longitude</th>\n",
       "      <th>dropoff_latitude</th>\n",
       "      <th>passenger_count</th>\n",
       "    </tr>\n",
       "  </thead>\n",
       "  <tbody>\n",
       "    <tr>\n",
       "      <th>count</th>\n",
       "      <td>15987.000000</td>\n",
       "      <td>15987.000000</td>\n",
       "      <td>15987.000000</td>\n",
       "      <td>15987.000000</td>\n",
       "      <td>15987.000000</td>\n",
       "      <td>15987.000000</td>\n",
       "    </tr>\n",
       "    <tr>\n",
       "      <th>mean</th>\n",
       "      <td>15.030232</td>\n",
       "      <td>-72.464447</td>\n",
       "      <td>39.915627</td>\n",
       "      <td>-72.464005</td>\n",
       "      <td>39.898725</td>\n",
       "      <td>2.623170</td>\n",
       "    </tr>\n",
       "    <tr>\n",
       "      <th>std</th>\n",
       "      <td>431.200458</td>\n",
       "      <td>10.573270</td>\n",
       "      <td>6.828818</td>\n",
       "      <td>10.569932</td>\n",
       "      <td>6.186185</td>\n",
       "      <td>60.890237</td>\n",
       "    </tr>\n",
       "    <tr>\n",
       "      <th>min</th>\n",
       "      <td>-3.000000</td>\n",
       "      <td>-74.438233</td>\n",
       "      <td>-74.006893</td>\n",
       "      <td>-74.429332</td>\n",
       "      <td>-74.006377</td>\n",
       "      <td>0.000000</td>\n",
       "    </tr>\n",
       "    <tr>\n",
       "      <th>25%</th>\n",
       "      <td>6.000000</td>\n",
       "      <td>-73.992143</td>\n",
       "      <td>40.734927</td>\n",
       "      <td>-73.991182</td>\n",
       "      <td>40.734651</td>\n",
       "      <td>1.000000</td>\n",
       "    </tr>\n",
       "    <tr>\n",
       "      <th>50%</th>\n",
       "      <td>8.500000</td>\n",
       "      <td>-73.981693</td>\n",
       "      <td>40.752603</td>\n",
       "      <td>-73.980168</td>\n",
       "      <td>40.753557</td>\n",
       "      <td>1.000000</td>\n",
       "    </tr>\n",
       "    <tr>\n",
       "      <th>75%</th>\n",
       "      <td>12.500000</td>\n",
       "      <td>-73.966819</td>\n",
       "      <td>40.767353</td>\n",
       "      <td>-73.963644</td>\n",
       "      <td>40.768005</td>\n",
       "      <td>2.000000</td>\n",
       "    </tr>\n",
       "    <tr>\n",
       "      <th>max</th>\n",
       "      <td>54343.000000</td>\n",
       "      <td>40.766125</td>\n",
       "      <td>401.083332</td>\n",
       "      <td>40.802437</td>\n",
       "      <td>41.366138</td>\n",
       "      <td>5345.000000</td>\n",
       "    </tr>\n",
       "  </tbody>\n",
       "</table>\n",
       "</div>"
      ],
      "text/plain": [
       "        fare_amount  pickup_longitude  pickup_latitude  dropoff_longitude  \\\n",
       "count  15987.000000      15987.000000     15987.000000       15987.000000   \n",
       "mean      15.030232        -72.464447        39.915627         -72.464005   \n",
       "std      431.200458         10.573270         6.828818          10.569932   \n",
       "min       -3.000000        -74.438233       -74.006893         -74.429332   \n",
       "25%        6.000000        -73.992143        40.734927         -73.991182   \n",
       "50%        8.500000        -73.981693        40.752603         -73.980168   \n",
       "75%       12.500000        -73.966819        40.767353         -73.963644   \n",
       "max    54343.000000         40.766125       401.083332          40.802437   \n",
       "\n",
       "       dropoff_latitude  passenger_count  \n",
       "count      15987.000000     15987.000000  \n",
       "mean          39.898725         2.623170  \n",
       "std            6.186185        60.890237  \n",
       "min          -74.006377         0.000000  \n",
       "25%           40.734651         1.000000  \n",
       "50%           40.753557         1.000000  \n",
       "75%           40.768005         2.000000  \n",
       "max           41.366138      5345.000000  "
      ]
     },
     "execution_count": 18,
     "metadata": {},
     "output_type": "execute_result"
    }
   ],
   "source": [
    "train.describe()"
   ]
  },
  {
   "cell_type": "code",
   "execution_count": 19,
   "metadata": {},
   "outputs": [
    {
     "data": {
      "text/plain": [
       "3"
      ]
     },
     "execution_count": 19,
     "metadata": {},
     "output_type": "execute_result"
    }
   ],
   "source": [
    "# Counting negative fare values\n",
    "\n",
    "len(train[train['fare_amount'] < 0])"
   ]
  },
  {
   "cell_type": "code",
   "execution_count": 20,
   "metadata": {},
   "outputs": [],
   "source": [
    "# Dropping the negative fare values\n",
    "\n",
    "train = train.drop(train[train['fare_amount']<0].index, axis=0)"
   ]
  },
  {
   "cell_type": "code",
   "execution_count": 21,
   "metadata": {},
   "outputs": [
    {
     "data": {
      "text/html": [
       "<div>\n",
       "<style scoped>\n",
       "    .dataframe tbody tr th:only-of-type {\n",
       "        vertical-align: middle;\n",
       "    }\n",
       "\n",
       "    .dataframe tbody tr th {\n",
       "        vertical-align: top;\n",
       "    }\n",
       "\n",
       "    .dataframe thead th {\n",
       "        text-align: right;\n",
       "    }\n",
       "</style>\n",
       "<table border=\"1\" class=\"dataframe\">\n",
       "  <thead>\n",
       "    <tr style=\"text-align: right;\">\n",
       "      <th></th>\n",
       "      <th>fare_amount</th>\n",
       "      <th>pickup_longitude</th>\n",
       "      <th>pickup_latitude</th>\n",
       "      <th>dropoff_longitude</th>\n",
       "      <th>dropoff_latitude</th>\n",
       "      <th>passenger_count</th>\n",
       "    </tr>\n",
       "  </thead>\n",
       "  <tbody>\n",
       "    <tr>\n",
       "      <th>count</th>\n",
       "      <td>15984.000000</td>\n",
       "      <td>15984.000000</td>\n",
       "      <td>15984.000000</td>\n",
       "      <td>15984.000000</td>\n",
       "      <td>15984.000000</td>\n",
       "      <td>15984.000000</td>\n",
       "    </tr>\n",
       "    <tr>\n",
       "      <th>mean</th>\n",
       "      <td>15.033579</td>\n",
       "      <td>-72.464172</td>\n",
       "      <td>39.915480</td>\n",
       "      <td>-72.463730</td>\n",
       "      <td>39.898574</td>\n",
       "      <td>2.623287</td>\n",
       "    </tr>\n",
       "    <tr>\n",
       "      <th>std</th>\n",
       "      <td>431.240855</td>\n",
       "      <td>10.574243</td>\n",
       "      <td>6.829450</td>\n",
       "      <td>10.570905</td>\n",
       "      <td>6.186756</td>\n",
       "      <td>60.895947</td>\n",
       "    </tr>\n",
       "    <tr>\n",
       "      <th>min</th>\n",
       "      <td>0.000000</td>\n",
       "      <td>-74.438233</td>\n",
       "      <td>-74.006893</td>\n",
       "      <td>-74.429332</td>\n",
       "      <td>-74.006377</td>\n",
       "      <td>0.000000</td>\n",
       "    </tr>\n",
       "    <tr>\n",
       "      <th>25%</th>\n",
       "      <td>6.000000</td>\n",
       "      <td>-73.992140</td>\n",
       "      <td>40.734935</td>\n",
       "      <td>-73.991182</td>\n",
       "      <td>40.734661</td>\n",
       "      <td>1.000000</td>\n",
       "    </tr>\n",
       "    <tr>\n",
       "      <th>50%</th>\n",
       "      <td>8.500000</td>\n",
       "      <td>-73.981691</td>\n",
       "      <td>40.752605</td>\n",
       "      <td>-73.980168</td>\n",
       "      <td>40.753562</td>\n",
       "      <td>1.000000</td>\n",
       "    </tr>\n",
       "    <tr>\n",
       "      <th>75%</th>\n",
       "      <td>12.500000</td>\n",
       "      <td>-73.966822</td>\n",
       "      <td>40.767356</td>\n",
       "      <td>-73.963645</td>\n",
       "      <td>40.768006</td>\n",
       "      <td>2.000000</td>\n",
       "    </tr>\n",
       "    <tr>\n",
       "      <th>max</th>\n",
       "      <td>54343.000000</td>\n",
       "      <td>40.766125</td>\n",
       "      <td>401.083332</td>\n",
       "      <td>40.802437</td>\n",
       "      <td>41.366138</td>\n",
       "      <td>5345.000000</td>\n",
       "    </tr>\n",
       "  </tbody>\n",
       "</table>\n",
       "</div>"
      ],
      "text/plain": [
       "        fare_amount  pickup_longitude  pickup_latitude  dropoff_longitude  \\\n",
       "count  15984.000000      15984.000000     15984.000000       15984.000000   \n",
       "mean      15.033579        -72.464172        39.915480         -72.463730   \n",
       "std      431.240855         10.574243         6.829450          10.570905   \n",
       "min        0.000000        -74.438233       -74.006893         -74.429332   \n",
       "25%        6.000000        -73.992140        40.734935         -73.991182   \n",
       "50%        8.500000        -73.981691        40.752605         -73.980168   \n",
       "75%       12.500000        -73.966822        40.767356         -73.963645   \n",
       "max    54343.000000         40.766125       401.083332          40.802437   \n",
       "\n",
       "       dropoff_latitude  passenger_count  \n",
       "count      15984.000000     15984.000000  \n",
       "mean          39.898574         2.623287  \n",
       "std            6.186756        60.895947  \n",
       "min          -74.006377         0.000000  \n",
       "25%           40.734661         1.000000  \n",
       "50%           40.753562         1.000000  \n",
       "75%           40.768006         2.000000  \n",
       "max           41.366138      5345.000000  "
      ]
     },
     "execution_count": 21,
     "metadata": {},
     "output_type": "execute_result"
    }
   ],
   "source": [
    "train.describe()"
   ]
  },
  {
   "cell_type": "code",
   "execution_count": 22,
   "metadata": {},
   "outputs": [
    {
     "data": {
      "text/plain": [
       "1.00       11240\n",
       "2.00        2319\n",
       "5.00        1044\n",
       "3.00         675\n",
       "4.00         327\n",
       "6.00         301\n",
       "0.00          57\n",
       "43.00          2\n",
       "53.00          2\n",
       "536.00         1\n",
       "535.00         1\n",
       "5345.00        1\n",
       "35.00          1\n",
       "5334.00        1\n",
       "554.00         1\n",
       "537.00         1\n",
       "0.12           1\n",
       "1.30           1\n",
       "531.20         1\n",
       "345.00         1\n",
       "456.00         1\n",
       "557.00         1\n",
       "354.00         1\n",
       "58.00          1\n",
       "236.00         1\n",
       "87.00          1\n",
       "Name: passenger_count, dtype: int64"
      ]
     },
     "execution_count": 22,
     "metadata": {},
     "output_type": "execute_result"
    }
   ],
   "source": [
    "train['passenger_count'].value_counts()"
   ]
  },
  {
   "cell_type": "code",
   "execution_count": 23,
   "metadata": {},
   "outputs": [
    {
     "data": {
      "text/plain": [
       "0.11886886886886887"
      ]
     },
     "execution_count": 23,
     "metadata": {},
     "output_type": "execute_result"
    }
   ],
   "source": [
    "# Assuming a cab has maximum 6 seats. So removing values above 6.\n",
    "\n",
    "len(train[train['passenger_count'] > 6]) * 100 / len(train)"
   ]
  },
  {
   "cell_type": "code",
   "execution_count": 24,
   "metadata": {},
   "outputs": [],
   "source": [
    "train = train[train['passenger_count'] <= 6]"
   ]
  },
  {
   "cell_type": "code",
   "execution_count": 25,
   "metadata": {},
   "outputs": [
    {
     "data": {
      "text/html": [
       "<div>\n",
       "<style scoped>\n",
       "    .dataframe tbody tr th:only-of-type {\n",
       "        vertical-align: middle;\n",
       "    }\n",
       "\n",
       "    .dataframe tbody tr th {\n",
       "        vertical-align: top;\n",
       "    }\n",
       "\n",
       "    .dataframe thead th {\n",
       "        text-align: right;\n",
       "    }\n",
       "</style>\n",
       "<table border=\"1\" class=\"dataframe\">\n",
       "  <thead>\n",
       "    <tr style=\"text-align: right;\">\n",
       "      <th></th>\n",
       "      <th>fare_amount</th>\n",
       "      <th>pickup_longitude</th>\n",
       "      <th>pickup_latitude</th>\n",
       "      <th>dropoff_longitude</th>\n",
       "      <th>dropoff_latitude</th>\n",
       "      <th>passenger_count</th>\n",
       "    </tr>\n",
       "  </thead>\n",
       "  <tbody>\n",
       "    <tr>\n",
       "      <th>count</th>\n",
       "      <td>15965.000000</td>\n",
       "      <td>15965.000000</td>\n",
       "      <td>15965.000000</td>\n",
       "      <td>15965.000000</td>\n",
       "      <td>15965.000000</td>\n",
       "      <td>15965.000000</td>\n",
       "    </tr>\n",
       "    <tr>\n",
       "      <th>mean</th>\n",
       "      <td>15.041893</td>\n",
       "      <td>-72.471634</td>\n",
       "      <td>39.919595</td>\n",
       "      <td>-72.471190</td>\n",
       "      <td>39.902669</td>\n",
       "      <td>1.643496</td>\n",
       "    </tr>\n",
       "    <tr>\n",
       "      <th>std</th>\n",
       "      <td>431.497319</td>\n",
       "      <td>10.549281</td>\n",
       "      <td>6.818837</td>\n",
       "      <td>10.545931</td>\n",
       "      <td>6.174244</td>\n",
       "      <td>1.267275</td>\n",
       "    </tr>\n",
       "    <tr>\n",
       "      <th>min</th>\n",
       "      <td>0.000000</td>\n",
       "      <td>-74.438233</td>\n",
       "      <td>-74.006893</td>\n",
       "      <td>-74.429332</td>\n",
       "      <td>-74.006377</td>\n",
       "      <td>0.000000</td>\n",
       "    </tr>\n",
       "    <tr>\n",
       "      <th>25%</th>\n",
       "      <td>6.000000</td>\n",
       "      <td>-73.992145</td>\n",
       "      <td>40.734935</td>\n",
       "      <td>-73.991182</td>\n",
       "      <td>40.734702</td>\n",
       "      <td>1.000000</td>\n",
       "    </tr>\n",
       "    <tr>\n",
       "      <th>50%</th>\n",
       "      <td>8.500000</td>\n",
       "      <td>-73.981693</td>\n",
       "      <td>40.752615</td>\n",
       "      <td>-73.980168</td>\n",
       "      <td>40.753574</td>\n",
       "      <td>1.000000</td>\n",
       "    </tr>\n",
       "    <tr>\n",
       "      <th>75%</th>\n",
       "      <td>12.500000</td>\n",
       "      <td>-73.966824</td>\n",
       "      <td>40.767380</td>\n",
       "      <td>-73.963643</td>\n",
       "      <td>40.768026</td>\n",
       "      <td>2.000000</td>\n",
       "    </tr>\n",
       "    <tr>\n",
       "      <th>max</th>\n",
       "      <td>54343.000000</td>\n",
       "      <td>40.766125</td>\n",
       "      <td>401.083332</td>\n",
       "      <td>40.802437</td>\n",
       "      <td>41.366138</td>\n",
       "      <td>6.000000</td>\n",
       "    </tr>\n",
       "  </tbody>\n",
       "</table>\n",
       "</div>"
      ],
      "text/plain": [
       "        fare_amount  pickup_longitude  pickup_latitude  dropoff_longitude  \\\n",
       "count  15965.000000      15965.000000     15965.000000       15965.000000   \n",
       "mean      15.041893        -72.471634        39.919595         -72.471190   \n",
       "std      431.497319         10.549281         6.818837          10.545931   \n",
       "min        0.000000        -74.438233       -74.006893         -74.429332   \n",
       "25%        6.000000        -73.992145        40.734935         -73.991182   \n",
       "50%        8.500000        -73.981693        40.752615         -73.980168   \n",
       "75%       12.500000        -73.966824        40.767380         -73.963643   \n",
       "max    54343.000000         40.766125       401.083332          40.802437   \n",
       "\n",
       "       dropoff_latitude  passenger_count  \n",
       "count      15965.000000     15965.000000  \n",
       "mean          39.902669         1.643496  \n",
       "std            6.174244         1.267275  \n",
       "min          -74.006377         0.000000  \n",
       "25%           40.734702         1.000000  \n",
       "50%           40.753574         1.000000  \n",
       "75%           40.768026         2.000000  \n",
       "max           41.366138         6.000000  "
      ]
     },
     "execution_count": 25,
     "metadata": {},
     "output_type": "execute_result"
    }
   ],
   "source": [
    "train.describe()"
   ]
  },
  {
   "cell_type": "code",
   "execution_count": 26,
   "metadata": {},
   "outputs": [
    {
     "data": {
      "text/plain": [
       "1.00    11240\n",
       "2.00     2319\n",
       "5.00     1044\n",
       "3.00      675\n",
       "4.00      327\n",
       "6.00      301\n",
       "0.00       57\n",
       "1.30        1\n",
       "0.12        1\n",
       "Name: passenger_count, dtype: int64"
      ]
     },
     "execution_count": 26,
     "metadata": {},
     "output_type": "execute_result"
    }
   ],
   "source": [
    "train['passenger_count'].value_counts()"
   ]
  },
  {
   "cell_type": "code",
   "execution_count": 27,
   "metadata": {},
   "outputs": [
    {
     "data": {
      "text/plain": [
       "0.35703100532414656"
      ]
     },
     "execution_count": 27,
     "metadata": {},
     "output_type": "execute_result"
    }
   ],
   "source": [
    "# 0 passengers are outliers, as fare amount cannot be charged if there are no passengers.\n",
    "len(train[train['passenger_count'] == 0]) * 100 / len(train)"
   ]
  },
  {
   "cell_type": "code",
   "execution_count": 28,
   "metadata": {},
   "outputs": [],
   "source": [
    "# Dropping rows with 0 passengers. \n",
    "# Since there are two values 1.3 and 0.12, we drop them as well.\n",
    "\n",
    "train.drop(train[train['passenger_count']==0].index, axis=0, inplace=True)\n",
    "train.drop(train[train['passenger_count']==1.3].index, axis=0, inplace=True)\n",
    "train.drop(train[train['passenger_count']==0.12].index, axis=0, inplace=True)"
   ]
  },
  {
   "cell_type": "code",
   "execution_count": 29,
   "metadata": {},
   "outputs": [],
   "source": [
    "# Converting float values to integer.\n",
    "\n",
    "train.passenger_count = train.passenger_count.apply(np.int64)"
   ]
  },
  {
   "cell_type": "code",
   "execution_count": 30,
   "metadata": {},
   "outputs": [
    {
     "data": {
      "text/plain": [
       "1    11240\n",
       "2     2319\n",
       "5     1044\n",
       "3      675\n",
       "4      327\n",
       "6      301\n",
       "Name: passenger_count, dtype: int64"
      ]
     },
     "execution_count": 30,
     "metadata": {},
     "output_type": "execute_result"
    }
   ],
   "source": [
    "train.passenger_count.value_counts()"
   ]
  },
  {
   "cell_type": "code",
   "execution_count": 31,
   "metadata": {},
   "outputs": [],
   "source": [
    "# Detecting outliers in fare amount variable."
   ]
  },
  {
   "cell_type": "code",
   "execution_count": 32,
   "metadata": {},
   "outputs": [
    {
     "data": {
      "image/png": "[encoded data removed]",
      "text/plain": [
       "<Figure size 432x288 with 1 Axes>"
      ]
     },
     "metadata": {
      "needs_background": "light"
     },
     "output_type": "display_data"
    }
   ],
   "source": [
    "train.boxplot('fare_amount');"
   ]
  },
  {
   "cell_type": "code",
   "execution_count": 33,
   "metadata": {},
   "outputs": [],
   "source": [
    "# As from the diagram we can see there are outliers.\n",
    "# Let's check and remove them."
   ]
  },
  {
   "cell_type": "code",
   "execution_count": 34,
   "metadata": {},
   "outputs": [
    {
     "data": {
      "text/plain": [
       "1015     54343.00\n",
       "1072      4343.00\n",
       "607        453.00\n",
       "980        434.00\n",
       "1335       180.00\n",
       "1483       165.00\n",
       "6630       128.83\n",
       "14142      108.00\n",
       "12349      104.67\n",
       "12915       96.00\n",
       "7810        95.00\n",
       "9431        88.00\n",
       "10077       87.30\n",
       "12614       87.00\n",
       "4620        85.50\n",
       "14519       82.50\n",
       "12437       80.75\n",
       "2639        79.00\n",
       "4013        77.70\n",
       "13962       77.15\n",
       "2013        77.00\n",
       "6668        76.80\n",
       "8363        76.00\n",
       "10524       75.80\n",
       "11019       75.33\n",
       "13615       75.00\n",
       "15023       73.30\n",
       "1494        70.00\n",
       "4118        69.70\n",
       "9651        66.30\n",
       "           ...   \n",
       "6297         2.50\n",
       "4058         2.50\n",
       "15490        2.50\n",
       "1671         2.50\n",
       "13877        2.50\n",
       "15370        2.50\n",
       "1419         2.50\n",
       "6276         2.50\n",
       "5449         2.50\n",
       "3558         2.50\n",
       "7908         2.50\n",
       "1750         2.50\n",
       "13571        2.50\n",
       "12705        2.50\n",
       "12178        2.50\n",
       "11153        2.50\n",
       "4539         2.50\n",
       "376          2.50\n",
       "472          2.50\n",
       "4954         2.50\n",
       "7918         2.50\n",
       "11222        2.50\n",
       "8263         2.50\n",
       "1684         2.50\n",
       "9177         2.50\n",
       "1774         2.50\n",
       "9773         2.50\n",
       "1427         1.14\n",
       "2780         0.01\n",
       "10002        0.00\n",
       "Name: fare_amount, Length: 15906, dtype: float64"
      ]
     },
     "execution_count": 34,
     "metadata": {},
     "output_type": "execute_result"
    }
   ],
   "source": [
    "train.fare_amount.sort_values(ascending=False)"
   ]
  },
  {
   "cell_type": "code",
   "execution_count": 35,
   "metadata": {},
   "outputs": [],
   "source": [
    "train.drop(train[train.fare_amount > 400].index, axis=0, inplace=True)"
   ]
  },
  {
   "cell_type": "code",
   "execution_count": 36,
   "metadata": {},
   "outputs": [
    {
     "data": {
      "image/png": "[encoded data removed]",
      "text/plain": [
       "<Figure size 432x288 with 1 Axes>"
      ]
     },
     "metadata": {
      "needs_background": "light"
     },
     "output_type": "display_data"
    }
   ],
   "source": [
    "train.boxplot('fare_amount');"
   ]
  },
  {
   "cell_type": "code",
   "execution_count": 37,
   "metadata": {},
   "outputs": [
    {
     "data": {
      "text/plain": [
       "count    15902.000000\n",
       "mean        39.921445\n",
       "std          6.817455\n",
       "min        -74.006893\n",
       "25%         40.734949\n",
       "50%         40.752636\n",
       "75%         40.767382\n",
       "max        401.083332\n",
       "Name: pickup_latitude, dtype: float64"
      ]
     },
     "execution_count": 37,
     "metadata": {},
     "output_type": "execute_result"
    }
   ],
   "source": [
    "train['pickup_latitude'].describe()"
   ]
  },
  {
   "cell_type": "code",
   "execution_count": 38,
   "metadata": {},
   "outputs": [
    {
     "data": {
      "text/plain": [
       "count    15902.000000\n",
       "mean       -72.474982\n",
       "std         10.538451\n",
       "min        -74.438233\n",
       "25%        -73.992141\n",
       "50%        -73.981686\n",
       "75%        -73.966801\n",
       "max         40.766125\n",
       "Name: pickup_longitude, dtype: float64"
      ]
     },
     "execution_count": 38,
     "metadata": {},
     "output_type": "execute_result"
    }
   ],
   "source": [
    "train['pickup_longitude'].describe()"
   ]
  },
  {
   "cell_type": "code",
   "execution_count": 39,
   "metadata": {},
   "outputs": [],
   "source": [
    "# Latitude ranges from -90 to 90\n",
    "# Longitude ranges from -180 to 180"
   ]
  },
  {
   "cell_type": "code",
   "execution_count": 40,
   "metadata": {},
   "outputs": [
    {
     "data": {
      "text/html": [
       "<div>\n",
       "<style scoped>\n",
       "    .dataframe tbody tr th:only-of-type {\n",
       "        vertical-align: middle;\n",
       "    }\n",
       "\n",
       "    .dataframe tbody tr th {\n",
       "        vertical-align: top;\n",
       "    }\n",
       "\n",
       "    .dataframe thead th {\n",
       "        text-align: right;\n",
       "    }\n",
       "</style>\n",
       "<table border=\"1\" class=\"dataframe\">\n",
       "  <thead>\n",
       "    <tr style=\"text-align: right;\">\n",
       "      <th></th>\n",
       "      <th>fare_amount</th>\n",
       "      <th>pickup_datetime</th>\n",
       "      <th>pickup_longitude</th>\n",
       "      <th>pickup_latitude</th>\n",
       "      <th>dropoff_longitude</th>\n",
       "      <th>dropoff_latitude</th>\n",
       "      <th>passenger_count</th>\n",
       "    </tr>\n",
       "  </thead>\n",
       "  <tbody>\n",
       "    <tr>\n",
       "      <th>5686</th>\n",
       "      <td>3.3</td>\n",
       "      <td>2011-07-30 11:15:00</td>\n",
       "      <td>-73.947235</td>\n",
       "      <td>401.083332</td>\n",
       "      <td>-73.951392</td>\n",
       "      <td>40.778927</td>\n",
       "      <td>1</td>\n",
       "    </tr>\n",
       "  </tbody>\n",
       "</table>\n",
       "</div>"
      ],
      "text/plain": [
       "      fare_amount     pickup_datetime  pickup_longitude  pickup_latitude  \\\n",
       "5686          3.3 2011-07-30 11:15:00        -73.947235       401.083332   \n",
       "\n",
       "      dropoff_longitude  dropoff_latitude  passenger_count  \n",
       "5686         -73.951392         40.778927                1  "
      ]
     },
     "execution_count": 40,
     "metadata": {},
     "output_type": "execute_result"
    }
   ],
   "source": [
    "train[(train['pickup_latitude'] < -90) | (train['pickup_latitude'] > 90)] "
   ]
  },
  {
   "cell_type": "code",
   "execution_count": 41,
   "metadata": {},
   "outputs": [
    {
     "data": {
      "text/html": [
       "<div>\n",
       "<style scoped>\n",
       "    .dataframe tbody tr th:only-of-type {\n",
       "        vertical-align: middle;\n",
       "    }\n",
       "\n",
       "    .dataframe tbody tr th {\n",
       "        vertical-align: top;\n",
       "    }\n",
       "\n",
       "    .dataframe thead th {\n",
       "        text-align: right;\n",
       "    }\n",
       "</style>\n",
       "<table border=\"1\" class=\"dataframe\">\n",
       "  <thead>\n",
       "    <tr style=\"text-align: right;\">\n",
       "      <th></th>\n",
       "      <th>fare_amount</th>\n",
       "      <th>pickup_datetime</th>\n",
       "      <th>pickup_longitude</th>\n",
       "      <th>pickup_latitude</th>\n",
       "      <th>dropoff_longitude</th>\n",
       "      <th>dropoff_latitude</th>\n",
       "      <th>passenger_count</th>\n",
       "    </tr>\n",
       "  </thead>\n",
       "  <tbody>\n",
       "  </tbody>\n",
       "</table>\n",
       "</div>"
      ],
      "text/plain": [
       "Empty DataFrame\n",
       "Columns: [fare_amount, pickup_datetime, pickup_longitude, pickup_latitude, dropoff_longitude, dropoff_latitude, passenger_count]\n",
       "Index: []"
      ]
     },
     "execution_count": 41,
     "metadata": {},
     "output_type": "execute_result"
    }
   ],
   "source": [
    "train[(train['dropoff_latitude'] < -90) | (train['dropoff_latitude'] > 90)]"
   ]
  },
  {
   "cell_type": "code",
   "execution_count": 42,
   "metadata": {},
   "outputs": [
    {
     "data": {
      "text/html": [
       "<div>\n",
       "<style scoped>\n",
       "    .dataframe tbody tr th:only-of-type {\n",
       "        vertical-align: middle;\n",
       "    }\n",
       "\n",
       "    .dataframe tbody tr th {\n",
       "        vertical-align: top;\n",
       "    }\n",
       "\n",
       "    .dataframe thead th {\n",
       "        text-align: right;\n",
       "    }\n",
       "</style>\n",
       "<table border=\"1\" class=\"dataframe\">\n",
       "  <thead>\n",
       "    <tr style=\"text-align: right;\">\n",
       "      <th></th>\n",
       "      <th>fare_amount</th>\n",
       "      <th>pickup_datetime</th>\n",
       "      <th>pickup_longitude</th>\n",
       "      <th>pickup_latitude</th>\n",
       "      <th>dropoff_longitude</th>\n",
       "      <th>dropoff_latitude</th>\n",
       "      <th>passenger_count</th>\n",
       "    </tr>\n",
       "  </thead>\n",
       "  <tbody>\n",
       "  </tbody>\n",
       "</table>\n",
       "</div>"
      ],
      "text/plain": [
       "Empty DataFrame\n",
       "Columns: [fare_amount, pickup_datetime, pickup_longitude, pickup_latitude, dropoff_longitude, dropoff_latitude, passenger_count]\n",
       "Index: []"
      ]
     },
     "execution_count": 42,
     "metadata": {},
     "output_type": "execute_result"
    }
   ],
   "source": [
    "train[(train['pickup_longitude'] < -180) | (train['pickup_longitude'] > 180)]"
   ]
  },
  {
   "cell_type": "code",
   "execution_count": 43,
   "metadata": {},
   "outputs": [
    {
     "data": {
      "text/html": [
       "<div>\n",
       "<style scoped>\n",
       "    .dataframe tbody tr th:only-of-type {\n",
       "        vertical-align: middle;\n",
       "    }\n",
       "\n",
       "    .dataframe tbody tr th {\n",
       "        vertical-align: top;\n",
       "    }\n",
       "\n",
       "    .dataframe thead th {\n",
       "        text-align: right;\n",
       "    }\n",
       "</style>\n",
       "<table border=\"1\" class=\"dataframe\">\n",
       "  <thead>\n",
       "    <tr style=\"text-align: right;\">\n",
       "      <th></th>\n",
       "      <th>fare_amount</th>\n",
       "      <th>pickup_datetime</th>\n",
       "      <th>pickup_longitude</th>\n",
       "      <th>pickup_latitude</th>\n",
       "      <th>dropoff_longitude</th>\n",
       "      <th>dropoff_latitude</th>\n",
       "      <th>passenger_count</th>\n",
       "    </tr>\n",
       "  </thead>\n",
       "  <tbody>\n",
       "  </tbody>\n",
       "</table>\n",
       "</div>"
      ],
      "text/plain": [
       "Empty DataFrame\n",
       "Columns: [fare_amount, pickup_datetime, pickup_longitude, pickup_latitude, dropoff_longitude, dropoff_latitude, passenger_count]\n",
       "Index: []"
      ]
     },
     "execution_count": 43,
     "metadata": {},
     "output_type": "execute_result"
    }
   ],
   "source": [
    "train[(train['dropoff_longitude'] < -180) | (train['dropoff_longitude'] > 180)]"
   ]
  },
  {
   "cell_type": "code",
   "execution_count": 44,
   "metadata": {},
   "outputs": [],
   "source": [
    "# As seen above, only pickup latitude column has value greater than 90. Hence we will drop that row.\n",
    "train.drop((train[(train['pickup_latitude'] < -90) | (train['pickup_latitude'] > 90)]).index, axis=0, inplace=True)"
   ]
  },
  {
   "cell_type": "code",
   "execution_count": 45,
   "metadata": {},
   "outputs": [
    {
     "data": {
      "text/html": [
       "<div>\n",
       "<style scoped>\n",
       "    .dataframe tbody tr th:only-of-type {\n",
       "        vertical-align: middle;\n",
       "    }\n",
       "\n",
       "    .dataframe tbody tr th {\n",
       "        vertical-align: top;\n",
       "    }\n",
       "\n",
       "    .dataframe thead th {\n",
       "        text-align: right;\n",
       "    }\n",
       "</style>\n",
       "<table border=\"1\" class=\"dataframe\">\n",
       "  <thead>\n",
       "    <tr style=\"text-align: right;\">\n",
       "      <th></th>\n",
       "      <th>fare_amount</th>\n",
       "      <th>pickup_longitude</th>\n",
       "      <th>pickup_latitude</th>\n",
       "      <th>dropoff_longitude</th>\n",
       "      <th>dropoff_latitude</th>\n",
       "      <th>passenger_count</th>\n",
       "    </tr>\n",
       "  </thead>\n",
       "  <tbody>\n",
       "    <tr>\n",
       "      <th>count</th>\n",
       "      <td>15901.000000</td>\n",
       "      <td>15901.000000</td>\n",
       "      <td>15901.000000</td>\n",
       "      <td>15901.000000</td>\n",
       "      <td>15901.000000</td>\n",
       "      <td>15901.000000</td>\n",
       "    </tr>\n",
       "    <tr>\n",
       "      <th>mean</th>\n",
       "      <td>11.320987</td>\n",
       "      <td>-72.474889</td>\n",
       "      <td>39.898732</td>\n",
       "      <td>-72.465149</td>\n",
       "      <td>39.899262</td>\n",
       "      <td>1.649645</td>\n",
       "    </tr>\n",
       "    <tr>\n",
       "      <th>std</th>\n",
       "      <td>9.668455</td>\n",
       "      <td>10.538776</td>\n",
       "      <td>6.186797</td>\n",
       "      <td>10.566703</td>\n",
       "      <td>6.186423</td>\n",
       "      <td>1.265884</td>\n",
       "    </tr>\n",
       "    <tr>\n",
       "      <th>min</th>\n",
       "      <td>0.000000</td>\n",
       "      <td>-74.438233</td>\n",
       "      <td>-74.006893</td>\n",
       "      <td>-74.429332</td>\n",
       "      <td>-74.006377</td>\n",
       "      <td>1.000000</td>\n",
       "    </tr>\n",
       "    <tr>\n",
       "      <th>25%</th>\n",
       "      <td>6.000000</td>\n",
       "      <td>-73.992142</td>\n",
       "      <td>40.734948</td>\n",
       "      <td>-73.991181</td>\n",
       "      <td>40.734714</td>\n",
       "      <td>1.000000</td>\n",
       "    </tr>\n",
       "    <tr>\n",
       "      <th>50%</th>\n",
       "      <td>8.500000</td>\n",
       "      <td>-73.981689</td>\n",
       "      <td>40.752633</td>\n",
       "      <td>-73.980158</td>\n",
       "      <td>40.753565</td>\n",
       "      <td>1.000000</td>\n",
       "    </tr>\n",
       "    <tr>\n",
       "      <th>75%</th>\n",
       "      <td>12.500000</td>\n",
       "      <td>-73.966802</td>\n",
       "      <td>40.767382</td>\n",
       "      <td>-73.963643</td>\n",
       "      <td>40.768016</td>\n",
       "      <td>2.000000</td>\n",
       "    </tr>\n",
       "    <tr>\n",
       "      <th>max</th>\n",
       "      <td>180.000000</td>\n",
       "      <td>40.766125</td>\n",
       "      <td>41.366138</td>\n",
       "      <td>40.802437</td>\n",
       "      <td>41.366138</td>\n",
       "      <td>6.000000</td>\n",
       "    </tr>\n",
       "  </tbody>\n",
       "</table>\n",
       "</div>"
      ],
      "text/plain": [
       "        fare_amount  pickup_longitude  pickup_latitude  dropoff_longitude  \\\n",
       "count  15901.000000      15901.000000     15901.000000       15901.000000   \n",
       "mean      11.320987        -72.474889        39.898732         -72.465149   \n",
       "std        9.668455         10.538776         6.186797          10.566703   \n",
       "min        0.000000        -74.438233       -74.006893         -74.429332   \n",
       "25%        6.000000        -73.992142        40.734948         -73.991181   \n",
       "50%        8.500000        -73.981689        40.752633         -73.980158   \n",
       "75%       12.500000        -73.966802        40.767382         -73.963643   \n",
       "max      180.000000         40.766125        41.366138          40.802437   \n",
       "\n",
       "       dropoff_latitude  passenger_count  \n",
       "count      15901.000000     15901.000000  \n",
       "mean          39.899262         1.649645  \n",
       "std            6.186423         1.265884  \n",
       "min          -74.006377         1.000000  \n",
       "25%           40.734714         1.000000  \n",
       "50%           40.753565         1.000000  \n",
       "75%           40.768016         2.000000  \n",
       "max           41.366138         6.000000  "
      ]
     },
     "execution_count": 45,
     "metadata": {},
     "output_type": "execute_result"
    }
   ],
   "source": [
    "train.describe()"
   ]
  },
  {
   "cell_type": "code",
   "execution_count": 46,
   "metadata": {},
   "outputs": [
    {
     "data": {
      "text/plain": [
       "fare_amount                 float64\n",
       "pickup_datetime      datetime64[ns]\n",
       "pickup_longitude            float64\n",
       "pickup_latitude             float64\n",
       "dropoff_longitude           float64\n",
       "dropoff_latitude            float64\n",
       "passenger_count               int64\n",
       "dtype: object"
      ]
     },
     "execution_count": 46,
     "metadata": {},
     "output_type": "execute_result"
    }
   ],
   "source": [
    "train.dtypes"
   ]
  },
  {
   "cell_type": "code",
   "execution_count": 47,
   "metadata": {},
   "outputs": [
    {
     "data": {
      "text/plain": [
       "pickup_datetime      datetime64[ns]\n",
       "pickup_longitude            float64\n",
       "pickup_latitude             float64\n",
       "dropoff_longitude           float64\n",
       "dropoff_latitude            float64\n",
       "passenger_count               int64\n",
       "dtype: object"
      ]
     },
     "execution_count": 47,
     "metadata": {},
     "output_type": "execute_result"
    }
   ],
   "source": [
    "test.dtypes"
   ]
  },
  {
   "cell_type": "code",
   "execution_count": 48,
   "metadata": {},
   "outputs": [],
   "source": [
    "# Now, for EDA. The following are my considerations -\n",
    "\n",
    "# Does the number of passengers affect the fare?\n",
    "# Does the date and time of pickup affect the fare?\n",
    "# Does the day of the week affect the fare?\n",
    "# Does the distance travelled affect the fare?\n",
    "# First, let's split the datetime field 'pickup_datetime' to the following -\n",
    "\n",
    "# year\n",
    "# month\n",
    "# date\n",
    "# hour\n",
    "# day of week\n",
    "# Using these we shall calculate the day of the week and come to our conclusions about how pickup_location affects the fare. Also, create a new field 'distance' to fetch the distance between the pickup and the drop.\n",
    "\n",
    "# We can calulate the distance in a sphere when latitudes and longitudes are given by Haversine formula\n",
    "\n",
    "# haversine(θ) = sin²(θ/2)\n",
    "\n",
    "# Eventually, the formula boils down to the following where φ is latitude, λ is longitude, R is earth’s radius (mean radius = 6,371km) to include latitude and longitude coordinates (A and B in this case).\n",
    "\n",
    "# a = sin²((φB - φA)/2) + cos φA . cos φB . sin²((λB - λA)/2)\n",
    "\n",
    "# c = 2 * atan2( √a, √(1−a) )\n",
    "\n",
    "# d = R ⋅ c\n",
    "\n",
    "# d = Haversine distance"
   ]
  },
  {
   "cell_type": "code",
   "execution_count": 49,
   "metadata": {},
   "outputs": [],
   "source": [
    "def haversine_distance(lat1, long1, lat2, long2):\n",
    "    data = [train, test]\n",
    "    for i in data:\n",
    "        radius_of_earth = 6371\n",
    "        phi1 = np.radians(i[lat1])\n",
    "        phi2 = np.radians(i[lat2])\n",
    "        \n",
    "        delta_phi = np.radians(i[lat2] - i[lat1])\n",
    "        delta_lambda = np.radians(i[long2] - i[long1])\n",
    "        \n",
    "        a = np.sin(delta_phi / 2.0) ** 2 + np.cos(phi1) * np.cos(phi2) * np.sin(delta_lambda / 2.0) ** 2\n",
    "        \n",
    "        c = 2 * np.arctan2(np.sqrt(a), np.sqrt(1-a))\n",
    "        \n",
    "        d = (radius_of_earth * c)\n",
    "        \n",
    "        i['haversine_distance'] = d\n",
    "    return d"
   ]
  },
  {
   "cell_type": "code",
   "execution_count": 50,
   "metadata": {},
   "outputs": [
    {
     "data": {
      "text/plain": [
       "0        2.323259\n",
       "1        2.425353\n",
       "2        0.618628\n",
       "3        1.961033\n",
       "4        5.387301\n",
       "5        3.222549\n",
       "6        0.929601\n",
       "7       21.540102\n",
       "8        3.873962\n",
       "9        1.099794\n",
       "10       2.317685\n",
       "11       4.819179\n",
       "12       0.722670\n",
       "13       1.675503\n",
       "14       2.504032\n",
       "15       5.115375\n",
       "16       0.298838\n",
       "17       2.531147\n",
       "18       0.780444\n",
       "19       0.427282\n",
       "20       1.651946\n",
       "21       1.969211\n",
       "22       1.305441\n",
       "23       1.901295\n",
       "24       5.779720\n",
       "25       1.121687\n",
       "26      14.306540\n",
       "27       9.427870\n",
       "28       1.144529\n",
       "29       4.696371\n",
       "          ...    \n",
       "9884    15.119293\n",
       "9885     5.006239\n",
       "9886     7.376754\n",
       "9887     1.680721\n",
       "9888     0.000000\n",
       "9889     2.377723\n",
       "9890     2.944581\n",
       "9891     5.952839\n",
       "9892     2.950361\n",
       "9893     4.735375\n",
       "9894     3.101361\n",
       "9895     9.000325\n",
       "9896     2.398161\n",
       "9897     5.081664\n",
       "9898     0.555287\n",
       "9899     5.610505\n",
       "9900     1.890608\n",
       "9901     1.530118\n",
       "9902     3.891526\n",
       "9903     2.299316\n",
       "9904    15.091262\n",
       "9905     9.613798\n",
       "9906     0.369506\n",
       "9907     9.923998\n",
       "9908     1.636402\n",
       "9909     2.124874\n",
       "9910     3.270969\n",
       "9911    19.183942\n",
       "9912     8.343486\n",
       "9913     1.180825\n",
       "Length: 9914, dtype: float64"
      ]
     },
     "execution_count": 50,
     "metadata": {},
     "output_type": "execute_result"
    }
   ],
   "source": [
    "haversine_distance('pickup_latitude', 'pickup_longitude', 'dropoff_latitude', 'dropoff_longitude')"
   ]
  },
  {
   "cell_type": "code",
   "execution_count": 51,
   "metadata": {},
   "outputs": [
    {
     "data": {
      "text/html": [
       "<div>\n",
       "<style scoped>\n",
       "    .dataframe tbody tr th:only-of-type {\n",
       "        vertical-align: middle;\n",
       "    }\n",
       "\n",
       "    .dataframe tbody tr th {\n",
       "        vertical-align: top;\n",
       "    }\n",
       "\n",
       "    .dataframe thead th {\n",
       "        text-align: right;\n",
       "    }\n",
       "</style>\n",
       "<table border=\"1\" class=\"dataframe\">\n",
       "  <thead>\n",
       "    <tr style=\"text-align: right;\">\n",
       "      <th></th>\n",
       "      <th>fare_amount</th>\n",
       "      <th>pickup_datetime</th>\n",
       "      <th>pickup_longitude</th>\n",
       "      <th>pickup_latitude</th>\n",
       "      <th>dropoff_longitude</th>\n",
       "      <th>dropoff_latitude</th>\n",
       "      <th>passenger_count</th>\n",
       "      <th>haversine_distance</th>\n",
       "    </tr>\n",
       "  </thead>\n",
       "  <tbody>\n",
       "    <tr>\n",
       "      <th>0</th>\n",
       "      <td>4.5</td>\n",
       "      <td>2009-06-15 17:26:21</td>\n",
       "      <td>-73.844311</td>\n",
       "      <td>40.721319</td>\n",
       "      <td>-73.841610</td>\n",
       "      <td>40.712278</td>\n",
       "      <td>1</td>\n",
       "      <td>1.030764</td>\n",
       "    </tr>\n",
       "    <tr>\n",
       "      <th>1</th>\n",
       "      <td>16.9</td>\n",
       "      <td>2010-01-05 16:52:16</td>\n",
       "      <td>-74.016048</td>\n",
       "      <td>40.711303</td>\n",
       "      <td>-73.979268</td>\n",
       "      <td>40.782004</td>\n",
       "      <td>1</td>\n",
       "      <td>8.450134</td>\n",
       "    </tr>\n",
       "    <tr>\n",
       "      <th>2</th>\n",
       "      <td>5.7</td>\n",
       "      <td>2011-08-18 00:35:00</td>\n",
       "      <td>-73.982738</td>\n",
       "      <td>40.761270</td>\n",
       "      <td>-73.991242</td>\n",
       "      <td>40.750562</td>\n",
       "      <td>2</td>\n",
       "      <td>1.389525</td>\n",
       "    </tr>\n",
       "    <tr>\n",
       "      <th>3</th>\n",
       "      <td>7.7</td>\n",
       "      <td>2012-04-21 04:30:42</td>\n",
       "      <td>-73.987130</td>\n",
       "      <td>40.733143</td>\n",
       "      <td>-73.991567</td>\n",
       "      <td>40.758092</td>\n",
       "      <td>1</td>\n",
       "      <td>2.799270</td>\n",
       "    </tr>\n",
       "    <tr>\n",
       "      <th>4</th>\n",
       "      <td>5.3</td>\n",
       "      <td>2010-03-09 07:51:00</td>\n",
       "      <td>-73.968095</td>\n",
       "      <td>40.768008</td>\n",
       "      <td>-73.956655</td>\n",
       "      <td>40.783762</td>\n",
       "      <td>1</td>\n",
       "      <td>1.999157</td>\n",
       "    </tr>\n",
       "  </tbody>\n",
       "</table>\n",
       "</div>"
      ],
      "text/plain": [
       "   fare_amount     pickup_datetime  pickup_longitude  pickup_latitude  \\\n",
       "0          4.5 2009-06-15 17:26:21        -73.844311        40.721319   \n",
       "1         16.9 2010-01-05 16:52:16        -74.016048        40.711303   \n",
       "2          5.7 2011-08-18 00:35:00        -73.982738        40.761270   \n",
       "3          7.7 2012-04-21 04:30:42        -73.987130        40.733143   \n",
       "4          5.3 2010-03-09 07:51:00        -73.968095        40.768008   \n",
       "\n",
       "   dropoff_longitude  dropoff_latitude  passenger_count  haversine_distance  \n",
       "0         -73.841610         40.712278                1            1.030764  \n",
       "1         -73.979268         40.782004                1            8.450134  \n",
       "2         -73.991242         40.750562                2            1.389525  \n",
       "3         -73.991567         40.758092                1            2.799270  \n",
       "4         -73.956655         40.783762                1            1.999157  "
      ]
     },
     "execution_count": 51,
     "metadata": {},
     "output_type": "execute_result"
    }
   ],
   "source": [
    "train.head()"
   ]
  },
  {
   "cell_type": "code",
   "execution_count": 52,
   "metadata": {},
   "outputs": [
    {
     "data": {
      "text/html": [
       "<div>\n",
       "<style scoped>\n",
       "    .dataframe tbody tr th:only-of-type {\n",
       "        vertical-align: middle;\n",
       "    }\n",
       "\n",
       "    .dataframe tbody tr th {\n",
       "        vertical-align: top;\n",
       "    }\n",
       "\n",
       "    .dataframe thead th {\n",
       "        text-align: right;\n",
       "    }\n",
       "</style>\n",
       "<table border=\"1\" class=\"dataframe\">\n",
       "  <thead>\n",
       "    <tr style=\"text-align: right;\">\n",
       "      <th></th>\n",
       "      <th>pickup_datetime</th>\n",
       "      <th>pickup_longitude</th>\n",
       "      <th>pickup_latitude</th>\n",
       "      <th>dropoff_longitude</th>\n",
       "      <th>dropoff_latitude</th>\n",
       "      <th>passenger_count</th>\n",
       "      <th>haversine_distance</th>\n",
       "    </tr>\n",
       "  </thead>\n",
       "  <tbody>\n",
       "    <tr>\n",
       "      <th>0</th>\n",
       "      <td>2015-01-27 13:08:24</td>\n",
       "      <td>-73.973320</td>\n",
       "      <td>40.763805</td>\n",
       "      <td>-73.981430</td>\n",
       "      <td>40.743835</td>\n",
       "      <td>1</td>\n",
       "      <td>2.323259</td>\n",
       "    </tr>\n",
       "    <tr>\n",
       "      <th>1</th>\n",
       "      <td>2015-01-27 13:08:24</td>\n",
       "      <td>-73.986862</td>\n",
       "      <td>40.719383</td>\n",
       "      <td>-73.998886</td>\n",
       "      <td>40.739201</td>\n",
       "      <td>1</td>\n",
       "      <td>2.425353</td>\n",
       "    </tr>\n",
       "    <tr>\n",
       "      <th>2</th>\n",
       "      <td>2011-10-08 11:53:44</td>\n",
       "      <td>-73.982524</td>\n",
       "      <td>40.751260</td>\n",
       "      <td>-73.979654</td>\n",
       "      <td>40.746139</td>\n",
       "      <td>1</td>\n",
       "      <td>0.618628</td>\n",
       "    </tr>\n",
       "    <tr>\n",
       "      <th>3</th>\n",
       "      <td>2012-12-01 21:12:12</td>\n",
       "      <td>-73.981160</td>\n",
       "      <td>40.767807</td>\n",
       "      <td>-73.990448</td>\n",
       "      <td>40.751635</td>\n",
       "      <td>1</td>\n",
       "      <td>1.961033</td>\n",
       "    </tr>\n",
       "    <tr>\n",
       "      <th>4</th>\n",
       "      <td>2012-12-01 21:12:12</td>\n",
       "      <td>-73.966046</td>\n",
       "      <td>40.789775</td>\n",
       "      <td>-73.988565</td>\n",
       "      <td>40.744427</td>\n",
       "      <td>1</td>\n",
       "      <td>5.387301</td>\n",
       "    </tr>\n",
       "  </tbody>\n",
       "</table>\n",
       "</div>"
      ],
      "text/plain": [
       "      pickup_datetime  pickup_longitude  pickup_latitude  dropoff_longitude  \\\n",
       "0 2015-01-27 13:08:24        -73.973320        40.763805         -73.981430   \n",
       "1 2015-01-27 13:08:24        -73.986862        40.719383         -73.998886   \n",
       "2 2011-10-08 11:53:44        -73.982524        40.751260         -73.979654   \n",
       "3 2012-12-01 21:12:12        -73.981160        40.767807         -73.990448   \n",
       "4 2012-12-01 21:12:12        -73.966046        40.789775         -73.988565   \n",
       "\n",
       "   dropoff_latitude  passenger_count  haversine_distance  \n",
       "0         40.743835                1            2.323259  \n",
       "1         40.739201                1            2.425353  \n",
       "2         40.746139                1            0.618628  \n",
       "3         40.751635                1            1.961033  \n",
       "4         40.744427                1            5.387301  "
      ]
     },
     "execution_count": 52,
     "metadata": {},
     "output_type": "execute_result"
    }
   ],
   "source": [
    "test.head()"
   ]
  },
  {
   "cell_type": "code",
   "execution_count": 53,
   "metadata": {},
   "outputs": [],
   "source": [
    "# Now that we have calculated the distance, we shall create columns for the following -\n",
    "\n",
    "# year\n",
    "# month\n",
    "# date\n",
    "# hour\n",
    "# day of week"
   ]
  },
  {
   "cell_type": "code",
   "execution_count": 54,
   "metadata": {},
   "outputs": [],
   "source": [
    "data = [train, test]\n",
    "for i in data:\n",
    "    i['year'] = i['pickup_datetime'].dt.year\n",
    "    i['month'] = i['pickup_datetime'].dt.month\n",
    "    i['date'] = i['pickup_datetime'].dt.day\n",
    "    i['day_of_week'] = i['pickup_datetime'].dt.dayofweek\n",
    "    i['hour'] = i['pickup_datetime'].dt.hour"
   ]
  },
  {
   "cell_type": "code",
   "execution_count": 55,
   "metadata": {},
   "outputs": [],
   "source": [
    "#Dropping NaN values from the data\n",
    "train.drop(train[train.year.isnull()].index,axis=0,inplace=True)"
   ]
  },
  {
   "cell_type": "code",
   "execution_count": 56,
   "metadata": {},
   "outputs": [],
   "source": [
    "# Lets drop pickup_datetime as we have splitted it into multiple columns.\n",
    "train.drop('pickup_datetime',axis=1,inplace=True)\n",
    "test.drop('pickup_datetime',axis=1,inplace=True)"
   ]
  },
  {
   "cell_type": "code",
   "execution_count": 57,
   "metadata": {},
   "outputs": [
    {
     "data": {
      "text/html": [
       "<div>\n",
       "<style scoped>\n",
       "    .dataframe tbody tr th:only-of-type {\n",
       "        vertical-align: middle;\n",
       "    }\n",
       "\n",
       "    .dataframe tbody tr th {\n",
       "        vertical-align: top;\n",
       "    }\n",
       "\n",
       "    .dataframe thead th {\n",
       "        text-align: right;\n",
       "    }\n",
       "</style>\n",
       "<table border=\"1\" class=\"dataframe\">\n",
       "  <thead>\n",
       "    <tr style=\"text-align: right;\">\n",
       "      <th></th>\n",
       "      <th>fare_amount</th>\n",
       "      <th>pickup_longitude</th>\n",
       "      <th>pickup_latitude</th>\n",
       "      <th>dropoff_longitude</th>\n",
       "      <th>dropoff_latitude</th>\n",
       "      <th>passenger_count</th>\n",
       "      <th>haversine_distance</th>\n",
       "      <th>year</th>\n",
       "      <th>month</th>\n",
       "      <th>date</th>\n",
       "      <th>day_of_week</th>\n",
       "      <th>hour</th>\n",
       "    </tr>\n",
       "  </thead>\n",
       "  <tbody>\n",
       "    <tr>\n",
       "      <th>0</th>\n",
       "      <td>4.5</td>\n",
       "      <td>-73.844311</td>\n",
       "      <td>40.721319</td>\n",
       "      <td>-73.841610</td>\n",
       "      <td>40.712278</td>\n",
       "      <td>1</td>\n",
       "      <td>1.030764</td>\n",
       "      <td>2009.0</td>\n",
       "      <td>6.0</td>\n",
       "      <td>15.0</td>\n",
       "      <td>0.0</td>\n",
       "      <td>17.0</td>\n",
       "    </tr>\n",
       "    <tr>\n",
       "      <th>1</th>\n",
       "      <td>16.9</td>\n",
       "      <td>-74.016048</td>\n",
       "      <td>40.711303</td>\n",
       "      <td>-73.979268</td>\n",
       "      <td>40.782004</td>\n",
       "      <td>1</td>\n",
       "      <td>8.450134</td>\n",
       "      <td>2010.0</td>\n",
       "      <td>1.0</td>\n",
       "      <td>5.0</td>\n",
       "      <td>1.0</td>\n",
       "      <td>16.0</td>\n",
       "    </tr>\n",
       "    <tr>\n",
       "      <th>2</th>\n",
       "      <td>5.7</td>\n",
       "      <td>-73.982738</td>\n",
       "      <td>40.761270</td>\n",
       "      <td>-73.991242</td>\n",
       "      <td>40.750562</td>\n",
       "      <td>2</td>\n",
       "      <td>1.389525</td>\n",
       "      <td>2011.0</td>\n",
       "      <td>8.0</td>\n",
       "      <td>18.0</td>\n",
       "      <td>3.0</td>\n",
       "      <td>0.0</td>\n",
       "    </tr>\n",
       "    <tr>\n",
       "      <th>3</th>\n",
       "      <td>7.7</td>\n",
       "      <td>-73.987130</td>\n",
       "      <td>40.733143</td>\n",
       "      <td>-73.991567</td>\n",
       "      <td>40.758092</td>\n",
       "      <td>1</td>\n",
       "      <td>2.799270</td>\n",
       "      <td>2012.0</td>\n",
       "      <td>4.0</td>\n",
       "      <td>21.0</td>\n",
       "      <td>5.0</td>\n",
       "      <td>4.0</td>\n",
       "    </tr>\n",
       "    <tr>\n",
       "      <th>4</th>\n",
       "      <td>5.3</td>\n",
       "      <td>-73.968095</td>\n",
       "      <td>40.768008</td>\n",
       "      <td>-73.956655</td>\n",
       "      <td>40.783762</td>\n",
       "      <td>1</td>\n",
       "      <td>1.999157</td>\n",
       "      <td>2010.0</td>\n",
       "      <td>3.0</td>\n",
       "      <td>9.0</td>\n",
       "      <td>1.0</td>\n",
       "      <td>7.0</td>\n",
       "    </tr>\n",
       "  </tbody>\n",
       "</table>\n",
       "</div>"
      ],
      "text/plain": [
       "   fare_amount  pickup_longitude  pickup_latitude  dropoff_longitude  \\\n",
       "0          4.5        -73.844311        40.721319         -73.841610   \n",
       "1         16.9        -74.016048        40.711303         -73.979268   \n",
       "2          5.7        -73.982738        40.761270         -73.991242   \n",
       "3          7.7        -73.987130        40.733143         -73.991567   \n",
       "4          5.3        -73.968095        40.768008         -73.956655   \n",
       "\n",
       "   dropoff_latitude  passenger_count  haversine_distance    year  month  date  \\\n",
       "0         40.712278                1            1.030764  2009.0    6.0  15.0   \n",
       "1         40.782004                1            8.450134  2010.0    1.0   5.0   \n",
       "2         40.750562                2            1.389525  2011.0    8.0  18.0   \n",
       "3         40.758092                1            2.799270  2012.0    4.0  21.0   \n",
       "4         40.783762                1            1.999157  2010.0    3.0   9.0   \n",
       "\n",
       "   day_of_week  hour  \n",
       "0          0.0  17.0  \n",
       "1          1.0  16.0  \n",
       "2          3.0   0.0  \n",
       "3          5.0   4.0  \n",
       "4          1.0   7.0  "
      ]
     },
     "execution_count": 57,
     "metadata": {},
     "output_type": "execute_result"
    }
   ],
   "source": [
    "train.head()"
   ]
  },
  {
   "cell_type": "code",
   "execution_count": 58,
   "metadata": {},
   "outputs": [
    {
     "data": {
      "text/html": [
       "<div>\n",
       "<style scoped>\n",
       "    .dataframe tbody tr th:only-of-type {\n",
       "        vertical-align: middle;\n",
       "    }\n",
       "\n",
       "    .dataframe tbody tr th {\n",
       "        vertical-align: top;\n",
       "    }\n",
       "\n",
       "    .dataframe thead th {\n",
       "        text-align: right;\n",
       "    }\n",
       "</style>\n",
       "<table border=\"1\" class=\"dataframe\">\n",
       "  <thead>\n",
       "    <tr style=\"text-align: right;\">\n",
       "      <th></th>\n",
       "      <th>pickup_longitude</th>\n",
       "      <th>pickup_latitude</th>\n",
       "      <th>dropoff_longitude</th>\n",
       "      <th>dropoff_latitude</th>\n",
       "      <th>passenger_count</th>\n",
       "      <th>haversine_distance</th>\n",
       "      <th>year</th>\n",
       "      <th>month</th>\n",
       "      <th>date</th>\n",
       "      <th>day_of_week</th>\n",
       "      <th>hour</th>\n",
       "    </tr>\n",
       "  </thead>\n",
       "  <tbody>\n",
       "    <tr>\n",
       "      <th>0</th>\n",
       "      <td>-73.973320</td>\n",
       "      <td>40.763805</td>\n",
       "      <td>-73.981430</td>\n",
       "      <td>40.743835</td>\n",
       "      <td>1</td>\n",
       "      <td>2.323259</td>\n",
       "      <td>2015</td>\n",
       "      <td>1</td>\n",
       "      <td>27</td>\n",
       "      <td>1</td>\n",
       "      <td>13</td>\n",
       "    </tr>\n",
       "    <tr>\n",
       "      <th>1</th>\n",
       "      <td>-73.986862</td>\n",
       "      <td>40.719383</td>\n",
       "      <td>-73.998886</td>\n",
       "      <td>40.739201</td>\n",
       "      <td>1</td>\n",
       "      <td>2.425353</td>\n",
       "      <td>2015</td>\n",
       "      <td>1</td>\n",
       "      <td>27</td>\n",
       "      <td>1</td>\n",
       "      <td>13</td>\n",
       "    </tr>\n",
       "    <tr>\n",
       "      <th>2</th>\n",
       "      <td>-73.982524</td>\n",
       "      <td>40.751260</td>\n",
       "      <td>-73.979654</td>\n",
       "      <td>40.746139</td>\n",
       "      <td>1</td>\n",
       "      <td>0.618628</td>\n",
       "      <td>2011</td>\n",
       "      <td>10</td>\n",
       "      <td>8</td>\n",
       "      <td>5</td>\n",
       "      <td>11</td>\n",
       "    </tr>\n",
       "    <tr>\n",
       "      <th>3</th>\n",
       "      <td>-73.981160</td>\n",
       "      <td>40.767807</td>\n",
       "      <td>-73.990448</td>\n",
       "      <td>40.751635</td>\n",
       "      <td>1</td>\n",
       "      <td>1.961033</td>\n",
       "      <td>2012</td>\n",
       "      <td>12</td>\n",
       "      <td>1</td>\n",
       "      <td>5</td>\n",
       "      <td>21</td>\n",
       "    </tr>\n",
       "    <tr>\n",
       "      <th>4</th>\n",
       "      <td>-73.966046</td>\n",
       "      <td>40.789775</td>\n",
       "      <td>-73.988565</td>\n",
       "      <td>40.744427</td>\n",
       "      <td>1</td>\n",
       "      <td>5.387301</td>\n",
       "      <td>2012</td>\n",
       "      <td>12</td>\n",
       "      <td>1</td>\n",
       "      <td>5</td>\n",
       "      <td>21</td>\n",
       "    </tr>\n",
       "  </tbody>\n",
       "</table>\n",
       "</div>"
      ],
      "text/plain": [
       "   pickup_longitude  pickup_latitude  dropoff_longitude  dropoff_latitude  \\\n",
       "0        -73.973320        40.763805         -73.981430         40.743835   \n",
       "1        -73.986862        40.719383         -73.998886         40.739201   \n",
       "2        -73.982524        40.751260         -73.979654         40.746139   \n",
       "3        -73.981160        40.767807         -73.990448         40.751635   \n",
       "4        -73.966046        40.789775         -73.988565         40.744427   \n",
       "\n",
       "   passenger_count  haversine_distance  year  month  date  day_of_week  hour  \n",
       "0                1            2.323259  2015      1    27            1    13  \n",
       "1                1            2.425353  2015      1    27            1    13  \n",
       "2                1            0.618628  2011     10     8            5    11  \n",
       "3                1            1.961033  2012     12     1            5    21  \n",
       "4                1            5.387301  2012     12     1            5    21  "
      ]
     },
     "execution_count": 58,
     "metadata": {},
     "output_type": "execute_result"
    }
   ],
   "source": [
    "test.head()"
   ]
  },
  {
   "cell_type": "markdown",
   "metadata": {},
   "source": [
    "### 1. Does number of passengers affect the fare?"
   ]
  },
  {
   "cell_type": "code",
   "execution_count": 59,
   "metadata": {},
   "outputs": [
    {
     "data": {
      "image/png": "[encoded data removed]",
      "text/plain": [
       "<Figure size 1080x504 with 1 Axes>"
      ]
     },
     "metadata": {
      "needs_background": "light"
     },
     "output_type": "display_data"
    }
   ],
   "source": [
    "plt.figure(figsize=(15,7))\n",
    "plt.scatter(x=train['passenger_count'], y=train['fare_amount'], s=1.5)\n",
    "plt.xlabel('No. of passengers')\n",
    "plt.ylabel('Fare')\n",
    "plt.show()"
   ]
  },
  {
   "cell_type": "markdown",
   "metadata": {},
   "source": [
    "From the above graph we can see that single passengers are the most frequent travellers, and the highest fare also seems to come from cabs which carry just 1 passenger."
   ]
  },
  {
   "cell_type": "markdown",
   "metadata": {},
   "source": [
    "### 2. Does the date and time of pickup affect the fare?"
   ]
  },
  {
   "cell_type": "code",
   "execution_count": 60,
   "metadata": {},
   "outputs": [
    {
     "data": {
      "image/png": "[encoded data removed]",
      "text/plain": [
       "<Figure size 1080x504 with 1 Axes>"
      ]
     },
     "metadata": {
      "needs_background": "light"
     },
     "output_type": "display_data"
    }
   ],
   "source": [
    "plt.figure(figsize=(15,7))\n",
    "plt.scatter(x=train['date'], y=train['fare_amount'], s=1.5)\n",
    "plt.xlabel('Date')\n",
    "plt.ylabel('Fare')\n",
    "plt.show()"
   ]
  },
  {
   "cell_type": "markdown",
   "metadata": {},
   "source": [
    "The fare throughout the month is mostly uniform."
   ]
  },
  {
   "cell_type": "code",
   "execution_count": 61,
   "metadata": {},
   "outputs": [
    {
     "data": {
      "image/png": "[encoded data removed]",
      "text/plain": [
       "<Figure size 1080x504 with 1 Axes>"
      ]
     },
     "metadata": {
      "needs_background": "light"
     },
     "output_type": "display_data"
    }
   ],
   "source": [
    "plt.figure(figsize=(15,7))\n",
    "plt.hist(train['hour'], bins=100)\n",
    "plt.xlabel('Hour')\n",
    "plt.ylabel('Frequency')\n",
    "plt.show();"
   ]
  },
  {
   "cell_type": "markdown",
   "metadata": {},
   "source": [
    "The frequency of cab rides is lowest at 5AM and highest at 7PM"
   ]
  },
  {
   "cell_type": "code",
   "execution_count": 62,
   "metadata": {},
   "outputs": [
    {
     "data": {
      "image/png": "[encoded data removed]",
      "text/plain": [
       "<Figure size 1080x504 with 1 Axes>"
      ]
     },
     "metadata": {
      "needs_background": "light"
     },
     "output_type": "display_data"
    }
   ],
   "source": [
    "plt.figure(figsize=(15,7))\n",
    "plt.scatter(train['hour'], train['fare_amount'], s=1.5)\n",
    "plt.xlabel('Hour')\n",
    "plt.ylabel('Fare')\n",
    "plt.show();"
   ]
  },
  {
   "cell_type": "markdown",
   "metadata": {},
   "source": [
    "The fare seems high after 8PM and before 2PM"
   ]
  },
  {
   "cell_type": "markdown",
   "metadata": {},
   "source": [
    "### 3. Does the day of the week affect the fare?"
   ]
  },
  {
   "cell_type": "code",
   "execution_count": 63,
   "metadata": {},
   "outputs": [
    {
     "data": {
      "image/png": "[encoded data removed]",
      "text/plain": [
       "<Figure size 1080x504 with 1 Axes>"
      ]
     },
     "metadata": {
      "needs_background": "light"
     },
     "output_type": "display_data"
    }
   ],
   "source": [
    "plt.figure(figsize=(15,7))\n",
    "plt.hist(train['day_of_week'], bins=100)\n",
    "plt.xlabel('Day of Week')\n",
    "plt.ylabel('Frequency')\n",
    "plt.show();"
   ]
  },
  {
   "cell_type": "code",
   "execution_count": 64,
   "metadata": {},
   "outputs": [
    {
     "data": {
      "image/png": "[encoded data removed]",
      "text/plain": [
       "<Figure size 1080x504 with 1 Axes>"
      ]
     },
     "metadata": {
      "needs_background": "light"
     },
     "output_type": "display_data"
    }
   ],
   "source": [
    "plt.figure(figsize=(15,7))\n",
    "plt.scatter(x=train['day_of_week'], y=train['fare_amount'], s=1.5)\n",
    "plt.xlabel('Day of Week')\n",
    "plt.ylabel('Fare')\n",
    "plt.show();"
   ]
  },
  {
   "cell_type": "markdown",
   "metadata": {},
   "source": [
    "The highest fare seems to be on Tuesday. Also, Thursday has good amount of high fare cab rides."
   ]
  },
  {
   "cell_type": "markdown",
   "metadata": {},
   "source": [
    "### 4. Does the distance affect the fare?"
   ]
  },
  {
   "cell_type": "code",
   "execution_count": 65,
   "metadata": {},
   "outputs": [
    {
     "data": {
      "text/html": [
       "<div>\n",
       "<style scoped>\n",
       "    .dataframe tbody tr th:only-of-type {\n",
       "        vertical-align: middle;\n",
       "    }\n",
       "\n",
       "    .dataframe tbody tr th {\n",
       "        vertical-align: top;\n",
       "    }\n",
       "\n",
       "    .dataframe thead th {\n",
       "        text-align: right;\n",
       "    }\n",
       "</style>\n",
       "<table border=\"1\" class=\"dataframe\">\n",
       "  <thead>\n",
       "    <tr style=\"text-align: right;\">\n",
       "      <th></th>\n",
       "      <th>fare_amount</th>\n",
       "      <th>pickup_longitude</th>\n",
       "      <th>pickup_latitude</th>\n",
       "      <th>dropoff_longitude</th>\n",
       "      <th>dropoff_latitude</th>\n",
       "      <th>passenger_count</th>\n",
       "      <th>haversine_distance</th>\n",
       "      <th>year</th>\n",
       "      <th>month</th>\n",
       "      <th>date</th>\n",
       "      <th>day_of_week</th>\n",
       "      <th>hour</th>\n",
       "    </tr>\n",
       "  </thead>\n",
       "  <tbody>\n",
       "    <tr>\n",
       "      <th>472</th>\n",
       "      <td>2.50</td>\n",
       "      <td>0.000000</td>\n",
       "      <td>0.000000</td>\n",
       "      <td>-74.005433</td>\n",
       "      <td>40.726685</td>\n",
       "      <td>2</td>\n",
       "      <td>8667.304968</td>\n",
       "      <td>2009.0</td>\n",
       "      <td>2.0</td>\n",
       "      <td>22.0</td>\n",
       "      <td>6.0</td>\n",
       "      <td>22.0</td>\n",
       "    </tr>\n",
       "    <tr>\n",
       "      <th>1260</th>\n",
       "      <td>5.70</td>\n",
       "      <td>-73.973907</td>\n",
       "      <td>40.754743</td>\n",
       "      <td>0.000000</td>\n",
       "      <td>0.000000</td>\n",
       "      <td>2</td>\n",
       "      <td>8665.268588</td>\n",
       "      <td>2011.0</td>\n",
       "      <td>3.0</td>\n",
       "      <td>10.0</td>\n",
       "      <td>3.0</td>\n",
       "      <td>20.0</td>\n",
       "    </tr>\n",
       "    <tr>\n",
       "      <th>2280</th>\n",
       "      <td>8.90</td>\n",
       "      <td>-73.936667</td>\n",
       "      <td>40.757815</td>\n",
       "      <td>0.000000</td>\n",
       "      <td>40.757815</td>\n",
       "      <td>1</td>\n",
       "      <td>6026.494216</td>\n",
       "      <td>2011.0</td>\n",
       "      <td>8.0</td>\n",
       "      <td>29.0</td>\n",
       "      <td>0.0</td>\n",
       "      <td>8.0</td>\n",
       "    </tr>\n",
       "    <tr>\n",
       "      <th>2397</th>\n",
       "      <td>45.00</td>\n",
       "      <td>0.000000</td>\n",
       "      <td>0.000000</td>\n",
       "      <td>-74.010230</td>\n",
       "      <td>40.714553</td>\n",
       "      <td>2</td>\n",
       "      <td>8667.454421</td>\n",
       "      <td>2012.0</td>\n",
       "      <td>6.0</td>\n",
       "      <td>24.0</td>\n",
       "      <td>6.0</td>\n",
       "      <td>17.0</td>\n",
       "    </tr>\n",
       "    <tr>\n",
       "      <th>4278</th>\n",
       "      <td>7.00</td>\n",
       "      <td>-73.972702</td>\n",
       "      <td>40.757423</td>\n",
       "      <td>0.000000</td>\n",
       "      <td>0.000000</td>\n",
       "      <td>1</td>\n",
       "      <td>8665.223767</td>\n",
       "      <td>2015.0</td>\n",
       "      <td>4.0</td>\n",
       "      <td>7.0</td>\n",
       "      <td>1.0</td>\n",
       "      <td>23.0</td>\n",
       "    </tr>\n",
       "    <tr>\n",
       "      <th>4597</th>\n",
       "      <td>6.90</td>\n",
       "      <td>0.000000</td>\n",
       "      <td>0.000000</td>\n",
       "      <td>-73.989693</td>\n",
       "      <td>40.754280</td>\n",
       "      <td>1</td>\n",
       "      <td>8666.566030</td>\n",
       "      <td>2010.0</td>\n",
       "      <td>3.0</td>\n",
       "      <td>30.0</td>\n",
       "      <td>1.0</td>\n",
       "      <td>7.0</td>\n",
       "    </tr>\n",
       "    <tr>\n",
       "      <th>5864</th>\n",
       "      <td>8.50</td>\n",
       "      <td>-73.995030</td>\n",
       "      <td>40.744945</td>\n",
       "      <td>-7.986640</td>\n",
       "      <td>40.729937</td>\n",
       "      <td>1</td>\n",
       "      <td>5420.988959</td>\n",
       "      <td>2012.0</td>\n",
       "      <td>3.0</td>\n",
       "      <td>4.0</td>\n",
       "      <td>6.0</td>\n",
       "      <td>1.0</td>\n",
       "    </tr>\n",
       "    <tr>\n",
       "      <th>6188</th>\n",
       "      <td>15.50</td>\n",
       "      <td>0.000000</td>\n",
       "      <td>0.000000</td>\n",
       "      <td>-73.952980</td>\n",
       "      <td>40.786670</td>\n",
       "      <td>5</td>\n",
       "      <td>8664.191488</td>\n",
       "      <td>2014.0</td>\n",
       "      <td>7.0</td>\n",
       "      <td>28.0</td>\n",
       "      <td>0.0</td>\n",
       "      <td>15.0</td>\n",
       "    </tr>\n",
       "    <tr>\n",
       "      <th>6302</th>\n",
       "      <td>16.50</td>\n",
       "      <td>0.000000</td>\n",
       "      <td>0.000000</td>\n",
       "      <td>-73.936600</td>\n",
       "      <td>40.796543</td>\n",
       "      <td>1</td>\n",
       "      <td>8663.039123</td>\n",
       "      <td>2015.0</td>\n",
       "      <td>2.0</td>\n",
       "      <td>27.0</td>\n",
       "      <td>4.0</td>\n",
       "      <td>16.0</td>\n",
       "    </tr>\n",
       "    <tr>\n",
       "      <th>7014</th>\n",
       "      <td>4.50</td>\n",
       "      <td>-73.988980</td>\n",
       "      <td>40.721697</td>\n",
       "      <td>-74.001073</td>\n",
       "      <td>0.728087</td>\n",
       "      <td>3</td>\n",
       "      <td>4447.086698</td>\n",
       "      <td>2011.0</td>\n",
       "      <td>6.0</td>\n",
       "      <td>18.0</td>\n",
       "      <td>5.0</td>\n",
       "      <td>4.0</td>\n",
       "    </tr>\n",
       "    <tr>\n",
       "      <th>8647</th>\n",
       "      <td>21.50</td>\n",
       "      <td>-74.001808</td>\n",
       "      <td>40.750782</td>\n",
       "      <td>0.000000</td>\n",
       "      <td>0.000000</td>\n",
       "      <td>1</td>\n",
       "      <td>8667.497512</td>\n",
       "      <td>2014.0</td>\n",
       "      <td>3.0</td>\n",
       "      <td>27.0</td>\n",
       "      <td>3.0</td>\n",
       "      <td>18.0</td>\n",
       "    </tr>\n",
       "    <tr>\n",
       "      <th>9147</th>\n",
       "      <td>8.50</td>\n",
       "      <td>0.000000</td>\n",
       "      <td>0.000000</td>\n",
       "      <td>-74.002037</td>\n",
       "      <td>40.752035</td>\n",
       "      <td>1</td>\n",
       "      <td>8667.542104</td>\n",
       "      <td>2014.0</td>\n",
       "      <td>7.0</td>\n",
       "      <td>14.0</td>\n",
       "      <td>0.0</td>\n",
       "      <td>21.0</td>\n",
       "    </tr>\n",
       "    <tr>\n",
       "      <th>10215</th>\n",
       "      <td>13.30</td>\n",
       "      <td>0.000000</td>\n",
       "      <td>0.000000</td>\n",
       "      <td>-73.990138</td>\n",
       "      <td>40.753392</td>\n",
       "      <td>1</td>\n",
       "      <td>8666.584706</td>\n",
       "      <td>2011.0</td>\n",
       "      <td>3.0</td>\n",
       "      <td>18.0</td>\n",
       "      <td>4.0</td>\n",
       "      <td>9.0</td>\n",
       "    </tr>\n",
       "    <tr>\n",
       "      <th>10458</th>\n",
       "      <td>2.50</td>\n",
       "      <td>-73.979678</td>\n",
       "      <td>40.765962</td>\n",
       "      <td>0.000000</td>\n",
       "      <td>0.000000</td>\n",
       "      <td>1</td>\n",
       "      <td>8665.976222</td>\n",
       "      <td>2013.0</td>\n",
       "      <td>2.0</td>\n",
       "      <td>23.0</td>\n",
       "      <td>5.0</td>\n",
       "      <td>20.0</td>\n",
       "    </tr>\n",
       "    <tr>\n",
       "      <th>10488</th>\n",
       "      <td>5.30</td>\n",
       "      <td>-73.978103</td>\n",
       "      <td>40.751798</td>\n",
       "      <td>0.000000</td>\n",
       "      <td>0.000000</td>\n",
       "      <td>1</td>\n",
       "      <td>8665.555634</td>\n",
       "      <td>2012.0</td>\n",
       "      <td>3.0</td>\n",
       "      <td>15.0</td>\n",
       "      <td>3.0</td>\n",
       "      <td>0.0</td>\n",
       "    </tr>\n",
       "    <tr>\n",
       "      <th>10672</th>\n",
       "      <td>18.00</td>\n",
       "      <td>-73.979355</td>\n",
       "      <td>40.753902</td>\n",
       "      <td>0.000000</td>\n",
       "      <td>0.000000</td>\n",
       "      <td>1</td>\n",
       "      <td>8665.702390</td>\n",
       "      <td>2015.0</td>\n",
       "      <td>4.0</td>\n",
       "      <td>30.0</td>\n",
       "      <td>3.0</td>\n",
       "      <td>15.0</td>\n",
       "    </tr>\n",
       "    <tr>\n",
       "      <th>11653</th>\n",
       "      <td>16.00</td>\n",
       "      <td>0.000000</td>\n",
       "      <td>0.000000</td>\n",
       "      <td>-73.985329</td>\n",
       "      <td>40.778534</td>\n",
       "      <td>1</td>\n",
       "      <td>8666.701504</td>\n",
       "      <td>2015.0</td>\n",
       "      <td>3.0</td>\n",
       "      <td>4.0</td>\n",
       "      <td>2.0</td>\n",
       "      <td>16.0</td>\n",
       "    </tr>\n",
       "    <tr>\n",
       "      <th>12705</th>\n",
       "      <td>2.50</td>\n",
       "      <td>-73.929230</td>\n",
       "      <td>40.744627</td>\n",
       "      <td>0.000000</td>\n",
       "      <td>0.000000</td>\n",
       "      <td>5</td>\n",
       "      <td>8661.362152</td>\n",
       "      <td>2012.0</td>\n",
       "      <td>10.0</td>\n",
       "      <td>31.0</td>\n",
       "      <td>2.0</td>\n",
       "      <td>14.0</td>\n",
       "    </tr>\n",
       "    <tr>\n",
       "      <th>12983</th>\n",
       "      <td>57.33</td>\n",
       "      <td>-73.958870</td>\n",
       "      <td>40.760012</td>\n",
       "      <td>0.000000</td>\n",
       "      <td>0.000000</td>\n",
       "      <td>1</td>\n",
       "      <td>8664.131808</td>\n",
       "      <td>2013.0</td>\n",
       "      <td>3.0</td>\n",
       "      <td>7.0</td>\n",
       "      <td>3.0</td>\n",
       "      <td>21.0</td>\n",
       "    </tr>\n",
       "    <tr>\n",
       "      <th>13340</th>\n",
       "      <td>18.50</td>\n",
       "      <td>0.000000</td>\n",
       "      <td>0.000000</td>\n",
       "      <td>-73.997643</td>\n",
       "      <td>40.724432</td>\n",
       "      <td>1</td>\n",
       "      <td>8666.613646</td>\n",
       "      <td>2014.0</td>\n",
       "      <td>3.0</td>\n",
       "      <td>31.0</td>\n",
       "      <td>0.0</td>\n",
       "      <td>12.0</td>\n",
       "    </tr>\n",
       "    <tr>\n",
       "      <th>14197</th>\n",
       "      <td>48.00</td>\n",
       "      <td>-73.870945</td>\n",
       "      <td>40.773700</td>\n",
       "      <td>0.000000</td>\n",
       "      <td>0.000000</td>\n",
       "      <td>1</td>\n",
       "      <td>8657.136619</td>\n",
       "      <td>2013.0</td>\n",
       "      <td>4.0</td>\n",
       "      <td>19.0</td>\n",
       "      <td>4.0</td>\n",
       "      <td>16.0</td>\n",
       "    </tr>\n",
       "    <tr>\n",
       "      <th>15749</th>\n",
       "      <td>10.90</td>\n",
       "      <td>-73.967183</td>\n",
       "      <td>40.772403</td>\n",
       "      <td>0.000000</td>\n",
       "      <td>40.740677</td>\n",
       "      <td>1</td>\n",
       "      <td>6028.926779</td>\n",
       "      <td>2012.0</td>\n",
       "      <td>5.0</td>\n",
       "      <td>12.0</td>\n",
       "      <td>5.0</td>\n",
       "      <td>17.0</td>\n",
       "    </tr>\n",
       "    <tr>\n",
       "      <th>15783</th>\n",
       "      <td>26.50</td>\n",
       "      <td>0.000000</td>\n",
       "      <td>0.000000</td>\n",
       "      <td>-73.867056</td>\n",
       "      <td>40.768823</td>\n",
       "      <td>1</td>\n",
       "      <td>8656.714168</td>\n",
       "      <td>2014.0</td>\n",
       "      <td>9.0</td>\n",
       "      <td>28.0</td>\n",
       "      <td>6.0</td>\n",
       "      <td>8.0</td>\n",
       "    </tr>\n",
       "  </tbody>\n",
       "</table>\n",
       "</div>"
      ],
      "text/plain": [
       "       fare_amount  pickup_longitude  pickup_latitude  dropoff_longitude  \\\n",
       "472           2.50          0.000000         0.000000         -74.005433   \n",
       "1260          5.70        -73.973907        40.754743           0.000000   \n",
       "2280          8.90        -73.936667        40.757815           0.000000   \n",
       "2397         45.00          0.000000         0.000000         -74.010230   \n",
       "4278          7.00        -73.972702        40.757423           0.000000   \n",
       "4597          6.90          0.000000         0.000000         -73.989693   \n",
       "5864          8.50        -73.995030        40.744945          -7.986640   \n",
       "6188         15.50          0.000000         0.000000         -73.952980   \n",
       "6302         16.50          0.000000         0.000000         -73.936600   \n",
       "7014          4.50        -73.988980        40.721697         -74.001073   \n",
       "8647         21.50        -74.001808        40.750782           0.000000   \n",
       "9147          8.50          0.000000         0.000000         -74.002037   \n",
       "10215        13.30          0.000000         0.000000         -73.990138   \n",
       "10458         2.50        -73.979678        40.765962           0.000000   \n",
       "10488         5.30        -73.978103        40.751798           0.000000   \n",
       "10672        18.00        -73.979355        40.753902           0.000000   \n",
       "11653        16.00          0.000000         0.000000         -73.985329   \n",
       "12705         2.50        -73.929230        40.744627           0.000000   \n",
       "12983        57.33        -73.958870        40.760012           0.000000   \n",
       "13340        18.50          0.000000         0.000000         -73.997643   \n",
       "14197        48.00        -73.870945        40.773700           0.000000   \n",
       "15749        10.90        -73.967183        40.772403           0.000000   \n",
       "15783        26.50          0.000000         0.000000         -73.867056   \n",
       "\n",
       "       dropoff_latitude  passenger_count  haversine_distance    year  month  \\\n",
       "472           40.726685                2         8667.304968  2009.0    2.0   \n",
       "1260           0.000000                2         8665.268588  2011.0    3.0   \n",
       "2280          40.757815                1         6026.494216  2011.0    8.0   \n",
       "2397          40.714553                2         8667.454421  2012.0    6.0   \n",
       "4278           0.000000                1         8665.223767  2015.0    4.0   \n",
       "4597          40.754280                1         8666.566030  2010.0    3.0   \n",
       "5864          40.729937                1         5420.988959  2012.0    3.0   \n",
       "6188          40.786670                5         8664.191488  2014.0    7.0   \n",
       "6302          40.796543                1         8663.039123  2015.0    2.0   \n",
       "7014           0.728087                3         4447.086698  2011.0    6.0   \n",
       "8647           0.000000                1         8667.497512  2014.0    3.0   \n",
       "9147          40.752035                1         8667.542104  2014.0    7.0   \n",
       "10215         40.753392                1         8666.584706  2011.0    3.0   \n",
       "10458          0.000000                1         8665.976222  2013.0    2.0   \n",
       "10488          0.000000                1         8665.555634  2012.0    3.0   \n",
       "10672          0.000000                1         8665.702390  2015.0    4.0   \n",
       "11653         40.778534                1         8666.701504  2015.0    3.0   \n",
       "12705          0.000000                5         8661.362152  2012.0   10.0   \n",
       "12983          0.000000                1         8664.131808  2013.0    3.0   \n",
       "13340         40.724432                1         8666.613646  2014.0    3.0   \n",
       "14197          0.000000                1         8657.136619  2013.0    4.0   \n",
       "15749         40.740677                1         6028.926779  2012.0    5.0   \n",
       "15783         40.768823                1         8656.714168  2014.0    9.0   \n",
       "\n",
       "       date  day_of_week  hour  \n",
       "472    22.0          6.0  22.0  \n",
       "1260   10.0          3.0  20.0  \n",
       "2280   29.0          0.0   8.0  \n",
       "2397   24.0          6.0  17.0  \n",
       "4278    7.0          1.0  23.0  \n",
       "4597   30.0          1.0   7.0  \n",
       "5864    4.0          6.0   1.0  \n",
       "6188   28.0          0.0  15.0  \n",
       "6302   27.0          4.0  16.0  \n",
       "7014   18.0          5.0   4.0  \n",
       "8647   27.0          3.0  18.0  \n",
       "9147   14.0          0.0  21.0  \n",
       "10215  18.0          4.0   9.0  \n",
       "10458  23.0          5.0  20.0  \n",
       "10488  15.0          3.0   0.0  \n",
       "10672  30.0          3.0  15.0  \n",
       "11653   4.0          2.0  16.0  \n",
       "12705  31.0          2.0  14.0  \n",
       "12983   7.0          3.0  21.0  \n",
       "13340  31.0          0.0  12.0  \n",
       "14197  19.0          4.0  16.0  \n",
       "15749  12.0          5.0  17.0  \n",
       "15783  28.0          6.0   8.0  "
      ]
     },
     "execution_count": 65,
     "metadata": {},
     "output_type": "execute_result"
    }
   ],
   "source": [
    "# First we will check if the distance is huge and fare is not 0, do we have the correct values in the rows.\n",
    "\n",
    "high_distance = train.loc[(train['haversine_distance']>200)&(train['fare_amount']!=0)]\n",
    "high_distance"
   ]
  },
  {
   "cell_type": "markdown",
   "metadata": {},
   "source": [
    "As you can see from the DF above, the abnormally high distances are due to either the pickup or dropoff co-ordinates being incorrect or 0. However, since all these values have fares, I do not wish to drop them as they contain crucial data. Instead, I will replace the initial distance values with distance values calculated using the fare using the following formula\n",
    "\n",
    "distance = (fare_amount - 2.5)/1.56\n",
    "\n",
    "After looking the valid co-ordinates on google map, we find that the data is from U.S locations.\n",
    "Google search gave me the following price -      \n",
    "$2.5 base price + $1.56/km"
   ]
  },
  {
   "cell_type": "code",
   "execution_count": 66,
   "metadata": {},
   "outputs": [
    {
     "name": "stderr",
     "output_type": "stream",
     "text": [
      "C:\\Users\\GAURAV\\Anaconda3\\lib\\site-packages\\ipykernel_launcher.py:1: SettingWithCopyWarning: \n",
      "A value is trying to be set on a copy of a slice from a DataFrame.\n",
      "Try using .loc[row_indexer,col_indexer] = value instead\n",
      "\n",
      "See the caveats in the documentation: http://pandas.pydata.org/pandas-docs/stable/indexing.html#indexing-view-versus-copy\n",
      "  \"\"\"Entry point for launching an IPython kernel.\n"
     ]
    },
    {
     "data": {
      "text/html": [
       "<div>\n",
       "<style scoped>\n",
       "    .dataframe tbody tr th:only-of-type {\n",
       "        vertical-align: middle;\n",
       "    }\n",
       "\n",
       "    .dataframe tbody tr th {\n",
       "        vertical-align: top;\n",
       "    }\n",
       "\n",
       "    .dataframe thead th {\n",
       "        text-align: right;\n",
       "    }\n",
       "</style>\n",
       "<table border=\"1\" class=\"dataframe\">\n",
       "  <thead>\n",
       "    <tr style=\"text-align: right;\">\n",
       "      <th></th>\n",
       "      <th>fare_amount</th>\n",
       "      <th>pickup_longitude</th>\n",
       "      <th>pickup_latitude</th>\n",
       "      <th>dropoff_longitude</th>\n",
       "      <th>dropoff_latitude</th>\n",
       "      <th>passenger_count</th>\n",
       "      <th>haversine_distance</th>\n",
       "      <th>year</th>\n",
       "      <th>month</th>\n",
       "      <th>date</th>\n",
       "      <th>day_of_week</th>\n",
       "      <th>hour</th>\n",
       "    </tr>\n",
       "  </thead>\n",
       "  <tbody>\n",
       "    <tr>\n",
       "      <th>472</th>\n",
       "      <td>2.50</td>\n",
       "      <td>0.000000</td>\n",
       "      <td>0.000000</td>\n",
       "      <td>-74.005433</td>\n",
       "      <td>40.726685</td>\n",
       "      <td>2</td>\n",
       "      <td>0.000000</td>\n",
       "      <td>2009.0</td>\n",
       "      <td>2.0</td>\n",
       "      <td>22.0</td>\n",
       "      <td>6.0</td>\n",
       "      <td>22.0</td>\n",
       "    </tr>\n",
       "    <tr>\n",
       "      <th>1260</th>\n",
       "      <td>5.70</td>\n",
       "      <td>-73.973907</td>\n",
       "      <td>40.754743</td>\n",
       "      <td>0.000000</td>\n",
       "      <td>0.000000</td>\n",
       "      <td>2</td>\n",
       "      <td>2.051282</td>\n",
       "      <td>2011.0</td>\n",
       "      <td>3.0</td>\n",
       "      <td>10.0</td>\n",
       "      <td>3.0</td>\n",
       "      <td>20.0</td>\n",
       "    </tr>\n",
       "    <tr>\n",
       "      <th>2280</th>\n",
       "      <td>8.90</td>\n",
       "      <td>-73.936667</td>\n",
       "      <td>40.757815</td>\n",
       "      <td>0.000000</td>\n",
       "      <td>40.757815</td>\n",
       "      <td>1</td>\n",
       "      <td>4.102564</td>\n",
       "      <td>2011.0</td>\n",
       "      <td>8.0</td>\n",
       "      <td>29.0</td>\n",
       "      <td>0.0</td>\n",
       "      <td>8.0</td>\n",
       "    </tr>\n",
       "    <tr>\n",
       "      <th>2397</th>\n",
       "      <td>45.00</td>\n",
       "      <td>0.000000</td>\n",
       "      <td>0.000000</td>\n",
       "      <td>-74.010230</td>\n",
       "      <td>40.714553</td>\n",
       "      <td>2</td>\n",
       "      <td>27.243590</td>\n",
       "      <td>2012.0</td>\n",
       "      <td>6.0</td>\n",
       "      <td>24.0</td>\n",
       "      <td>6.0</td>\n",
       "      <td>17.0</td>\n",
       "    </tr>\n",
       "    <tr>\n",
       "      <th>4278</th>\n",
       "      <td>7.00</td>\n",
       "      <td>-73.972702</td>\n",
       "      <td>40.757423</td>\n",
       "      <td>0.000000</td>\n",
       "      <td>0.000000</td>\n",
       "      <td>1</td>\n",
       "      <td>2.884615</td>\n",
       "      <td>2015.0</td>\n",
       "      <td>4.0</td>\n",
       "      <td>7.0</td>\n",
       "      <td>1.0</td>\n",
       "      <td>23.0</td>\n",
       "    </tr>\n",
       "    <tr>\n",
       "      <th>4597</th>\n",
       "      <td>6.90</td>\n",
       "      <td>0.000000</td>\n",
       "      <td>0.000000</td>\n",
       "      <td>-73.989693</td>\n",
       "      <td>40.754280</td>\n",
       "      <td>1</td>\n",
       "      <td>2.820513</td>\n",
       "      <td>2010.0</td>\n",
       "      <td>3.0</td>\n",
       "      <td>30.0</td>\n",
       "      <td>1.0</td>\n",
       "      <td>7.0</td>\n",
       "    </tr>\n",
       "    <tr>\n",
       "      <th>5864</th>\n",
       "      <td>8.50</td>\n",
       "      <td>-73.995030</td>\n",
       "      <td>40.744945</td>\n",
       "      <td>-7.986640</td>\n",
       "      <td>40.729937</td>\n",
       "      <td>1</td>\n",
       "      <td>3.846154</td>\n",
       "      <td>2012.0</td>\n",
       "      <td>3.0</td>\n",
       "      <td>4.0</td>\n",
       "      <td>6.0</td>\n",
       "      <td>1.0</td>\n",
       "    </tr>\n",
       "    <tr>\n",
       "      <th>6188</th>\n",
       "      <td>15.50</td>\n",
       "      <td>0.000000</td>\n",
       "      <td>0.000000</td>\n",
       "      <td>-73.952980</td>\n",
       "      <td>40.786670</td>\n",
       "      <td>5</td>\n",
       "      <td>8.333333</td>\n",
       "      <td>2014.0</td>\n",
       "      <td>7.0</td>\n",
       "      <td>28.0</td>\n",
       "      <td>0.0</td>\n",
       "      <td>15.0</td>\n",
       "    </tr>\n",
       "    <tr>\n",
       "      <th>6302</th>\n",
       "      <td>16.50</td>\n",
       "      <td>0.000000</td>\n",
       "      <td>0.000000</td>\n",
       "      <td>-73.936600</td>\n",
       "      <td>40.796543</td>\n",
       "      <td>1</td>\n",
       "      <td>8.974359</td>\n",
       "      <td>2015.0</td>\n",
       "      <td>2.0</td>\n",
       "      <td>27.0</td>\n",
       "      <td>4.0</td>\n",
       "      <td>16.0</td>\n",
       "    </tr>\n",
       "    <tr>\n",
       "      <th>7014</th>\n",
       "      <td>4.50</td>\n",
       "      <td>-73.988980</td>\n",
       "      <td>40.721697</td>\n",
       "      <td>-74.001073</td>\n",
       "      <td>0.728087</td>\n",
       "      <td>3</td>\n",
       "      <td>1.282051</td>\n",
       "      <td>2011.0</td>\n",
       "      <td>6.0</td>\n",
       "      <td>18.0</td>\n",
       "      <td>5.0</td>\n",
       "      <td>4.0</td>\n",
       "    </tr>\n",
       "    <tr>\n",
       "      <th>8647</th>\n",
       "      <td>21.50</td>\n",
       "      <td>-74.001808</td>\n",
       "      <td>40.750782</td>\n",
       "      <td>0.000000</td>\n",
       "      <td>0.000000</td>\n",
       "      <td>1</td>\n",
       "      <td>12.179487</td>\n",
       "      <td>2014.0</td>\n",
       "      <td>3.0</td>\n",
       "      <td>27.0</td>\n",
       "      <td>3.0</td>\n",
       "      <td>18.0</td>\n",
       "    </tr>\n",
       "    <tr>\n",
       "      <th>9147</th>\n",
       "      <td>8.50</td>\n",
       "      <td>0.000000</td>\n",
       "      <td>0.000000</td>\n",
       "      <td>-74.002037</td>\n",
       "      <td>40.752035</td>\n",
       "      <td>1</td>\n",
       "      <td>3.846154</td>\n",
       "      <td>2014.0</td>\n",
       "      <td>7.0</td>\n",
       "      <td>14.0</td>\n",
       "      <td>0.0</td>\n",
       "      <td>21.0</td>\n",
       "    </tr>\n",
       "    <tr>\n",
       "      <th>10215</th>\n",
       "      <td>13.30</td>\n",
       "      <td>0.000000</td>\n",
       "      <td>0.000000</td>\n",
       "      <td>-73.990138</td>\n",
       "      <td>40.753392</td>\n",
       "      <td>1</td>\n",
       "      <td>6.923077</td>\n",
       "      <td>2011.0</td>\n",
       "      <td>3.0</td>\n",
       "      <td>18.0</td>\n",
       "      <td>4.0</td>\n",
       "      <td>9.0</td>\n",
       "    </tr>\n",
       "    <tr>\n",
       "      <th>10458</th>\n",
       "      <td>2.50</td>\n",
       "      <td>-73.979678</td>\n",
       "      <td>40.765962</td>\n",
       "      <td>0.000000</td>\n",
       "      <td>0.000000</td>\n",
       "      <td>1</td>\n",
       "      <td>0.000000</td>\n",
       "      <td>2013.0</td>\n",
       "      <td>2.0</td>\n",
       "      <td>23.0</td>\n",
       "      <td>5.0</td>\n",
       "      <td>20.0</td>\n",
       "    </tr>\n",
       "    <tr>\n",
       "      <th>10488</th>\n",
       "      <td>5.30</td>\n",
       "      <td>-73.978103</td>\n",
       "      <td>40.751798</td>\n",
       "      <td>0.000000</td>\n",
       "      <td>0.000000</td>\n",
       "      <td>1</td>\n",
       "      <td>1.794872</td>\n",
       "      <td>2012.0</td>\n",
       "      <td>3.0</td>\n",
       "      <td>15.0</td>\n",
       "      <td>3.0</td>\n",
       "      <td>0.0</td>\n",
       "    </tr>\n",
       "    <tr>\n",
       "      <th>10672</th>\n",
       "      <td>18.00</td>\n",
       "      <td>-73.979355</td>\n",
       "      <td>40.753902</td>\n",
       "      <td>0.000000</td>\n",
       "      <td>0.000000</td>\n",
       "      <td>1</td>\n",
       "      <td>9.935897</td>\n",
       "      <td>2015.0</td>\n",
       "      <td>4.0</td>\n",
       "      <td>30.0</td>\n",
       "      <td>3.0</td>\n",
       "      <td>15.0</td>\n",
       "    </tr>\n",
       "    <tr>\n",
       "      <th>11653</th>\n",
       "      <td>16.00</td>\n",
       "      <td>0.000000</td>\n",
       "      <td>0.000000</td>\n",
       "      <td>-73.985329</td>\n",
       "      <td>40.778534</td>\n",
       "      <td>1</td>\n",
       "      <td>8.653846</td>\n",
       "      <td>2015.0</td>\n",
       "      <td>3.0</td>\n",
       "      <td>4.0</td>\n",
       "      <td>2.0</td>\n",
       "      <td>16.0</td>\n",
       "    </tr>\n",
       "    <tr>\n",
       "      <th>12705</th>\n",
       "      <td>2.50</td>\n",
       "      <td>-73.929230</td>\n",
       "      <td>40.744627</td>\n",
       "      <td>0.000000</td>\n",
       "      <td>0.000000</td>\n",
       "      <td>5</td>\n",
       "      <td>0.000000</td>\n",
       "      <td>2012.0</td>\n",
       "      <td>10.0</td>\n",
       "      <td>31.0</td>\n",
       "      <td>2.0</td>\n",
       "      <td>14.0</td>\n",
       "    </tr>\n",
       "    <tr>\n",
       "      <th>12983</th>\n",
       "      <td>57.33</td>\n",
       "      <td>-73.958870</td>\n",
       "      <td>40.760012</td>\n",
       "      <td>0.000000</td>\n",
       "      <td>0.000000</td>\n",
       "      <td>1</td>\n",
       "      <td>35.147436</td>\n",
       "      <td>2013.0</td>\n",
       "      <td>3.0</td>\n",
       "      <td>7.0</td>\n",
       "      <td>3.0</td>\n",
       "      <td>21.0</td>\n",
       "    </tr>\n",
       "    <tr>\n",
       "      <th>13340</th>\n",
       "      <td>18.50</td>\n",
       "      <td>0.000000</td>\n",
       "      <td>0.000000</td>\n",
       "      <td>-73.997643</td>\n",
       "      <td>40.724432</td>\n",
       "      <td>1</td>\n",
       "      <td>10.256410</td>\n",
       "      <td>2014.0</td>\n",
       "      <td>3.0</td>\n",
       "      <td>31.0</td>\n",
       "      <td>0.0</td>\n",
       "      <td>12.0</td>\n",
       "    </tr>\n",
       "    <tr>\n",
       "      <th>14197</th>\n",
       "      <td>48.00</td>\n",
       "      <td>-73.870945</td>\n",
       "      <td>40.773700</td>\n",
       "      <td>0.000000</td>\n",
       "      <td>0.000000</td>\n",
       "      <td>1</td>\n",
       "      <td>29.166667</td>\n",
       "      <td>2013.0</td>\n",
       "      <td>4.0</td>\n",
       "      <td>19.0</td>\n",
       "      <td>4.0</td>\n",
       "      <td>16.0</td>\n",
       "    </tr>\n",
       "    <tr>\n",
       "      <th>15749</th>\n",
       "      <td>10.90</td>\n",
       "      <td>-73.967183</td>\n",
       "      <td>40.772403</td>\n",
       "      <td>0.000000</td>\n",
       "      <td>40.740677</td>\n",
       "      <td>1</td>\n",
       "      <td>5.384615</td>\n",
       "      <td>2012.0</td>\n",
       "      <td>5.0</td>\n",
       "      <td>12.0</td>\n",
       "      <td>5.0</td>\n",
       "      <td>17.0</td>\n",
       "    </tr>\n",
       "    <tr>\n",
       "      <th>15783</th>\n",
       "      <td>26.50</td>\n",
       "      <td>0.000000</td>\n",
       "      <td>0.000000</td>\n",
       "      <td>-73.867056</td>\n",
       "      <td>40.768823</td>\n",
       "      <td>1</td>\n",
       "      <td>15.384615</td>\n",
       "      <td>2014.0</td>\n",
       "      <td>9.0</td>\n",
       "      <td>28.0</td>\n",
       "      <td>6.0</td>\n",
       "      <td>8.0</td>\n",
       "    </tr>\n",
       "  </tbody>\n",
       "</table>\n",
       "</div>"
      ],
      "text/plain": [
       "       fare_amount  pickup_longitude  pickup_latitude  dropoff_longitude  \\\n",
       "472           2.50          0.000000         0.000000         -74.005433   \n",
       "1260          5.70        -73.973907        40.754743           0.000000   \n",
       "2280          8.90        -73.936667        40.757815           0.000000   \n",
       "2397         45.00          0.000000         0.000000         -74.010230   \n",
       "4278          7.00        -73.972702        40.757423           0.000000   \n",
       "4597          6.90          0.000000         0.000000         -73.989693   \n",
       "5864          8.50        -73.995030        40.744945          -7.986640   \n",
       "6188         15.50          0.000000         0.000000         -73.952980   \n",
       "6302         16.50          0.000000         0.000000         -73.936600   \n",
       "7014          4.50        -73.988980        40.721697         -74.001073   \n",
       "8647         21.50        -74.001808        40.750782           0.000000   \n",
       "9147          8.50          0.000000         0.000000         -74.002037   \n",
       "10215        13.30          0.000000         0.000000         -73.990138   \n",
       "10458         2.50        -73.979678        40.765962           0.000000   \n",
       "10488         5.30        -73.978103        40.751798           0.000000   \n",
       "10672        18.00        -73.979355        40.753902           0.000000   \n",
       "11653        16.00          0.000000         0.000000         -73.985329   \n",
       "12705         2.50        -73.929230        40.744627           0.000000   \n",
       "12983        57.33        -73.958870        40.760012           0.000000   \n",
       "13340        18.50          0.000000         0.000000         -73.997643   \n",
       "14197        48.00        -73.870945        40.773700           0.000000   \n",
       "15749        10.90        -73.967183        40.772403           0.000000   \n",
       "15783        26.50          0.000000         0.000000         -73.867056   \n",
       "\n",
       "       dropoff_latitude  passenger_count  haversine_distance    year  month  \\\n",
       "472           40.726685                2            0.000000  2009.0    2.0   \n",
       "1260           0.000000                2            2.051282  2011.0    3.0   \n",
       "2280          40.757815                1            4.102564  2011.0    8.0   \n",
       "2397          40.714553                2           27.243590  2012.0    6.0   \n",
       "4278           0.000000                1            2.884615  2015.0    4.0   \n",
       "4597          40.754280                1            2.820513  2010.0    3.0   \n",
       "5864          40.729937                1            3.846154  2012.0    3.0   \n",
       "6188          40.786670                5            8.333333  2014.0    7.0   \n",
       "6302          40.796543                1            8.974359  2015.0    2.0   \n",
       "7014           0.728087                3            1.282051  2011.0    6.0   \n",
       "8647           0.000000                1           12.179487  2014.0    3.0   \n",
       "9147          40.752035                1            3.846154  2014.0    7.0   \n",
       "10215         40.753392                1            6.923077  2011.0    3.0   \n",
       "10458          0.000000                1            0.000000  2013.0    2.0   \n",
       "10488          0.000000                1            1.794872  2012.0    3.0   \n",
       "10672          0.000000                1            9.935897  2015.0    4.0   \n",
       "11653         40.778534                1            8.653846  2015.0    3.0   \n",
       "12705          0.000000                5            0.000000  2012.0   10.0   \n",
       "12983          0.000000                1           35.147436  2013.0    3.0   \n",
       "13340         40.724432                1           10.256410  2014.0    3.0   \n",
       "14197          0.000000                1           29.166667  2013.0    4.0   \n",
       "15749         40.740677                1            5.384615  2012.0    5.0   \n",
       "15783         40.768823                1           15.384615  2014.0    9.0   \n",
       "\n",
       "       date  day_of_week  hour  \n",
       "472    22.0          6.0  22.0  \n",
       "1260   10.0          3.0  20.0  \n",
       "2280   29.0          0.0   8.0  \n",
       "2397   24.0          6.0  17.0  \n",
       "4278    7.0          1.0  23.0  \n",
       "4597   30.0          1.0   7.0  \n",
       "5864    4.0          6.0   1.0  \n",
       "6188   28.0          0.0  15.0  \n",
       "6302   27.0          4.0  16.0  \n",
       "7014   18.0          5.0   4.0  \n",
       "8647   27.0          3.0  18.0  \n",
       "9147   14.0          0.0  21.0  \n",
       "10215  18.0          4.0   9.0  \n",
       "10458  23.0          5.0  20.0  \n",
       "10488  15.0          3.0   0.0  \n",
       "10672  30.0          3.0  15.0  \n",
       "11653   4.0          2.0  16.0  \n",
       "12705  31.0          2.0  14.0  \n",
       "12983   7.0          3.0  21.0  \n",
       "13340  31.0          0.0  12.0  \n",
       "14197  19.0          4.0  16.0  \n",
       "15749  12.0          5.0  17.0  \n",
       "15783  28.0          6.0   8.0  "
      ]
     },
     "execution_count": 66,
     "metadata": {},
     "output_type": "execute_result"
    }
   ],
   "source": [
    "high_distance['haversine_distance'] = high_distance.apply(lambda row: (row['fare_amount'] - 2.50)/1.56, axis=1)\n",
    "high_distance"
   ]
  },
  {
   "cell_type": "code",
   "execution_count": 67,
   "metadata": {},
   "outputs": [],
   "source": [
    "train.update(high_distance)"
   ]
  },
  {
   "cell_type": "code",
   "execution_count": 68,
   "metadata": {},
   "outputs": [
    {
     "data": {
      "text/html": [
       "<div>\n",
       "<style scoped>\n",
       "    .dataframe tbody tr th:only-of-type {\n",
       "        vertical-align: middle;\n",
       "    }\n",
       "\n",
       "    .dataframe tbody tr th {\n",
       "        vertical-align: top;\n",
       "    }\n",
       "\n",
       "    .dataframe thead th {\n",
       "        text-align: right;\n",
       "    }\n",
       "</style>\n",
       "<table border=\"1\" class=\"dataframe\">\n",
       "  <thead>\n",
       "    <tr style=\"text-align: right;\">\n",
       "      <th></th>\n",
       "      <th>fare_amount</th>\n",
       "      <th>pickup_longitude</th>\n",
       "      <th>pickup_latitude</th>\n",
       "      <th>dropoff_longitude</th>\n",
       "      <th>dropoff_latitude</th>\n",
       "      <th>passenger_count</th>\n",
       "      <th>haversine_distance</th>\n",
       "      <th>year</th>\n",
       "      <th>month</th>\n",
       "      <th>date</th>\n",
       "      <th>day_of_week</th>\n",
       "      <th>hour</th>\n",
       "    </tr>\n",
       "  </thead>\n",
       "  <tbody>\n",
       "  </tbody>\n",
       "</table>\n",
       "</div>"
      ],
      "text/plain": [
       "Empty DataFrame\n",
       "Columns: [fare_amount, pickup_longitude, pickup_latitude, dropoff_longitude, dropoff_latitude, passenger_count, haversine_distance, year, month, date, day_of_week, hour]\n",
       "Index: []"
      ]
     },
     "execution_count": 68,
     "metadata": {},
     "output_type": "execute_result"
    }
   ],
   "source": [
    "# Rows where distance is 0 and fare is 0\n",
    "\n",
    "train[(train['haversine_distance']==0)&(train['fare_amount']==0)]"
   ]
  },
  {
   "cell_type": "code",
   "execution_count": 69,
   "metadata": {},
   "outputs": [
    {
     "data": {
      "text/html": [
       "<div>\n",
       "<style scoped>\n",
       "    .dataframe tbody tr th:only-of-type {\n",
       "        vertical-align: middle;\n",
       "    }\n",
       "\n",
       "    .dataframe tbody tr th {\n",
       "        vertical-align: top;\n",
       "    }\n",
       "\n",
       "    .dataframe thead th {\n",
       "        text-align: right;\n",
       "    }\n",
       "</style>\n",
       "<table border=\"1\" class=\"dataframe\">\n",
       "  <thead>\n",
       "    <tr style=\"text-align: right;\">\n",
       "      <th></th>\n",
       "      <th>fare_amount</th>\n",
       "      <th>pickup_longitude</th>\n",
       "      <th>pickup_latitude</th>\n",
       "      <th>dropoff_longitude</th>\n",
       "      <th>dropoff_latitude</th>\n",
       "      <th>passenger_count</th>\n",
       "      <th>haversine_distance</th>\n",
       "      <th>year</th>\n",
       "      <th>month</th>\n",
       "      <th>date</th>\n",
       "      <th>day_of_week</th>\n",
       "      <th>hour</th>\n",
       "    </tr>\n",
       "  </thead>\n",
       "  <tbody>\n",
       "  </tbody>\n",
       "</table>\n",
       "</div>"
      ],
      "text/plain": [
       "Empty DataFrame\n",
       "Columns: [fare_amount, pickup_longitude, pickup_latitude, dropoff_longitude, dropoff_latitude, passenger_count, haversine_distance, year, month, date, day_of_week, hour]\n",
       "Index: []"
      ]
     },
     "execution_count": 69,
     "metadata": {},
     "output_type": "execute_result"
    }
   ],
   "source": [
    "# Rows where distance is 0 and fare is less than $2.50.\n",
    "train[(train['haversine_distance']==0)&(train['fare_amount'] < 2.5)]"
   ]
  },
  {
   "cell_type": "code",
   "execution_count": 70,
   "metadata": {},
   "outputs": [
    {
     "data": {
      "text/html": [
       "<div>\n",
       "<style scoped>\n",
       "    .dataframe tbody tr th:only-of-type {\n",
       "        vertical-align: middle;\n",
       "    }\n",
       "\n",
       "    .dataframe tbody tr th {\n",
       "        vertical-align: top;\n",
       "    }\n",
       "\n",
       "    .dataframe thead th {\n",
       "        text-align: right;\n",
       "    }\n",
       "</style>\n",
       "<table border=\"1\" class=\"dataframe\">\n",
       "  <thead>\n",
       "    <tr style=\"text-align: right;\">\n",
       "      <th></th>\n",
       "      <th>fare_amount</th>\n",
       "      <th>pickup_longitude</th>\n",
       "      <th>pickup_latitude</th>\n",
       "      <th>dropoff_longitude</th>\n",
       "      <th>dropoff_latitude</th>\n",
       "      <th>passenger_count</th>\n",
       "      <th>haversine_distance</th>\n",
       "      <th>year</th>\n",
       "      <th>month</th>\n",
       "      <th>date</th>\n",
       "      <th>day_of_week</th>\n",
       "      <th>hour</th>\n",
       "    </tr>\n",
       "  </thead>\n",
       "  <tbody>\n",
       "    <tr>\n",
       "      <th>10002</th>\n",
       "      <td>0.0</td>\n",
       "      <td>-73.987115</td>\n",
       "      <td>40.738808</td>\n",
       "      <td>-74.005911</td>\n",
       "      <td>40.71396</td>\n",
       "      <td>1.0</td>\n",
       "      <td>3.184763</td>\n",
       "      <td>2010.0</td>\n",
       "      <td>2.0</td>\n",
       "      <td>15.0</td>\n",
       "      <td>0.0</td>\n",
       "      <td>14.0</td>\n",
       "    </tr>\n",
       "  </tbody>\n",
       "</table>\n",
       "</div>"
      ],
      "text/plain": [
       "       fare_amount  pickup_longitude  pickup_latitude  dropoff_longitude  \\\n",
       "10002          0.0        -73.987115        40.738808         -74.005911   \n",
       "\n",
       "       dropoff_latitude  passenger_count  haversine_distance    year  month  \\\n",
       "10002          40.71396              1.0            3.184763  2010.0    2.0   \n",
       "\n",
       "       date  day_of_week  hour  \n",
       "10002  15.0          0.0  14.0  "
      ]
     },
     "execution_count": 70,
     "metadata": {},
     "output_type": "execute_result"
    }
   ],
   "source": [
    "# Rows where distance is not 0 but fare is 0\n",
    "zero_fare = train.loc[(train['haversine_distance']!=0) & (train['fare_amount']==0)]\n",
    "zero_fare"
   ]
  },
  {
   "cell_type": "code",
   "execution_count": 71,
   "metadata": {},
   "outputs": [
    {
     "name": "stderr",
     "output_type": "stream",
     "text": [
      "C:\\Users\\GAURAV\\Anaconda3\\lib\\site-packages\\ipykernel_launcher.py:2: SettingWithCopyWarning: \n",
      "A value is trying to be set on a copy of a slice from a DataFrame.\n",
      "Try using .loc[row_indexer,col_indexer] = value instead\n",
      "\n",
      "See the caveats in the documentation: http://pandas.pydata.org/pandas-docs/stable/indexing.html#indexing-view-versus-copy\n",
      "  \n"
     ]
    },
    {
     "data": {
      "text/html": [
       "<div>\n",
       "<style scoped>\n",
       "    .dataframe tbody tr th:only-of-type {\n",
       "        vertical-align: middle;\n",
       "    }\n",
       "\n",
       "    .dataframe tbody tr th {\n",
       "        vertical-align: top;\n",
       "    }\n",
       "\n",
       "    .dataframe thead th {\n",
       "        text-align: right;\n",
       "    }\n",
       "</style>\n",
       "<table border=\"1\" class=\"dataframe\">\n",
       "  <thead>\n",
       "    <tr style=\"text-align: right;\">\n",
       "      <th></th>\n",
       "      <th>fare_amount</th>\n",
       "      <th>pickup_longitude</th>\n",
       "      <th>pickup_latitude</th>\n",
       "      <th>dropoff_longitude</th>\n",
       "      <th>dropoff_latitude</th>\n",
       "      <th>passenger_count</th>\n",
       "      <th>haversine_distance</th>\n",
       "      <th>year</th>\n",
       "      <th>month</th>\n",
       "      <th>date</th>\n",
       "      <th>day_of_week</th>\n",
       "      <th>hour</th>\n",
       "    </tr>\n",
       "  </thead>\n",
       "  <tbody>\n",
       "    <tr>\n",
       "      <th>10002</th>\n",
       "      <td>7.46823</td>\n",
       "      <td>-73.987115</td>\n",
       "      <td>40.738808</td>\n",
       "      <td>-74.005911</td>\n",
       "      <td>40.71396</td>\n",
       "      <td>1.0</td>\n",
       "      <td>3.184763</td>\n",
       "      <td>2010.0</td>\n",
       "      <td>2.0</td>\n",
       "      <td>15.0</td>\n",
       "      <td>0.0</td>\n",
       "      <td>14.0</td>\n",
       "    </tr>\n",
       "  </tbody>\n",
       "</table>\n",
       "</div>"
      ],
      "text/plain": [
       "       fare_amount  pickup_longitude  pickup_latitude  dropoff_longitude  \\\n",
       "10002      7.46823        -73.987115        40.738808         -74.005911   \n",
       "\n",
       "       dropoff_latitude  passenger_count  haversine_distance    year  month  \\\n",
       "10002          40.71396              1.0            3.184763  2010.0    2.0   \n",
       "\n",
       "       date  day_of_week  hour  \n",
       "10002  15.0          0.0  14.0  "
      ]
     },
     "execution_count": 71,
     "metadata": {},
     "output_type": "execute_result"
    }
   ],
   "source": [
    "# There is only one row where distance is not 0 and fare is 0. Hence, imputing fare value using distance formula.\n",
    "zero_fare['fare_amount'] = 2.5 + 1.56 * zero_fare['haversine_distance']\n",
    "zero_fare"
   ]
  },
  {
   "cell_type": "code",
   "execution_count": 72,
   "metadata": {},
   "outputs": [],
   "source": [
    "train.update(zero_fare)"
   ]
  },
  {
   "cell_type": "code",
   "execution_count": 73,
   "metadata": {},
   "outputs": [
    {
     "data": {
      "text/html": [
       "<div>\n",
       "<style scoped>\n",
       "    .dataframe tbody tr th:only-of-type {\n",
       "        vertical-align: middle;\n",
       "    }\n",
       "\n",
       "    .dataframe tbody tr th {\n",
       "        vertical-align: top;\n",
       "    }\n",
       "\n",
       "    .dataframe thead th {\n",
       "        text-align: right;\n",
       "    }\n",
       "</style>\n",
       "<table border=\"1\" class=\"dataframe\">\n",
       "  <thead>\n",
       "    <tr style=\"text-align: right;\">\n",
       "      <th></th>\n",
       "      <th>fare_amount</th>\n",
       "      <th>pickup_longitude</th>\n",
       "      <th>pickup_latitude</th>\n",
       "      <th>dropoff_longitude</th>\n",
       "      <th>dropoff_latitude</th>\n",
       "      <th>passenger_count</th>\n",
       "      <th>haversine_distance</th>\n",
       "      <th>year</th>\n",
       "      <th>month</th>\n",
       "      <th>date</th>\n",
       "      <th>day_of_week</th>\n",
       "      <th>hour</th>\n",
       "    </tr>\n",
       "  </thead>\n",
       "  <tbody>\n",
       "    <tr>\n",
       "      <th>11</th>\n",
       "      <td>5.50</td>\n",
       "      <td>0.000000</td>\n",
       "      <td>0.000000</td>\n",
       "      <td>0.000000</td>\n",
       "      <td>0.000000</td>\n",
       "      <td>3.0</td>\n",
       "      <td>0.0</td>\n",
       "      <td>2012.0</td>\n",
       "      <td>12.0</td>\n",
       "      <td>24.0</td>\n",
       "      <td>0.0</td>\n",
       "      <td>11.0</td>\n",
       "    </tr>\n",
       "    <tr>\n",
       "      <th>15</th>\n",
       "      <td>5.00</td>\n",
       "      <td>0.000000</td>\n",
       "      <td>0.000000</td>\n",
       "      <td>0.000000</td>\n",
       "      <td>0.000000</td>\n",
       "      <td>1.0</td>\n",
       "      <td>0.0</td>\n",
       "      <td>2013.0</td>\n",
       "      <td>11.0</td>\n",
       "      <td>23.0</td>\n",
       "      <td>5.0</td>\n",
       "      <td>12.0</td>\n",
       "    </tr>\n",
       "    <tr>\n",
       "      <th>105</th>\n",
       "      <td>52.00</td>\n",
       "      <td>-74.035839</td>\n",
       "      <td>40.747320</td>\n",
       "      <td>-74.035839</td>\n",
       "      <td>40.747320</td>\n",
       "      <td>1.0</td>\n",
       "      <td>0.0</td>\n",
       "      <td>2009.0</td>\n",
       "      <td>3.0</td>\n",
       "      <td>25.0</td>\n",
       "      <td>2.0</td>\n",
       "      <td>0.0</td>\n",
       "    </tr>\n",
       "    <tr>\n",
       "      <th>124</th>\n",
       "      <td>8.00</td>\n",
       "      <td>0.000000</td>\n",
       "      <td>0.000000</td>\n",
       "      <td>0.000000</td>\n",
       "      <td>0.000000</td>\n",
       "      <td>2.0</td>\n",
       "      <td>0.0</td>\n",
       "      <td>2013.0</td>\n",
       "      <td>1.0</td>\n",
       "      <td>17.0</td>\n",
       "      <td>3.0</td>\n",
       "      <td>17.0</td>\n",
       "    </tr>\n",
       "    <tr>\n",
       "      <th>191</th>\n",
       "      <td>6.50</td>\n",
       "      <td>-73.998488</td>\n",
       "      <td>40.726303</td>\n",
       "      <td>-73.998488</td>\n",
       "      <td>40.726303</td>\n",
       "      <td>1.0</td>\n",
       "      <td>0.0</td>\n",
       "      <td>2014.0</td>\n",
       "      <td>1.0</td>\n",
       "      <td>8.0</td>\n",
       "      <td>2.0</td>\n",
       "      <td>21.0</td>\n",
       "    </tr>\n",
       "    <tr>\n",
       "      <th>192</th>\n",
       "      <td>3.70</td>\n",
       "      <td>0.000000</td>\n",
       "      <td>0.000000</td>\n",
       "      <td>0.000000</td>\n",
       "      <td>0.000000</td>\n",
       "      <td>5.0</td>\n",
       "      <td>0.0</td>\n",
       "      <td>2010.0</td>\n",
       "      <td>9.0</td>\n",
       "      <td>5.0</td>\n",
       "      <td>6.0</td>\n",
       "      <td>17.0</td>\n",
       "    </tr>\n",
       "    <tr>\n",
       "      <th>270</th>\n",
       "      <td>7.50</td>\n",
       "      <td>-73.995892</td>\n",
       "      <td>40.746454</td>\n",
       "      <td>-73.995892</td>\n",
       "      <td>40.746454</td>\n",
       "      <td>1.0</td>\n",
       "      <td>0.0</td>\n",
       "      <td>2012.0</td>\n",
       "      <td>8.0</td>\n",
       "      <td>25.0</td>\n",
       "      <td>5.0</td>\n",
       "      <td>1.0</td>\n",
       "    </tr>\n",
       "    <tr>\n",
       "      <th>273</th>\n",
       "      <td>8.10</td>\n",
       "      <td>0.000000</td>\n",
       "      <td>0.000000</td>\n",
       "      <td>0.000000</td>\n",
       "      <td>0.000000</td>\n",
       "      <td>4.0</td>\n",
       "      <td>0.0</td>\n",
       "      <td>2009.0</td>\n",
       "      <td>10.0</td>\n",
       "      <td>30.0</td>\n",
       "      <td>4.0</td>\n",
       "      <td>18.0</td>\n",
       "    </tr>\n",
       "    <tr>\n",
       "      <th>290</th>\n",
       "      <td>6.90</td>\n",
       "      <td>-73.982432</td>\n",
       "      <td>40.745747</td>\n",
       "      <td>-73.982432</td>\n",
       "      <td>40.745747</td>\n",
       "      <td>1.0</td>\n",
       "      <td>0.0</td>\n",
       "      <td>2009.0</td>\n",
       "      <td>12.0</td>\n",
       "      <td>14.0</td>\n",
       "      <td>0.0</td>\n",
       "      <td>12.0</td>\n",
       "    </tr>\n",
       "    <tr>\n",
       "      <th>357</th>\n",
       "      <td>8.50</td>\n",
       "      <td>0.000000</td>\n",
       "      <td>0.000000</td>\n",
       "      <td>0.000000</td>\n",
       "      <td>0.000000</td>\n",
       "      <td>1.0</td>\n",
       "      <td>0.0</td>\n",
       "      <td>2013.0</td>\n",
       "      <td>7.0</td>\n",
       "      <td>4.0</td>\n",
       "      <td>3.0</td>\n",
       "      <td>16.0</td>\n",
       "    </tr>\n",
       "    <tr>\n",
       "      <th>376</th>\n",
       "      <td>2.50</td>\n",
       "      <td>0.000000</td>\n",
       "      <td>0.000000</td>\n",
       "      <td>0.000000</td>\n",
       "      <td>0.000000</td>\n",
       "      <td>1.0</td>\n",
       "      <td>0.0</td>\n",
       "      <td>2014.0</td>\n",
       "      <td>5.0</td>\n",
       "      <td>29.0</td>\n",
       "      <td>3.0</td>\n",
       "      <td>5.0</td>\n",
       "    </tr>\n",
       "    <tr>\n",
       "      <th>387</th>\n",
       "      <td>13.00</td>\n",
       "      <td>0.000000</td>\n",
       "      <td>0.000000</td>\n",
       "      <td>0.000000</td>\n",
       "      <td>0.000000</td>\n",
       "      <td>1.0</td>\n",
       "      <td>0.0</td>\n",
       "      <td>2012.0</td>\n",
       "      <td>11.0</td>\n",
       "      <td>15.0</td>\n",
       "      <td>3.0</td>\n",
       "      <td>8.0</td>\n",
       "    </tr>\n",
       "    <tr>\n",
       "      <th>396</th>\n",
       "      <td>12.00</td>\n",
       "      <td>-73.844904</td>\n",
       "      <td>40.736318</td>\n",
       "      <td>-73.844904</td>\n",
       "      <td>40.736318</td>\n",
       "      <td>1.0</td>\n",
       "      <td>0.0</td>\n",
       "      <td>2014.0</td>\n",
       "      <td>3.0</td>\n",
       "      <td>12.0</td>\n",
       "      <td>2.0</td>\n",
       "      <td>18.0</td>\n",
       "    </tr>\n",
       "    <tr>\n",
       "      <th>472</th>\n",
       "      <td>2.50</td>\n",
       "      <td>0.000000</td>\n",
       "      <td>0.000000</td>\n",
       "      <td>-74.005433</td>\n",
       "      <td>40.726685</td>\n",
       "      <td>2.0</td>\n",
       "      <td>0.0</td>\n",
       "      <td>2009.0</td>\n",
       "      <td>2.0</td>\n",
       "      <td>22.0</td>\n",
       "      <td>6.0</td>\n",
       "      <td>22.0</td>\n",
       "    </tr>\n",
       "    <tr>\n",
       "      <th>503</th>\n",
       "      <td>2.50</td>\n",
       "      <td>-73.998720</td>\n",
       "      <td>40.624708</td>\n",
       "      <td>-73.998720</td>\n",
       "      <td>40.624708</td>\n",
       "      <td>1.0</td>\n",
       "      <td>0.0</td>\n",
       "      <td>2010.0</td>\n",
       "      <td>1.0</td>\n",
       "      <td>19.0</td>\n",
       "      <td>1.0</td>\n",
       "      <td>1.0</td>\n",
       "    </tr>\n",
       "    <tr>\n",
       "      <th>540</th>\n",
       "      <td>16.00</td>\n",
       "      <td>0.000000</td>\n",
       "      <td>0.000000</td>\n",
       "      <td>0.000000</td>\n",
       "      <td>0.000000</td>\n",
       "      <td>1.0</td>\n",
       "      <td>0.0</td>\n",
       "      <td>2013.0</td>\n",
       "      <td>10.0</td>\n",
       "      <td>29.0</td>\n",
       "      <td>1.0</td>\n",
       "      <td>1.0</td>\n",
       "    </tr>\n",
       "    <tr>\n",
       "      <th>542</th>\n",
       "      <td>4.50</td>\n",
       "      <td>0.000000</td>\n",
       "      <td>0.000000</td>\n",
       "      <td>0.000000</td>\n",
       "      <td>0.000000</td>\n",
       "      <td>1.0</td>\n",
       "      <td>0.0</td>\n",
       "      <td>2009.0</td>\n",
       "      <td>12.0</td>\n",
       "      <td>29.0</td>\n",
       "      <td>1.0</td>\n",
       "      <td>14.0</td>\n",
       "    </tr>\n",
       "    <tr>\n",
       "      <th>568</th>\n",
       "      <td>6.50</td>\n",
       "      <td>0.000000</td>\n",
       "      <td>0.000000</td>\n",
       "      <td>0.000000</td>\n",
       "      <td>0.000000</td>\n",
       "      <td>1.0</td>\n",
       "      <td>0.0</td>\n",
       "      <td>2014.0</td>\n",
       "      <td>10.0</td>\n",
       "      <td>8.0</td>\n",
       "      <td>2.0</td>\n",
       "      <td>6.0</td>\n",
       "    </tr>\n",
       "    <tr>\n",
       "      <th>657</th>\n",
       "      <td>2.50</td>\n",
       "      <td>-73.986410</td>\n",
       "      <td>40.763350</td>\n",
       "      <td>-73.986410</td>\n",
       "      <td>40.763350</td>\n",
       "      <td>1.0</td>\n",
       "      <td>0.0</td>\n",
       "      <td>2009.0</td>\n",
       "      <td>8.0</td>\n",
       "      <td>25.0</td>\n",
       "      <td>1.0</td>\n",
       "      <td>1.0</td>\n",
       "    </tr>\n",
       "    <tr>\n",
       "      <th>660</th>\n",
       "      <td>13.30</td>\n",
       "      <td>0.000000</td>\n",
       "      <td>0.000000</td>\n",
       "      <td>0.000000</td>\n",
       "      <td>0.000000</td>\n",
       "      <td>5.0</td>\n",
       "      <td>0.0</td>\n",
       "      <td>2010.0</td>\n",
       "      <td>8.0</td>\n",
       "      <td>18.0</td>\n",
       "      <td>2.0</td>\n",
       "      <td>3.0</td>\n",
       "    </tr>\n",
       "    <tr>\n",
       "      <th>728</th>\n",
       "      <td>11.70</td>\n",
       "      <td>0.000000</td>\n",
       "      <td>0.000000</td>\n",
       "      <td>0.000000</td>\n",
       "      <td>0.000000</td>\n",
       "      <td>1.0</td>\n",
       "      <td>0.0</td>\n",
       "      <td>2010.0</td>\n",
       "      <td>2.0</td>\n",
       "      <td>13.0</td>\n",
       "      <td>5.0</td>\n",
       "      <td>1.0</td>\n",
       "    </tr>\n",
       "    <tr>\n",
       "      <th>737</th>\n",
       "      <td>57.33</td>\n",
       "      <td>-73.776477</td>\n",
       "      <td>40.646290</td>\n",
       "      <td>-73.776477</td>\n",
       "      <td>40.646290</td>\n",
       "      <td>2.0</td>\n",
       "      <td>0.0</td>\n",
       "      <td>2014.0</td>\n",
       "      <td>8.0</td>\n",
       "      <td>11.0</td>\n",
       "      <td>0.0</td>\n",
       "      <td>19.0</td>\n",
       "    </tr>\n",
       "    <tr>\n",
       "      <th>799</th>\n",
       "      <td>3.00</td>\n",
       "      <td>0.000000</td>\n",
       "      <td>0.000000</td>\n",
       "      <td>0.000000</td>\n",
       "      <td>0.000000</td>\n",
       "      <td>5.0</td>\n",
       "      <td>0.0</td>\n",
       "      <td>2013.0</td>\n",
       "      <td>12.0</td>\n",
       "      <td>8.0</td>\n",
       "      <td>6.0</td>\n",
       "      <td>23.0</td>\n",
       "    </tr>\n",
       "    <tr>\n",
       "      <th>808</th>\n",
       "      <td>6.10</td>\n",
       "      <td>-73.984433</td>\n",
       "      <td>40.771084</td>\n",
       "      <td>-73.984433</td>\n",
       "      <td>40.771084</td>\n",
       "      <td>1.0</td>\n",
       "      <td>0.0</td>\n",
       "      <td>2010.0</td>\n",
       "      <td>10.0</td>\n",
       "      <td>22.0</td>\n",
       "      <td>4.0</td>\n",
       "      <td>2.0</td>\n",
       "    </tr>\n",
       "    <tr>\n",
       "      <th>843</th>\n",
       "      <td>5.50</td>\n",
       "      <td>-73.990532</td>\n",
       "      <td>40.719085</td>\n",
       "      <td>-73.990532</td>\n",
       "      <td>40.719085</td>\n",
       "      <td>1.0</td>\n",
       "      <td>0.0</td>\n",
       "      <td>2014.0</td>\n",
       "      <td>7.0</td>\n",
       "      <td>19.0</td>\n",
       "      <td>5.0</td>\n",
       "      <td>4.0</td>\n",
       "    </tr>\n",
       "    <tr>\n",
       "      <th>872</th>\n",
       "      <td>8.50</td>\n",
       "      <td>0.000000</td>\n",
       "      <td>0.000000</td>\n",
       "      <td>0.000000</td>\n",
       "      <td>0.000000</td>\n",
       "      <td>1.0</td>\n",
       "      <td>0.0</td>\n",
       "      <td>2011.0</td>\n",
       "      <td>9.0</td>\n",
       "      <td>25.0</td>\n",
       "      <td>6.0</td>\n",
       "      <td>2.0</td>\n",
       "    </tr>\n",
       "    <tr>\n",
       "      <th>881</th>\n",
       "      <td>8.50</td>\n",
       "      <td>0.000000</td>\n",
       "      <td>0.000000</td>\n",
       "      <td>0.000000</td>\n",
       "      <td>0.000000</td>\n",
       "      <td>1.0</td>\n",
       "      <td>0.0</td>\n",
       "      <td>2011.0</td>\n",
       "      <td>7.0</td>\n",
       "      <td>19.0</td>\n",
       "      <td>1.0</td>\n",
       "      <td>23.0</td>\n",
       "    </tr>\n",
       "    <tr>\n",
       "      <th>887</th>\n",
       "      <td>12.00</td>\n",
       "      <td>0.000000</td>\n",
       "      <td>0.000000</td>\n",
       "      <td>0.000000</td>\n",
       "      <td>0.000000</td>\n",
       "      <td>1.0</td>\n",
       "      <td>0.0</td>\n",
       "      <td>2014.0</td>\n",
       "      <td>9.0</td>\n",
       "      <td>26.0</td>\n",
       "      <td>4.0</td>\n",
       "      <td>19.0</td>\n",
       "    </tr>\n",
       "    <tr>\n",
       "      <th>958</th>\n",
       "      <td>2.50</td>\n",
       "      <td>0.000000</td>\n",
       "      <td>0.000000</td>\n",
       "      <td>0.000000</td>\n",
       "      <td>0.000000</td>\n",
       "      <td>5.0</td>\n",
       "      <td>0.0</td>\n",
       "      <td>2011.0</td>\n",
       "      <td>2.0</td>\n",
       "      <td>22.0</td>\n",
       "      <td>1.0</td>\n",
       "      <td>14.0</td>\n",
       "    </tr>\n",
       "    <tr>\n",
       "      <th>960</th>\n",
       "      <td>12.50</td>\n",
       "      <td>0.000000</td>\n",
       "      <td>0.000000</td>\n",
       "      <td>0.000000</td>\n",
       "      <td>0.000000</td>\n",
       "      <td>1.0</td>\n",
       "      <td>0.0</td>\n",
       "      <td>2013.0</td>\n",
       "      <td>5.0</td>\n",
       "      <td>31.0</td>\n",
       "      <td>4.0</td>\n",
       "      <td>5.0</td>\n",
       "    </tr>\n",
       "    <tr>\n",
       "      <th>...</th>\n",
       "      <td>...</td>\n",
       "      <td>...</td>\n",
       "      <td>...</td>\n",
       "      <td>...</td>\n",
       "      <td>...</td>\n",
       "      <td>...</td>\n",
       "      <td>...</td>\n",
       "      <td>...</td>\n",
       "      <td>...</td>\n",
       "      <td>...</td>\n",
       "      <td>...</td>\n",
       "      <td>...</td>\n",
       "    </tr>\n",
       "    <tr>\n",
       "      <th>15012</th>\n",
       "      <td>6.70</td>\n",
       "      <td>0.000000</td>\n",
       "      <td>0.000000</td>\n",
       "      <td>0.000000</td>\n",
       "      <td>0.000000</td>\n",
       "      <td>1.0</td>\n",
       "      <td>0.0</td>\n",
       "      <td>2009.0</td>\n",
       "      <td>1.0</td>\n",
       "      <td>14.0</td>\n",
       "      <td>2.0</td>\n",
       "      <td>19.0</td>\n",
       "    </tr>\n",
       "    <tr>\n",
       "      <th>15021</th>\n",
       "      <td>3.00</td>\n",
       "      <td>-73.863091</td>\n",
       "      <td>40.769539</td>\n",
       "      <td>-73.863091</td>\n",
       "      <td>40.769539</td>\n",
       "      <td>1.0</td>\n",
       "      <td>0.0</td>\n",
       "      <td>2015.0</td>\n",
       "      <td>6.0</td>\n",
       "      <td>19.0</td>\n",
       "      <td>4.0</td>\n",
       "      <td>10.0</td>\n",
       "    </tr>\n",
       "    <tr>\n",
       "      <th>15024</th>\n",
       "      <td>6.10</td>\n",
       "      <td>0.000000</td>\n",
       "      <td>0.000000</td>\n",
       "      <td>0.000000</td>\n",
       "      <td>0.000000</td>\n",
       "      <td>2.0</td>\n",
       "      <td>0.0</td>\n",
       "      <td>2011.0</td>\n",
       "      <td>11.0</td>\n",
       "      <td>15.0</td>\n",
       "      <td>1.0</td>\n",
       "      <td>9.0</td>\n",
       "    </tr>\n",
       "    <tr>\n",
       "      <th>15027</th>\n",
       "      <td>8.00</td>\n",
       "      <td>0.000000</td>\n",
       "      <td>0.000000</td>\n",
       "      <td>0.000000</td>\n",
       "      <td>0.000000</td>\n",
       "      <td>1.0</td>\n",
       "      <td>0.0</td>\n",
       "      <td>2013.0</td>\n",
       "      <td>12.0</td>\n",
       "      <td>22.0</td>\n",
       "      <td>6.0</td>\n",
       "      <td>9.0</td>\n",
       "    </tr>\n",
       "    <tr>\n",
       "      <th>15044</th>\n",
       "      <td>49.15</td>\n",
       "      <td>0.000000</td>\n",
       "      <td>0.000000</td>\n",
       "      <td>0.000000</td>\n",
       "      <td>0.000000</td>\n",
       "      <td>4.0</td>\n",
       "      <td>0.0</td>\n",
       "      <td>2009.0</td>\n",
       "      <td>2.0</td>\n",
       "      <td>5.0</td>\n",
       "      <td>3.0</td>\n",
       "      <td>10.0</td>\n",
       "    </tr>\n",
       "    <tr>\n",
       "      <th>15203</th>\n",
       "      <td>3.50</td>\n",
       "      <td>0.000000</td>\n",
       "      <td>0.000000</td>\n",
       "      <td>0.000000</td>\n",
       "      <td>0.000000</td>\n",
       "      <td>1.0</td>\n",
       "      <td>0.0</td>\n",
       "      <td>2014.0</td>\n",
       "      <td>4.0</td>\n",
       "      <td>9.0</td>\n",
       "      <td>2.0</td>\n",
       "      <td>21.0</td>\n",
       "    </tr>\n",
       "    <tr>\n",
       "      <th>15230</th>\n",
       "      <td>4.50</td>\n",
       "      <td>-74.002935</td>\n",
       "      <td>40.738790</td>\n",
       "      <td>-74.002935</td>\n",
       "      <td>40.738790</td>\n",
       "      <td>1.0</td>\n",
       "      <td>0.0</td>\n",
       "      <td>2011.0</td>\n",
       "      <td>6.0</td>\n",
       "      <td>10.0</td>\n",
       "      <td>4.0</td>\n",
       "      <td>7.0</td>\n",
       "    </tr>\n",
       "    <tr>\n",
       "      <th>15252</th>\n",
       "      <td>11.30</td>\n",
       "      <td>0.000000</td>\n",
       "      <td>0.000000</td>\n",
       "      <td>0.000000</td>\n",
       "      <td>0.000000</td>\n",
       "      <td>3.0</td>\n",
       "      <td>0.0</td>\n",
       "      <td>2011.0</td>\n",
       "      <td>10.0</td>\n",
       "      <td>8.0</td>\n",
       "      <td>5.0</td>\n",
       "      <td>19.0</td>\n",
       "    </tr>\n",
       "    <tr>\n",
       "      <th>15371</th>\n",
       "      <td>6.00</td>\n",
       "      <td>-73.980940</td>\n",
       "      <td>40.741792</td>\n",
       "      <td>-73.980940</td>\n",
       "      <td>40.741792</td>\n",
       "      <td>1.0</td>\n",
       "      <td>0.0</td>\n",
       "      <td>2013.0</td>\n",
       "      <td>3.0</td>\n",
       "      <td>29.0</td>\n",
       "      <td>4.0</td>\n",
       "      <td>3.0</td>\n",
       "    </tr>\n",
       "    <tr>\n",
       "      <th>15379</th>\n",
       "      <td>5.50</td>\n",
       "      <td>0.000000</td>\n",
       "      <td>0.000000</td>\n",
       "      <td>0.000000</td>\n",
       "      <td>0.000000</td>\n",
       "      <td>5.0</td>\n",
       "      <td>0.0</td>\n",
       "      <td>2014.0</td>\n",
       "      <td>6.0</td>\n",
       "      <td>3.0</td>\n",
       "      <td>1.0</td>\n",
       "      <td>0.0</td>\n",
       "    </tr>\n",
       "    <tr>\n",
       "      <th>15381</th>\n",
       "      <td>4.90</td>\n",
       "      <td>0.000000</td>\n",
       "      <td>0.000000</td>\n",
       "      <td>0.000000</td>\n",
       "      <td>0.000000</td>\n",
       "      <td>4.0</td>\n",
       "      <td>0.0</td>\n",
       "      <td>2010.0</td>\n",
       "      <td>12.0</td>\n",
       "      <td>24.0</td>\n",
       "      <td>4.0</td>\n",
       "      <td>0.0</td>\n",
       "    </tr>\n",
       "    <tr>\n",
       "      <th>15393</th>\n",
       "      <td>8.70</td>\n",
       "      <td>-73.990492</td>\n",
       "      <td>40.746886</td>\n",
       "      <td>-73.990492</td>\n",
       "      <td>40.746886</td>\n",
       "      <td>1.0</td>\n",
       "      <td>0.0</td>\n",
       "      <td>2009.0</td>\n",
       "      <td>4.0</td>\n",
       "      <td>3.0</td>\n",
       "      <td>4.0</td>\n",
       "      <td>19.0</td>\n",
       "    </tr>\n",
       "    <tr>\n",
       "      <th>15402</th>\n",
       "      <td>13.50</td>\n",
       "      <td>0.000000</td>\n",
       "      <td>0.000000</td>\n",
       "      <td>0.000000</td>\n",
       "      <td>0.000000</td>\n",
       "      <td>1.0</td>\n",
       "      <td>0.0</td>\n",
       "      <td>2014.0</td>\n",
       "      <td>5.0</td>\n",
       "      <td>17.0</td>\n",
       "      <td>5.0</td>\n",
       "      <td>11.0</td>\n",
       "    </tr>\n",
       "    <tr>\n",
       "      <th>15418</th>\n",
       "      <td>7.00</td>\n",
       "      <td>0.000000</td>\n",
       "      <td>0.000000</td>\n",
       "      <td>0.000000</td>\n",
       "      <td>0.000000</td>\n",
       "      <td>2.0</td>\n",
       "      <td>0.0</td>\n",
       "      <td>2014.0</td>\n",
       "      <td>12.0</td>\n",
       "      <td>12.0</td>\n",
       "      <td>4.0</td>\n",
       "      <td>20.0</td>\n",
       "    </tr>\n",
       "    <tr>\n",
       "      <th>15524</th>\n",
       "      <td>5.00</td>\n",
       "      <td>-73.918058</td>\n",
       "      <td>40.777991</td>\n",
       "      <td>-73.918058</td>\n",
       "      <td>40.777991</td>\n",
       "      <td>2.0</td>\n",
       "      <td>0.0</td>\n",
       "      <td>2014.0</td>\n",
       "      <td>10.0</td>\n",
       "      <td>4.0</td>\n",
       "      <td>5.0</td>\n",
       "      <td>21.0</td>\n",
       "    </tr>\n",
       "    <tr>\n",
       "      <th>15642</th>\n",
       "      <td>4.50</td>\n",
       "      <td>-73.997977</td>\n",
       "      <td>40.740987</td>\n",
       "      <td>-73.997977</td>\n",
       "      <td>40.740987</td>\n",
       "      <td>1.0</td>\n",
       "      <td>0.0</td>\n",
       "      <td>2012.0</td>\n",
       "      <td>2.0</td>\n",
       "      <td>6.0</td>\n",
       "      <td>0.0</td>\n",
       "      <td>20.0</td>\n",
       "    </tr>\n",
       "    <tr>\n",
       "      <th>15648</th>\n",
       "      <td>31.60</td>\n",
       "      <td>0.000000</td>\n",
       "      <td>0.000000</td>\n",
       "      <td>0.000000</td>\n",
       "      <td>0.000000</td>\n",
       "      <td>1.0</td>\n",
       "      <td>0.0</td>\n",
       "      <td>2010.0</td>\n",
       "      <td>5.0</td>\n",
       "      <td>3.0</td>\n",
       "      <td>0.0</td>\n",
       "      <td>22.0</td>\n",
       "    </tr>\n",
       "    <tr>\n",
       "      <th>15665</th>\n",
       "      <td>11.30</td>\n",
       "      <td>0.000000</td>\n",
       "      <td>0.000000</td>\n",
       "      <td>0.000000</td>\n",
       "      <td>0.000000</td>\n",
       "      <td>1.0</td>\n",
       "      <td>0.0</td>\n",
       "      <td>2012.0</td>\n",
       "      <td>7.0</td>\n",
       "      <td>1.0</td>\n",
       "      <td>6.0</td>\n",
       "      <td>21.0</td>\n",
       "    </tr>\n",
       "    <tr>\n",
       "      <th>15738</th>\n",
       "      <td>8.50</td>\n",
       "      <td>-73.937762</td>\n",
       "      <td>40.758157</td>\n",
       "      <td>-73.937762</td>\n",
       "      <td>40.758157</td>\n",
       "      <td>1.0</td>\n",
       "      <td>0.0</td>\n",
       "      <td>2012.0</td>\n",
       "      <td>5.0</td>\n",
       "      <td>11.0</td>\n",
       "      <td>4.0</td>\n",
       "      <td>7.0</td>\n",
       "    </tr>\n",
       "    <tr>\n",
       "      <th>15764</th>\n",
       "      <td>12.90</td>\n",
       "      <td>0.000000</td>\n",
       "      <td>0.000000</td>\n",
       "      <td>0.000000</td>\n",
       "      <td>0.000000</td>\n",
       "      <td>1.0</td>\n",
       "      <td>0.0</td>\n",
       "      <td>2011.0</td>\n",
       "      <td>8.0</td>\n",
       "      <td>12.0</td>\n",
       "      <td>4.0</td>\n",
       "      <td>14.0</td>\n",
       "    </tr>\n",
       "    <tr>\n",
       "      <th>15769</th>\n",
       "      <td>17.00</td>\n",
       "      <td>-74.003743</td>\n",
       "      <td>40.756404</td>\n",
       "      <td>-74.003743</td>\n",
       "      <td>40.756404</td>\n",
       "      <td>1.0</td>\n",
       "      <td>0.0</td>\n",
       "      <td>2012.0</td>\n",
       "      <td>12.0</td>\n",
       "      <td>21.0</td>\n",
       "      <td>4.0</td>\n",
       "      <td>20.0</td>\n",
       "    </tr>\n",
       "    <tr>\n",
       "      <th>15869</th>\n",
       "      <td>6.90</td>\n",
       "      <td>-73.941874</td>\n",
       "      <td>40.748985</td>\n",
       "      <td>-73.941874</td>\n",
       "      <td>40.748985</td>\n",
       "      <td>1.0</td>\n",
       "      <td>0.0</td>\n",
       "      <td>2009.0</td>\n",
       "      <td>7.0</td>\n",
       "      <td>22.0</td>\n",
       "      <td>2.0</td>\n",
       "      <td>0.0</td>\n",
       "    </tr>\n",
       "    <tr>\n",
       "      <th>15906</th>\n",
       "      <td>12.50</td>\n",
       "      <td>-73.928838</td>\n",
       "      <td>40.616788</td>\n",
       "      <td>-73.928838</td>\n",
       "      <td>40.616788</td>\n",
       "      <td>2.0</td>\n",
       "      <td>0.0</td>\n",
       "      <td>2011.0</td>\n",
       "      <td>11.0</td>\n",
       "      <td>20.0</td>\n",
       "      <td>6.0</td>\n",
       "      <td>12.0</td>\n",
       "    </tr>\n",
       "    <tr>\n",
       "      <th>15911</th>\n",
       "      <td>5.70</td>\n",
       "      <td>0.000000</td>\n",
       "      <td>0.000000</td>\n",
       "      <td>0.000000</td>\n",
       "      <td>0.000000</td>\n",
       "      <td>1.0</td>\n",
       "      <td>0.0</td>\n",
       "      <td>2011.0</td>\n",
       "      <td>4.0</td>\n",
       "      <td>7.0</td>\n",
       "      <td>3.0</td>\n",
       "      <td>7.0</td>\n",
       "    </tr>\n",
       "    <tr>\n",
       "      <th>15920</th>\n",
       "      <td>8.10</td>\n",
       "      <td>0.000000</td>\n",
       "      <td>0.000000</td>\n",
       "      <td>0.000000</td>\n",
       "      <td>0.000000</td>\n",
       "      <td>1.0</td>\n",
       "      <td>0.0</td>\n",
       "      <td>2012.0</td>\n",
       "      <td>5.0</td>\n",
       "      <td>18.0</td>\n",
       "      <td>4.0</td>\n",
       "      <td>4.0</td>\n",
       "    </tr>\n",
       "    <tr>\n",
       "      <th>15929</th>\n",
       "      <td>10.90</td>\n",
       "      <td>0.000000</td>\n",
       "      <td>0.000000</td>\n",
       "      <td>0.000000</td>\n",
       "      <td>0.000000</td>\n",
       "      <td>5.0</td>\n",
       "      <td>0.0</td>\n",
       "      <td>2010.0</td>\n",
       "      <td>5.0</td>\n",
       "      <td>18.0</td>\n",
       "      <td>1.0</td>\n",
       "      <td>20.0</td>\n",
       "    </tr>\n",
       "    <tr>\n",
       "      <th>15937</th>\n",
       "      <td>3.30</td>\n",
       "      <td>0.000000</td>\n",
       "      <td>0.000000</td>\n",
       "      <td>0.000000</td>\n",
       "      <td>0.000000</td>\n",
       "      <td>3.0</td>\n",
       "      <td>0.0</td>\n",
       "      <td>2009.0</td>\n",
       "      <td>10.0</td>\n",
       "      <td>1.0</td>\n",
       "      <td>3.0</td>\n",
       "      <td>20.0</td>\n",
       "    </tr>\n",
       "    <tr>\n",
       "      <th>16014</th>\n",
       "      <td>10.90</td>\n",
       "      <td>0.000000</td>\n",
       "      <td>0.000000</td>\n",
       "      <td>0.000000</td>\n",
       "      <td>0.000000</td>\n",
       "      <td>2.0</td>\n",
       "      <td>0.0</td>\n",
       "      <td>2011.0</td>\n",
       "      <td>3.0</td>\n",
       "      <td>4.0</td>\n",
       "      <td>4.0</td>\n",
       "      <td>14.0</td>\n",
       "    </tr>\n",
       "    <tr>\n",
       "      <th>16022</th>\n",
       "      <td>5.50</td>\n",
       "      <td>-73.984123</td>\n",
       "      <td>40.760387</td>\n",
       "      <td>-73.984123</td>\n",
       "      <td>40.760387</td>\n",
       "      <td>6.0</td>\n",
       "      <td>0.0</td>\n",
       "      <td>2013.0</td>\n",
       "      <td>4.0</td>\n",
       "      <td>10.0</td>\n",
       "      <td>2.0</td>\n",
       "      <td>12.0</td>\n",
       "    </tr>\n",
       "    <tr>\n",
       "      <th>16056</th>\n",
       "      <td>38.30</td>\n",
       "      <td>0.000000</td>\n",
       "      <td>0.000000</td>\n",
       "      <td>0.000000</td>\n",
       "      <td>0.000000</td>\n",
       "      <td>1.0</td>\n",
       "      <td>0.0</td>\n",
       "      <td>2012.0</td>\n",
       "      <td>12.0</td>\n",
       "      <td>17.0</td>\n",
       "      <td>0.0</td>\n",
       "      <td>14.0</td>\n",
       "    </tr>\n",
       "  </tbody>\n",
       "</table>\n",
       "<p>457 rows × 12 columns</p>\n",
       "</div>"
      ],
      "text/plain": [
       "       fare_amount  pickup_longitude  pickup_latitude  dropoff_longitude  \\\n",
       "11            5.50          0.000000         0.000000           0.000000   \n",
       "15            5.00          0.000000         0.000000           0.000000   \n",
       "105          52.00        -74.035839        40.747320         -74.035839   \n",
       "124           8.00          0.000000         0.000000           0.000000   \n",
       "191           6.50        -73.998488        40.726303         -73.998488   \n",
       "192           3.70          0.000000         0.000000           0.000000   \n",
       "270           7.50        -73.995892        40.746454         -73.995892   \n",
       "273           8.10          0.000000         0.000000           0.000000   \n",
       "290           6.90        -73.982432        40.745747         -73.982432   \n",
       "357           8.50          0.000000         0.000000           0.000000   \n",
       "376           2.50          0.000000         0.000000           0.000000   \n",
       "387          13.00          0.000000         0.000000           0.000000   \n",
       "396          12.00        -73.844904        40.736318         -73.844904   \n",
       "472           2.50          0.000000         0.000000         -74.005433   \n",
       "503           2.50        -73.998720        40.624708         -73.998720   \n",
       "540          16.00          0.000000         0.000000           0.000000   \n",
       "542           4.50          0.000000         0.000000           0.000000   \n",
       "568           6.50          0.000000         0.000000           0.000000   \n",
       "657           2.50        -73.986410        40.763350         -73.986410   \n",
       "660          13.30          0.000000         0.000000           0.000000   \n",
       "728          11.70          0.000000         0.000000           0.000000   \n",
       "737          57.33        -73.776477        40.646290         -73.776477   \n",
       "799           3.00          0.000000         0.000000           0.000000   \n",
       "808           6.10        -73.984433        40.771084         -73.984433   \n",
       "843           5.50        -73.990532        40.719085         -73.990532   \n",
       "872           8.50          0.000000         0.000000           0.000000   \n",
       "881           8.50          0.000000         0.000000           0.000000   \n",
       "887          12.00          0.000000         0.000000           0.000000   \n",
       "958           2.50          0.000000         0.000000           0.000000   \n",
       "960          12.50          0.000000         0.000000           0.000000   \n",
       "...            ...               ...              ...                ...   \n",
       "15012         6.70          0.000000         0.000000           0.000000   \n",
       "15021         3.00        -73.863091        40.769539         -73.863091   \n",
       "15024         6.10          0.000000         0.000000           0.000000   \n",
       "15027         8.00          0.000000         0.000000           0.000000   \n",
       "15044        49.15          0.000000         0.000000           0.000000   \n",
       "15203         3.50          0.000000         0.000000           0.000000   \n",
       "15230         4.50        -74.002935        40.738790         -74.002935   \n",
       "15252        11.30          0.000000         0.000000           0.000000   \n",
       "15371         6.00        -73.980940        40.741792         -73.980940   \n",
       "15379         5.50          0.000000         0.000000           0.000000   \n",
       "15381         4.90          0.000000         0.000000           0.000000   \n",
       "15393         8.70        -73.990492        40.746886         -73.990492   \n",
       "15402        13.50          0.000000         0.000000           0.000000   \n",
       "15418         7.00          0.000000         0.000000           0.000000   \n",
       "15524         5.00        -73.918058        40.777991         -73.918058   \n",
       "15642         4.50        -73.997977        40.740987         -73.997977   \n",
       "15648        31.60          0.000000         0.000000           0.000000   \n",
       "15665        11.30          0.000000         0.000000           0.000000   \n",
       "15738         8.50        -73.937762        40.758157         -73.937762   \n",
       "15764        12.90          0.000000         0.000000           0.000000   \n",
       "15769        17.00        -74.003743        40.756404         -74.003743   \n",
       "15869         6.90        -73.941874        40.748985         -73.941874   \n",
       "15906        12.50        -73.928838        40.616788         -73.928838   \n",
       "15911         5.70          0.000000         0.000000           0.000000   \n",
       "15920         8.10          0.000000         0.000000           0.000000   \n",
       "15929        10.90          0.000000         0.000000           0.000000   \n",
       "15937         3.30          0.000000         0.000000           0.000000   \n",
       "16014        10.90          0.000000         0.000000           0.000000   \n",
       "16022         5.50        -73.984123        40.760387         -73.984123   \n",
       "16056        38.30          0.000000         0.000000           0.000000   \n",
       "\n",
       "       dropoff_latitude  passenger_count  haversine_distance    year  month  \\\n",
       "11             0.000000              3.0                 0.0  2012.0   12.0   \n",
       "15             0.000000              1.0                 0.0  2013.0   11.0   \n",
       "105           40.747320              1.0                 0.0  2009.0    3.0   \n",
       "124            0.000000              2.0                 0.0  2013.0    1.0   \n",
       "191           40.726303              1.0                 0.0  2014.0    1.0   \n",
       "192            0.000000              5.0                 0.0  2010.0    9.0   \n",
       "270           40.746454              1.0                 0.0  2012.0    8.0   \n",
       "273            0.000000              4.0                 0.0  2009.0   10.0   \n",
       "290           40.745747              1.0                 0.0  2009.0   12.0   \n",
       "357            0.000000              1.0                 0.0  2013.0    7.0   \n",
       "376            0.000000              1.0                 0.0  2014.0    5.0   \n",
       "387            0.000000              1.0                 0.0  2012.0   11.0   \n",
       "396           40.736318              1.0                 0.0  2014.0    3.0   \n",
       "472           40.726685              2.0                 0.0  2009.0    2.0   \n",
       "503           40.624708              1.0                 0.0  2010.0    1.0   \n",
       "540            0.000000              1.0                 0.0  2013.0   10.0   \n",
       "542            0.000000              1.0                 0.0  2009.0   12.0   \n",
       "568            0.000000              1.0                 0.0  2014.0   10.0   \n",
       "657           40.763350              1.0                 0.0  2009.0    8.0   \n",
       "660            0.000000              5.0                 0.0  2010.0    8.0   \n",
       "728            0.000000              1.0                 0.0  2010.0    2.0   \n",
       "737           40.646290              2.0                 0.0  2014.0    8.0   \n",
       "799            0.000000              5.0                 0.0  2013.0   12.0   \n",
       "808           40.771084              1.0                 0.0  2010.0   10.0   \n",
       "843           40.719085              1.0                 0.0  2014.0    7.0   \n",
       "872            0.000000              1.0                 0.0  2011.0    9.0   \n",
       "881            0.000000              1.0                 0.0  2011.0    7.0   \n",
       "887            0.000000              1.0                 0.0  2014.0    9.0   \n",
       "958            0.000000              5.0                 0.0  2011.0    2.0   \n",
       "960            0.000000              1.0                 0.0  2013.0    5.0   \n",
       "...                 ...              ...                 ...     ...    ...   \n",
       "15012          0.000000              1.0                 0.0  2009.0    1.0   \n",
       "15021         40.769539              1.0                 0.0  2015.0    6.0   \n",
       "15024          0.000000              2.0                 0.0  2011.0   11.0   \n",
       "15027          0.000000              1.0                 0.0  2013.0   12.0   \n",
       "15044          0.000000              4.0                 0.0  2009.0    2.0   \n",
       "15203          0.000000              1.0                 0.0  2014.0    4.0   \n",
       "15230         40.738790              1.0                 0.0  2011.0    6.0   \n",
       "15252          0.000000              3.0                 0.0  2011.0   10.0   \n",
       "15371         40.741792              1.0                 0.0  2013.0    3.0   \n",
       "15379          0.000000              5.0                 0.0  2014.0    6.0   \n",
       "15381          0.000000              4.0                 0.0  2010.0   12.0   \n",
       "15393         40.746886              1.0                 0.0  2009.0    4.0   \n",
       "15402          0.000000              1.0                 0.0  2014.0    5.0   \n",
       "15418          0.000000              2.0                 0.0  2014.0   12.0   \n",
       "15524         40.777991              2.0                 0.0  2014.0   10.0   \n",
       "15642         40.740987              1.0                 0.0  2012.0    2.0   \n",
       "15648          0.000000              1.0                 0.0  2010.0    5.0   \n",
       "15665          0.000000              1.0                 0.0  2012.0    7.0   \n",
       "15738         40.758157              1.0                 0.0  2012.0    5.0   \n",
       "15764          0.000000              1.0                 0.0  2011.0    8.0   \n",
       "15769         40.756404              1.0                 0.0  2012.0   12.0   \n",
       "15869         40.748985              1.0                 0.0  2009.0    7.0   \n",
       "15906         40.616788              2.0                 0.0  2011.0   11.0   \n",
       "15911          0.000000              1.0                 0.0  2011.0    4.0   \n",
       "15920          0.000000              1.0                 0.0  2012.0    5.0   \n",
       "15929          0.000000              5.0                 0.0  2010.0    5.0   \n",
       "15937          0.000000              3.0                 0.0  2009.0   10.0   \n",
       "16014          0.000000              2.0                 0.0  2011.0    3.0   \n",
       "16022         40.760387              6.0                 0.0  2013.0    4.0   \n",
       "16056          0.000000              1.0                 0.0  2012.0   12.0   \n",
       "\n",
       "       date  day_of_week  hour  \n",
       "11     24.0          0.0  11.0  \n",
       "15     23.0          5.0  12.0  \n",
       "105    25.0          2.0   0.0  \n",
       "124    17.0          3.0  17.0  \n",
       "191     8.0          2.0  21.0  \n",
       "192     5.0          6.0  17.0  \n",
       "270    25.0          5.0   1.0  \n",
       "273    30.0          4.0  18.0  \n",
       "290    14.0          0.0  12.0  \n",
       "357     4.0          3.0  16.0  \n",
       "376    29.0          3.0   5.0  \n",
       "387    15.0          3.0   8.0  \n",
       "396    12.0          2.0  18.0  \n",
       "472    22.0          6.0  22.0  \n",
       "503    19.0          1.0   1.0  \n",
       "540    29.0          1.0   1.0  \n",
       "542    29.0          1.0  14.0  \n",
       "568     8.0          2.0   6.0  \n",
       "657    25.0          1.0   1.0  \n",
       "660    18.0          2.0   3.0  \n",
       "728    13.0          5.0   1.0  \n",
       "737    11.0          0.0  19.0  \n",
       "799     8.0          6.0  23.0  \n",
       "808    22.0          4.0   2.0  \n",
       "843    19.0          5.0   4.0  \n",
       "872    25.0          6.0   2.0  \n",
       "881    19.0          1.0  23.0  \n",
       "887    26.0          4.0  19.0  \n",
       "958    22.0          1.0  14.0  \n",
       "960    31.0          4.0   5.0  \n",
       "...     ...          ...   ...  \n",
       "15012  14.0          2.0  19.0  \n",
       "15021  19.0          4.0  10.0  \n",
       "15024  15.0          1.0   9.0  \n",
       "15027  22.0          6.0   9.0  \n",
       "15044   5.0          3.0  10.0  \n",
       "15203   9.0          2.0  21.0  \n",
       "15230  10.0          4.0   7.0  \n",
       "15252   8.0          5.0  19.0  \n",
       "15371  29.0          4.0   3.0  \n",
       "15379   3.0          1.0   0.0  \n",
       "15381  24.0          4.0   0.0  \n",
       "15393   3.0          4.0  19.0  \n",
       "15402  17.0          5.0  11.0  \n",
       "15418  12.0          4.0  20.0  \n",
       "15524   4.0          5.0  21.0  \n",
       "15642   6.0          0.0  20.0  \n",
       "15648   3.0          0.0  22.0  \n",
       "15665   1.0          6.0  21.0  \n",
       "15738  11.0          4.0   7.0  \n",
       "15764  12.0          4.0  14.0  \n",
       "15769  21.0          4.0  20.0  \n",
       "15869  22.0          2.0   0.0  \n",
       "15906  20.0          6.0  12.0  \n",
       "15911   7.0          3.0   7.0  \n",
       "15920  18.0          4.0   4.0  \n",
       "15929  18.0          1.0  20.0  \n",
       "15937   1.0          3.0  20.0  \n",
       "16014   4.0          4.0  14.0  \n",
       "16022  10.0          2.0  12.0  \n",
       "16056  17.0          0.0  14.0  \n",
       "\n",
       "[457 rows x 12 columns]"
      ]
     },
     "execution_count": 73,
     "metadata": {},
     "output_type": "execute_result"
    }
   ],
   "source": [
    "# Rows where distance is 0 and fare is not 0\n",
    "zero_distance = train.loc[(train['haversine_distance']==0) & (train['fare_amount']!=0)]\n",
    "zero_distance"
   ]
  },
  {
   "cell_type": "code",
   "execution_count": 74,
   "metadata": {},
   "outputs": [
    {
     "name": "stderr",
     "output_type": "stream",
     "text": [
      "C:\\Users\\GAURAV\\Anaconda3\\lib\\site-packages\\ipykernel_launcher.py:2: SettingWithCopyWarning: \n",
      "A value is trying to be set on a copy of a slice from a DataFrame.\n",
      "Try using .loc[row_indexer,col_indexer] = value instead\n",
      "\n",
      "See the caveats in the documentation: http://pandas.pydata.org/pandas-docs/stable/indexing.html#indexing-view-versus-copy\n",
      "  \n"
     ]
    }
   ],
   "source": [
    "# Lets impute them with distance formula.\n",
    "zero_distance['haversine_distance'] = zero_distance.apply(lambda row: (row['fare_amount'] - 2.50)/1.56, axis=1)"
   ]
  },
  {
   "cell_type": "code",
   "execution_count": 75,
   "metadata": {},
   "outputs": [],
   "source": [
    "train.update(zero_distance)"
   ]
  },
  {
   "cell_type": "code",
   "execution_count": 76,
   "metadata": {},
   "outputs": [
    {
     "data": {
      "text/html": [
       "<div>\n",
       "<style scoped>\n",
       "    .dataframe tbody tr th:only-of-type {\n",
       "        vertical-align: middle;\n",
       "    }\n",
       "\n",
       "    .dataframe tbody tr th {\n",
       "        vertical-align: top;\n",
       "    }\n",
       "\n",
       "    .dataframe thead th {\n",
       "        text-align: right;\n",
       "    }\n",
       "</style>\n",
       "<table border=\"1\" class=\"dataframe\">\n",
       "  <thead>\n",
       "    <tr style=\"text-align: right;\">\n",
       "      <th></th>\n",
       "      <th>fare_amount</th>\n",
       "      <th>pickup_longitude</th>\n",
       "      <th>pickup_latitude</th>\n",
       "      <th>dropoff_longitude</th>\n",
       "      <th>dropoff_latitude</th>\n",
       "      <th>passenger_count</th>\n",
       "      <th>haversine_distance</th>\n",
       "      <th>year</th>\n",
       "      <th>month</th>\n",
       "      <th>date</th>\n",
       "      <th>day_of_week</th>\n",
       "      <th>hour</th>\n",
       "    </tr>\n",
       "  </thead>\n",
       "  <tbody>\n",
       "    <tr>\n",
       "      <th>376</th>\n",
       "      <td>2.5</td>\n",
       "      <td>0.000000</td>\n",
       "      <td>0.000000</td>\n",
       "      <td>0.000000</td>\n",
       "      <td>0.000000</td>\n",
       "      <td>1.0</td>\n",
       "      <td>0.0</td>\n",
       "      <td>2014.0</td>\n",
       "      <td>5.0</td>\n",
       "      <td>29.0</td>\n",
       "      <td>3.0</td>\n",
       "      <td>5.0</td>\n",
       "    </tr>\n",
       "    <tr>\n",
       "      <th>472</th>\n",
       "      <td>2.5</td>\n",
       "      <td>0.000000</td>\n",
       "      <td>0.000000</td>\n",
       "      <td>-74.005433</td>\n",
       "      <td>40.726685</td>\n",
       "      <td>2.0</td>\n",
       "      <td>0.0</td>\n",
       "      <td>2009.0</td>\n",
       "      <td>2.0</td>\n",
       "      <td>22.0</td>\n",
       "      <td>6.0</td>\n",
       "      <td>22.0</td>\n",
       "    </tr>\n",
       "    <tr>\n",
       "      <th>503</th>\n",
       "      <td>2.5</td>\n",
       "      <td>-73.998720</td>\n",
       "      <td>40.624708</td>\n",
       "      <td>-73.998720</td>\n",
       "      <td>40.624708</td>\n",
       "      <td>1.0</td>\n",
       "      <td>0.0</td>\n",
       "      <td>2010.0</td>\n",
       "      <td>1.0</td>\n",
       "      <td>19.0</td>\n",
       "      <td>1.0</td>\n",
       "      <td>1.0</td>\n",
       "    </tr>\n",
       "    <tr>\n",
       "      <th>657</th>\n",
       "      <td>2.5</td>\n",
       "      <td>-73.986410</td>\n",
       "      <td>40.763350</td>\n",
       "      <td>-73.986410</td>\n",
       "      <td>40.763350</td>\n",
       "      <td>1.0</td>\n",
       "      <td>0.0</td>\n",
       "      <td>2009.0</td>\n",
       "      <td>8.0</td>\n",
       "      <td>25.0</td>\n",
       "      <td>1.0</td>\n",
       "      <td>1.0</td>\n",
       "    </tr>\n",
       "    <tr>\n",
       "      <th>958</th>\n",
       "      <td>2.5</td>\n",
       "      <td>0.000000</td>\n",
       "      <td>0.000000</td>\n",
       "      <td>0.000000</td>\n",
       "      <td>0.000000</td>\n",
       "      <td>5.0</td>\n",
       "      <td>0.0</td>\n",
       "      <td>2011.0</td>\n",
       "      <td>2.0</td>\n",
       "      <td>22.0</td>\n",
       "      <td>1.0</td>\n",
       "      <td>14.0</td>\n",
       "    </tr>\n",
       "    <tr>\n",
       "      <th>1419</th>\n",
       "      <td>2.5</td>\n",
       "      <td>-73.956556</td>\n",
       "      <td>40.779828</td>\n",
       "      <td>-73.956556</td>\n",
       "      <td>40.779828</td>\n",
       "      <td>1.0</td>\n",
       "      <td>0.0</td>\n",
       "      <td>2013.0</td>\n",
       "      <td>7.0</td>\n",
       "      <td>21.0</td>\n",
       "      <td>6.0</td>\n",
       "      <td>0.0</td>\n",
       "    </tr>\n",
       "    <tr>\n",
       "      <th>1774</th>\n",
       "      <td>2.5</td>\n",
       "      <td>-73.950282</td>\n",
       "      <td>40.701282</td>\n",
       "      <td>-73.950282</td>\n",
       "      <td>40.701282</td>\n",
       "      <td>1.0</td>\n",
       "      <td>0.0</td>\n",
       "      <td>2012.0</td>\n",
       "      <td>8.0</td>\n",
       "      <td>27.0</td>\n",
       "      <td>0.0</td>\n",
       "      <td>15.0</td>\n",
       "    </tr>\n",
       "    <tr>\n",
       "      <th>3168</th>\n",
       "      <td>2.5</td>\n",
       "      <td>0.000000</td>\n",
       "      <td>0.000000</td>\n",
       "      <td>0.000000</td>\n",
       "      <td>0.000000</td>\n",
       "      <td>1.0</td>\n",
       "      <td>0.0</td>\n",
       "      <td>2012.0</td>\n",
       "      <td>7.0</td>\n",
       "      <td>6.0</td>\n",
       "      <td>4.0</td>\n",
       "      <td>22.0</td>\n",
       "    </tr>\n",
       "    <tr>\n",
       "      <th>4367</th>\n",
       "      <td>2.5</td>\n",
       "      <td>-73.948410</td>\n",
       "      <td>40.744969</td>\n",
       "      <td>-73.948410</td>\n",
       "      <td>40.744969</td>\n",
       "      <td>1.0</td>\n",
       "      <td>0.0</td>\n",
       "      <td>2014.0</td>\n",
       "      <td>1.0</td>\n",
       "      <td>13.0</td>\n",
       "      <td>0.0</td>\n",
       "      <td>16.0</td>\n",
       "    </tr>\n",
       "    <tr>\n",
       "      <th>4954</th>\n",
       "      <td>2.5</td>\n",
       "      <td>-73.983934</td>\n",
       "      <td>40.754938</td>\n",
       "      <td>-73.983934</td>\n",
       "      <td>40.754938</td>\n",
       "      <td>1.0</td>\n",
       "      <td>0.0</td>\n",
       "      <td>2010.0</td>\n",
       "      <td>1.0</td>\n",
       "      <td>10.0</td>\n",
       "      <td>6.0</td>\n",
       "      <td>13.0</td>\n",
       "    </tr>\n",
       "    <tr>\n",
       "      <th>5449</th>\n",
       "      <td>2.5</td>\n",
       "      <td>-73.934094</td>\n",
       "      <td>40.751906</td>\n",
       "      <td>-73.934094</td>\n",
       "      <td>40.751906</td>\n",
       "      <td>1.0</td>\n",
       "      <td>0.0</td>\n",
       "      <td>2010.0</td>\n",
       "      <td>7.0</td>\n",
       "      <td>17.0</td>\n",
       "      <td>5.0</td>\n",
       "      <td>6.0</td>\n",
       "    </tr>\n",
       "    <tr>\n",
       "      <th>6007</th>\n",
       "      <td>2.5</td>\n",
       "      <td>0.000000</td>\n",
       "      <td>0.000000</td>\n",
       "      <td>0.000000</td>\n",
       "      <td>0.000000</td>\n",
       "      <td>1.0</td>\n",
       "      <td>0.0</td>\n",
       "      <td>2012.0</td>\n",
       "      <td>11.0</td>\n",
       "      <td>21.0</td>\n",
       "      <td>2.0</td>\n",
       "      <td>12.0</td>\n",
       "    </tr>\n",
       "    <tr>\n",
       "      <th>6297</th>\n",
       "      <td>2.5</td>\n",
       "      <td>0.000000</td>\n",
       "      <td>0.000000</td>\n",
       "      <td>0.000000</td>\n",
       "      <td>0.000000</td>\n",
       "      <td>1.0</td>\n",
       "      <td>0.0</td>\n",
       "      <td>2010.0</td>\n",
       "      <td>11.0</td>\n",
       "      <td>15.0</td>\n",
       "      <td>0.0</td>\n",
       "      <td>9.0</td>\n",
       "    </tr>\n",
       "    <tr>\n",
       "      <th>6632</th>\n",
       "      <td>2.5</td>\n",
       "      <td>-74.001027</td>\n",
       "      <td>40.727612</td>\n",
       "      <td>-74.001027</td>\n",
       "      <td>40.727612</td>\n",
       "      <td>1.0</td>\n",
       "      <td>0.0</td>\n",
       "      <td>2010.0</td>\n",
       "      <td>7.0</td>\n",
       "      <td>28.0</td>\n",
       "      <td>2.0</td>\n",
       "      <td>17.0</td>\n",
       "    </tr>\n",
       "    <tr>\n",
       "      <th>7408</th>\n",
       "      <td>2.5</td>\n",
       "      <td>-73.960443</td>\n",
       "      <td>40.761375</td>\n",
       "      <td>-73.960443</td>\n",
       "      <td>40.761375</td>\n",
       "      <td>1.0</td>\n",
       "      <td>0.0</td>\n",
       "      <td>2011.0</td>\n",
       "      <td>1.0</td>\n",
       "      <td>18.0</td>\n",
       "      <td>1.0</td>\n",
       "      <td>16.0</td>\n",
       "    </tr>\n",
       "    <tr>\n",
       "      <th>8711</th>\n",
       "      <td>2.5</td>\n",
       "      <td>-73.978626</td>\n",
       "      <td>40.744067</td>\n",
       "      <td>-73.978626</td>\n",
       "      <td>40.744067</td>\n",
       "      <td>1.0</td>\n",
       "      <td>0.0</td>\n",
       "      <td>2013.0</td>\n",
       "      <td>1.0</td>\n",
       "      <td>2.0</td>\n",
       "      <td>2.0</td>\n",
       "      <td>9.0</td>\n",
       "    </tr>\n",
       "    <tr>\n",
       "      <th>9177</th>\n",
       "      <td>2.5</td>\n",
       "      <td>-73.946993</td>\n",
       "      <td>40.744583</td>\n",
       "      <td>-73.946993</td>\n",
       "      <td>40.744583</td>\n",
       "      <td>3.0</td>\n",
       "      <td>0.0</td>\n",
       "      <td>2010.0</td>\n",
       "      <td>12.0</td>\n",
       "      <td>6.0</td>\n",
       "      <td>0.0</td>\n",
       "      <td>11.0</td>\n",
       "    </tr>\n",
       "    <tr>\n",
       "      <th>9621</th>\n",
       "      <td>2.5</td>\n",
       "      <td>0.000000</td>\n",
       "      <td>0.000000</td>\n",
       "      <td>0.000000</td>\n",
       "      <td>0.000000</td>\n",
       "      <td>1.0</td>\n",
       "      <td>0.0</td>\n",
       "      <td>2015.0</td>\n",
       "      <td>3.0</td>\n",
       "      <td>1.0</td>\n",
       "      <td>6.0</td>\n",
       "      <td>22.0</td>\n",
       "    </tr>\n",
       "    <tr>\n",
       "      <th>9773</th>\n",
       "      <td>2.5</td>\n",
       "      <td>-73.874439</td>\n",
       "      <td>40.773819</td>\n",
       "      <td>-73.874439</td>\n",
       "      <td>40.773819</td>\n",
       "      <td>1.0</td>\n",
       "      <td>0.0</td>\n",
       "      <td>2013.0</td>\n",
       "      <td>3.0</td>\n",
       "      <td>29.0</td>\n",
       "      <td>4.0</td>\n",
       "      <td>18.0</td>\n",
       "    </tr>\n",
       "    <tr>\n",
       "      <th>10458</th>\n",
       "      <td>2.5</td>\n",
       "      <td>-73.979678</td>\n",
       "      <td>40.765962</td>\n",
       "      <td>0.000000</td>\n",
       "      <td>0.000000</td>\n",
       "      <td>1.0</td>\n",
       "      <td>0.0</td>\n",
       "      <td>2013.0</td>\n",
       "      <td>2.0</td>\n",
       "      <td>23.0</td>\n",
       "      <td>5.0</td>\n",
       "      <td>20.0</td>\n",
       "    </tr>\n",
       "    <tr>\n",
       "      <th>10705</th>\n",
       "      <td>2.5</td>\n",
       "      <td>-73.950813</td>\n",
       "      <td>40.771671</td>\n",
       "      <td>-73.950813</td>\n",
       "      <td>40.771671</td>\n",
       "      <td>1.0</td>\n",
       "      <td>0.0</td>\n",
       "      <td>2013.0</td>\n",
       "      <td>9.0</td>\n",
       "      <td>13.0</td>\n",
       "      <td>4.0</td>\n",
       "      <td>16.0</td>\n",
       "    </tr>\n",
       "    <tr>\n",
       "      <th>11062</th>\n",
       "      <td>2.5</td>\n",
       "      <td>0.000000</td>\n",
       "      <td>0.000000</td>\n",
       "      <td>0.000000</td>\n",
       "      <td>0.000000</td>\n",
       "      <td>1.0</td>\n",
       "      <td>0.0</td>\n",
       "      <td>2013.0</td>\n",
       "      <td>5.0</td>\n",
       "      <td>1.0</td>\n",
       "      <td>2.0</td>\n",
       "      <td>6.0</td>\n",
       "    </tr>\n",
       "    <tr>\n",
       "      <th>12598</th>\n",
       "      <td>2.5</td>\n",
       "      <td>0.000000</td>\n",
       "      <td>0.000000</td>\n",
       "      <td>0.000000</td>\n",
       "      <td>0.000000</td>\n",
       "      <td>5.0</td>\n",
       "      <td>0.0</td>\n",
       "      <td>2012.0</td>\n",
       "      <td>1.0</td>\n",
       "      <td>25.0</td>\n",
       "      <td>2.0</td>\n",
       "      <td>18.0</td>\n",
       "    </tr>\n",
       "    <tr>\n",
       "      <th>12705</th>\n",
       "      <td>2.5</td>\n",
       "      <td>-73.929230</td>\n",
       "      <td>40.744627</td>\n",
       "      <td>0.000000</td>\n",
       "      <td>0.000000</td>\n",
       "      <td>5.0</td>\n",
       "      <td>0.0</td>\n",
       "      <td>2012.0</td>\n",
       "      <td>10.0</td>\n",
       "      <td>31.0</td>\n",
       "      <td>2.0</td>\n",
       "      <td>14.0</td>\n",
       "    </tr>\n",
       "    <tr>\n",
       "      <th>13221</th>\n",
       "      <td>2.5</td>\n",
       "      <td>0.000000</td>\n",
       "      <td>0.000000</td>\n",
       "      <td>0.000000</td>\n",
       "      <td>0.000000</td>\n",
       "      <td>1.0</td>\n",
       "      <td>0.0</td>\n",
       "      <td>2012.0</td>\n",
       "      <td>9.0</td>\n",
       "      <td>29.0</td>\n",
       "      <td>5.0</td>\n",
       "      <td>8.0</td>\n",
       "    </tr>\n",
       "    <tr>\n",
       "      <th>13571</th>\n",
       "      <td>2.5</td>\n",
       "      <td>-73.416169</td>\n",
       "      <td>40.784140</td>\n",
       "      <td>-73.416169</td>\n",
       "      <td>40.784140</td>\n",
       "      <td>1.0</td>\n",
       "      <td>0.0</td>\n",
       "      <td>2009.0</td>\n",
       "      <td>3.0</td>\n",
       "      <td>9.0</td>\n",
       "      <td>0.0</td>\n",
       "      <td>12.0</td>\n",
       "    </tr>\n",
       "    <tr>\n",
       "      <th>14304</th>\n",
       "      <td>2.5</td>\n",
       "      <td>0.000000</td>\n",
       "      <td>0.000000</td>\n",
       "      <td>0.000000</td>\n",
       "      <td>0.000000</td>\n",
       "      <td>1.0</td>\n",
       "      <td>0.0</td>\n",
       "      <td>2012.0</td>\n",
       "      <td>3.0</td>\n",
       "      <td>15.0</td>\n",
       "      <td>3.0</td>\n",
       "      <td>17.0</td>\n",
       "    </tr>\n",
       "  </tbody>\n",
       "</table>\n",
       "</div>"
      ],
      "text/plain": [
       "       fare_amount  pickup_longitude  pickup_latitude  dropoff_longitude  \\\n",
       "376            2.5          0.000000         0.000000           0.000000   \n",
       "472            2.5          0.000000         0.000000         -74.005433   \n",
       "503            2.5        -73.998720        40.624708         -73.998720   \n",
       "657            2.5        -73.986410        40.763350         -73.986410   \n",
       "958            2.5          0.000000         0.000000           0.000000   \n",
       "1419           2.5        -73.956556        40.779828         -73.956556   \n",
       "1774           2.5        -73.950282        40.701282         -73.950282   \n",
       "3168           2.5          0.000000         0.000000           0.000000   \n",
       "4367           2.5        -73.948410        40.744969         -73.948410   \n",
       "4954           2.5        -73.983934        40.754938         -73.983934   \n",
       "5449           2.5        -73.934094        40.751906         -73.934094   \n",
       "6007           2.5          0.000000         0.000000           0.000000   \n",
       "6297           2.5          0.000000         0.000000           0.000000   \n",
       "6632           2.5        -74.001027        40.727612         -74.001027   \n",
       "7408           2.5        -73.960443        40.761375         -73.960443   \n",
       "8711           2.5        -73.978626        40.744067         -73.978626   \n",
       "9177           2.5        -73.946993        40.744583         -73.946993   \n",
       "9621           2.5          0.000000         0.000000           0.000000   \n",
       "9773           2.5        -73.874439        40.773819         -73.874439   \n",
       "10458          2.5        -73.979678        40.765962           0.000000   \n",
       "10705          2.5        -73.950813        40.771671         -73.950813   \n",
       "11062          2.5          0.000000         0.000000           0.000000   \n",
       "12598          2.5          0.000000         0.000000           0.000000   \n",
       "12705          2.5        -73.929230        40.744627           0.000000   \n",
       "13221          2.5          0.000000         0.000000           0.000000   \n",
       "13571          2.5        -73.416169        40.784140         -73.416169   \n",
       "14304          2.5          0.000000         0.000000           0.000000   \n",
       "\n",
       "       dropoff_latitude  passenger_count  haversine_distance    year  month  \\\n",
       "376            0.000000              1.0                 0.0  2014.0    5.0   \n",
       "472           40.726685              2.0                 0.0  2009.0    2.0   \n",
       "503           40.624708              1.0                 0.0  2010.0    1.0   \n",
       "657           40.763350              1.0                 0.0  2009.0    8.0   \n",
       "958            0.000000              5.0                 0.0  2011.0    2.0   \n",
       "1419          40.779828              1.0                 0.0  2013.0    7.0   \n",
       "1774          40.701282              1.0                 0.0  2012.0    8.0   \n",
       "3168           0.000000              1.0                 0.0  2012.0    7.0   \n",
       "4367          40.744969              1.0                 0.0  2014.0    1.0   \n",
       "4954          40.754938              1.0                 0.0  2010.0    1.0   \n",
       "5449          40.751906              1.0                 0.0  2010.0    7.0   \n",
       "6007           0.000000              1.0                 0.0  2012.0   11.0   \n",
       "6297           0.000000              1.0                 0.0  2010.0   11.0   \n",
       "6632          40.727612              1.0                 0.0  2010.0    7.0   \n",
       "7408          40.761375              1.0                 0.0  2011.0    1.0   \n",
       "8711          40.744067              1.0                 0.0  2013.0    1.0   \n",
       "9177          40.744583              3.0                 0.0  2010.0   12.0   \n",
       "9621           0.000000              1.0                 0.0  2015.0    3.0   \n",
       "9773          40.773819              1.0                 0.0  2013.0    3.0   \n",
       "10458          0.000000              1.0                 0.0  2013.0    2.0   \n",
       "10705         40.771671              1.0                 0.0  2013.0    9.0   \n",
       "11062          0.000000              1.0                 0.0  2013.0    5.0   \n",
       "12598          0.000000              5.0                 0.0  2012.0    1.0   \n",
       "12705          0.000000              5.0                 0.0  2012.0   10.0   \n",
       "13221          0.000000              1.0                 0.0  2012.0    9.0   \n",
       "13571         40.784140              1.0                 0.0  2009.0    3.0   \n",
       "14304          0.000000              1.0                 0.0  2012.0    3.0   \n",
       "\n",
       "       date  day_of_week  hour  \n",
       "376    29.0          3.0   5.0  \n",
       "472    22.0          6.0  22.0  \n",
       "503    19.0          1.0   1.0  \n",
       "657    25.0          1.0   1.0  \n",
       "958    22.0          1.0  14.0  \n",
       "1419   21.0          6.0   0.0  \n",
       "1774   27.0          0.0  15.0  \n",
       "3168    6.0          4.0  22.0  \n",
       "4367   13.0          0.0  16.0  \n",
       "4954   10.0          6.0  13.0  \n",
       "5449   17.0          5.0   6.0  \n",
       "6007   21.0          2.0  12.0  \n",
       "6297   15.0          0.0   9.0  \n",
       "6632   28.0          2.0  17.0  \n",
       "7408   18.0          1.0  16.0  \n",
       "8711    2.0          2.0   9.0  \n",
       "9177    6.0          0.0  11.0  \n",
       "9621    1.0          6.0  22.0  \n",
       "9773   29.0          4.0  18.0  \n",
       "10458  23.0          5.0  20.0  \n",
       "10705  13.0          4.0  16.0  \n",
       "11062   1.0          2.0   6.0  \n",
       "12598  25.0          2.0  18.0  \n",
       "12705  31.0          2.0  14.0  \n",
       "13221  29.0          5.0   8.0  \n",
       "13571   9.0          0.0  12.0  \n",
       "14304  15.0          3.0  17.0  "
      ]
     },
     "execution_count": 76,
     "metadata": {},
     "output_type": "execute_result"
    }
   ],
   "source": [
    "train[train.haversine_distance == 0]"
   ]
  },
  {
   "cell_type": "code",
   "execution_count": 77,
   "metadata": {},
   "outputs": [],
   "source": [
    "#From above table we can see distance value is 0 and fare is 2.5, because the pickup and dropoff coordinates are same or they are 0.\n",
    "#Hence we will remove them from the data.\n",
    "train.drop(train[train.haversine_distance==0].index, axis=0, inplace=True)"
   ]
  },
  {
   "cell_type": "code",
   "execution_count": 78,
   "metadata": {},
   "outputs": [
    {
     "data": {
      "text/html": [
       "<div>\n",
       "<style scoped>\n",
       "    .dataframe tbody tr th:only-of-type {\n",
       "        vertical-align: middle;\n",
       "    }\n",
       "\n",
       "    .dataframe tbody tr th {\n",
       "        vertical-align: top;\n",
       "    }\n",
       "\n",
       "    .dataframe thead th {\n",
       "        text-align: right;\n",
       "    }\n",
       "</style>\n",
       "<table border=\"1\" class=\"dataframe\">\n",
       "  <thead>\n",
       "    <tr style=\"text-align: right;\">\n",
       "      <th></th>\n",
       "      <th>fare_amount</th>\n",
       "      <th>pickup_longitude</th>\n",
       "      <th>pickup_latitude</th>\n",
       "      <th>dropoff_longitude</th>\n",
       "      <th>dropoff_latitude</th>\n",
       "      <th>passenger_count</th>\n",
       "      <th>haversine_distance</th>\n",
       "      <th>year</th>\n",
       "      <th>month</th>\n",
       "      <th>date</th>\n",
       "      <th>day_of_week</th>\n",
       "      <th>hour</th>\n",
       "    </tr>\n",
       "  </thead>\n",
       "  <tbody>\n",
       "  </tbody>\n",
       "</table>\n",
       "</div>"
      ],
      "text/plain": [
       "Empty DataFrame\n",
       "Columns: [fare_amount, pickup_longitude, pickup_latitude, dropoff_longitude, dropoff_latitude, passenger_count, haversine_distance, year, month, date, day_of_week, hour]\n",
       "Index: []"
      ]
     },
     "execution_count": 78,
     "metadata": {},
     "output_type": "execute_result"
    }
   ],
   "source": [
    "train[train.haversine_distance==0]"
   ]
  },
  {
   "cell_type": "code",
   "execution_count": 79,
   "metadata": {},
   "outputs": [],
   "source": [
    "#Also deleting such values from test data also.\n",
    "test.drop(test[test.haversine_distance==0].index,axis=0,inplace=True)"
   ]
  },
  {
   "cell_type": "code",
   "execution_count": 80,
   "metadata": {},
   "outputs": [
    {
     "data": {
      "text/html": [
       "<div>\n",
       "<style scoped>\n",
       "    .dataframe tbody tr th:only-of-type {\n",
       "        vertical-align: middle;\n",
       "    }\n",
       "\n",
       "    .dataframe tbody tr th {\n",
       "        vertical-align: top;\n",
       "    }\n",
       "\n",
       "    .dataframe thead th {\n",
       "        text-align: right;\n",
       "    }\n",
       "</style>\n",
       "<table border=\"1\" class=\"dataframe\">\n",
       "  <thead>\n",
       "    <tr style=\"text-align: right;\">\n",
       "      <th></th>\n",
       "      <th>pickup_longitude</th>\n",
       "      <th>pickup_latitude</th>\n",
       "      <th>dropoff_longitude</th>\n",
       "      <th>dropoff_latitude</th>\n",
       "      <th>passenger_count</th>\n",
       "      <th>haversine_distance</th>\n",
       "      <th>year</th>\n",
       "      <th>month</th>\n",
       "      <th>date</th>\n",
       "      <th>day_of_week</th>\n",
       "      <th>hour</th>\n",
       "    </tr>\n",
       "  </thead>\n",
       "  <tbody>\n",
       "  </tbody>\n",
       "</table>\n",
       "</div>"
      ],
      "text/plain": [
       "Empty DataFrame\n",
       "Columns: [pickup_longitude, pickup_latitude, dropoff_longitude, dropoff_latitude, passenger_count, haversine_distance, year, month, date, day_of_week, hour]\n",
       "Index: []"
      ]
     },
     "execution_count": 80,
     "metadata": {},
     "output_type": "execute_result"
    }
   ],
   "source": [
    "test[test.haversine_distance==0]"
   ]
  },
  {
   "cell_type": "code",
   "execution_count": 81,
   "metadata": {},
   "outputs": [],
   "source": [
    "temp = train\n",
    "train = temp"
   ]
  },
  {
   "cell_type": "markdown",
   "metadata": {},
   "source": [
    "# Data Visualization"
   ]
  },
  {
   "cell_type": "code",
   "execution_count": 82,
   "metadata": {},
   "outputs": [
    {
     "data": {
      "text/plain": [
       "Index(['fare_amount', 'pickup_longitude', 'pickup_latitude',\n",
       "       'dropoff_longitude', 'dropoff_latitude', 'passenger_count',\n",
       "       'haversine_distance', 'year', 'month', 'date', 'day_of_week', 'hour'],\n",
       "      dtype='object')"
      ]
     },
     "execution_count": 82,
     "metadata": {},
     "output_type": "execute_result"
    }
   ],
   "source": [
    "train.columns"
   ]
  },
  {
   "cell_type": "markdown",
   "metadata": {},
   "source": [
    "#### Univariate Analysis"
   ]
  },
  {
   "cell_type": "code",
   "execution_count": 83,
   "metadata": {
    "scrolled": true
   },
   "outputs": [
    {
     "data": {
      "image/png": "[encoded data removed]",
      "text/plain": [
       "<Figure size 720x360 with 1 Axes>"
      ]
     },
     "metadata": {
      "needs_background": "light"
     },
     "output_type": "display_data"
    }
   ],
   "source": [
    "plt.figure(figsize=(10,5))\n",
    "plt.hist(x=train['fare_amount'], bins=200)\n",
    "plt.title(\"Fare Amount\")\n",
    "plt.show()"
   ]
  },
  {
   "cell_type": "code",
   "execution_count": 84,
   "metadata": {},
   "outputs": [
    {
     "data": {
      "image/png": "[encoded data removed]",
      "text/plain": [
       "<Figure size 720x360 with 1 Axes>"
      ]
     },
     "metadata": {
      "needs_background": "light"
     },
     "output_type": "display_data"
    }
   ],
   "source": [
    "plt.figure(figsize=(10,5))\n",
    "plt.hist(train['pickup_latitude'])\n",
    "plt.title(\"Pickup Latitude\")\n",
    "plt.show()"
   ]
  },
  {
   "cell_type": "code",
   "execution_count": 85,
   "metadata": {},
   "outputs": [
    {
     "data": {
      "image/png": "[encoded data removed]",
      "text/plain": [
       "<Figure size 720x360 with 1 Axes>"
      ]
     },
     "metadata": {
      "needs_background": "light"
     },
     "output_type": "display_data"
    }
   ],
   "source": [
    "plt.figure(figsize=(10,5))\n",
    "plt.hist(train['pickup_longitude'])\n",
    "plt.title(\"Pickup Longitude\")\n",
    "plt.show()"
   ]
  },
  {
   "cell_type": "code",
   "execution_count": 86,
   "metadata": {},
   "outputs": [
    {
     "data": {
      "image/png": "[encoded data removed]",
      "text/plain": [
       "<Figure size 720x360 with 1 Axes>"
      ]
     },
     "metadata": {
      "needs_background": "light"
     },
     "output_type": "display_data"
    }
   ],
   "source": [
    "plt.figure(figsize=(10,5))\n",
    "plt.hist(train['dropoff_latitude'])\n",
    "plt.title(\"Dropoff Latitude\")\n",
    "plt.show()"
   ]
  },
  {
   "cell_type": "code",
   "execution_count": 87,
   "metadata": {},
   "outputs": [
    {
     "data": {
      "image/png": "[encoded data removed]",
      "text/plain": [
       "<Figure size 720x360 with 1 Axes>"
      ]
     },
     "metadata": {
      "needs_background": "light"
     },
     "output_type": "display_data"
    }
   ],
   "source": [
    "plt.figure(figsize=(10,5))\n",
    "plt.hist(train['dropoff_longitude'])\n",
    "plt.title(\"Dropoff Longitude\")\n",
    "plt.show()"
   ]
  },
  {
   "cell_type": "code",
   "execution_count": 88,
   "metadata": {},
   "outputs": [
    {
     "data": {
      "image/png": "[encoded data removed]",
      "text/plain": [
       "<Figure size 720x360 with 1 Axes>"
      ]
     },
     "metadata": {
      "needs_background": "light"
     },
     "output_type": "display_data"
    }
   ],
   "source": [
    "plt.figure(figsize=(10,5))\n",
    "plt.hist(train['passenger_count'])\n",
    "plt.title(\"Passenger Count\")\n",
    "plt.show()\n",
    "#Based on the passengers, we can see that single passengers travelled higher"
   ]
  },
  {
   "cell_type": "code",
   "execution_count": 89,
   "metadata": {},
   "outputs": [
    {
     "data": {
      "image/png": "[encoded data removed]",
      "text/plain": [
       "<Figure size 720x360 with 1 Axes>"
      ]
     },
     "metadata": {
      "needs_background": "light"
     },
     "output_type": "display_data"
    }
   ],
   "source": [
    "plt.figure(figsize=(10,5))\n",
    "plt.hist(train['haversine_distance'], bins=10)\n",
    "plt.title(\"Distance\")\n",
    "plt.show()\n",
    "#Maximum number of passengers are travelled less than 20km"
   ]
  },
  {
   "cell_type": "markdown",
   "metadata": {},
   "source": [
    "#### Bivariate Analysis"
   ]
  },
  {
   "cell_type": "code",
   "execution_count": 90,
   "metadata": {},
   "outputs": [
    {
     "data": {
      "image/png": "[encoded data removed]",
      "text/plain": [
       "<Figure size 432x288 with 1 Axes>"
      ]
     },
     "metadata": {
      "needs_background": "light"
     },
     "output_type": "display_data"
    }
   ],
   "source": [
    "# Visualization between fare_amount and years.\n",
    "plt.scatter(x=train['year'], y=train['fare_amount'])\n",
    "plt.show()\n",
    "# Based on the scatterplot, in year 2009 and 2013 there were rides which got high fare_amount and very low on year 2015"
   ]
  },
  {
   "cell_type": "code",
   "execution_count": 91,
   "metadata": {},
   "outputs": [
    {
     "data": {
      "image/png": "[encoded data removed]",
      "text/plain": [
       "<Figure size 432x288 with 1 Axes>"
      ]
     },
     "metadata": {
      "needs_background": "light"
     },
     "output_type": "display_data"
    }
   ],
   "source": [
    "# Visualization between fare_amount and months.\n",
    "plt.scatter(x=train['month'], y=train['fare_amount'])\n",
    "plt.show()\n",
    "# Based on the scatterplot,We can see Jan month fare amount is very high and low in July month."
   ]
  },
  {
   "cell_type": "code",
   "execution_count": 92,
   "metadata": {},
   "outputs": [
    {
     "data": {
      "image/png": "[encoded data removed]",
      "text/plain": [
       "<Figure size 432x288 with 1 Axes>"
      ]
     },
     "metadata": {
      "needs_background": "light"
     },
     "output_type": "display_data"
    }
   ],
   "source": [
    "# Visualization between fare_amount and weekday.\n",
    "plt.scatter(x=train['day_of_week'], y=train['fare_amount'])\n",
    "plt.show()\n",
    "# Based on the scatterplot,We can see that Tuesday ride has the highest fare_amount"
   ]
  },
  {
   "cell_type": "code",
   "execution_count": 93,
   "metadata": {},
   "outputs": [
    {
     "data": {
      "image/png": "[encoded data removed]",
      "text/plain": [
       "<Figure size 432x288 with 1 Axes>"
      ]
     },
     "metadata": {
      "needs_background": "light"
     },
     "output_type": "display_data"
    }
   ],
   "source": [
    "# Visualization between fare_amount and time.\n",
    "plt.scatter(x=train['hour'], y=train['fare_amount'])\n",
    "plt.show()\n",
    "# Rides taken during 8 pm to 9 pm gives highest fare_amount"
   ]
  },
  {
   "cell_type": "code",
   "execution_count": 94,
   "metadata": {},
   "outputs": [
    {
     "data": {
      "image/png": "[encoded data removed]",
      "text/plain": [
       "<Figure size 432x288 with 1 Axes>"
      ]
     },
     "metadata": {
      "needs_background": "light"
     },
     "output_type": "display_data"
    }
   ],
   "source": [
    "# Visualization between fare_amount and passenger_count\n",
    "plt.scatter(x=train['passenger_count'], y=train['fare_amount'])\n",
    "plt.show()"
   ]
  },
  {
   "cell_type": "code",
   "execution_count": 95,
   "metadata": {},
   "outputs": [
    {
     "data": {
      "image/png": "[encoded data removed]",
      "text/plain": [
       "<Figure size 432x288 with 1 Axes>"
      ]
     },
     "metadata": {
      "needs_background": "light"
     },
     "output_type": "display_data"
    }
   ],
   "source": [
    "# Visualization between fare_amount and distance\n",
    "plt.scatter(x=train['haversine_distance'], y=train['fare_amount'])\n",
    "plt.show()\n",
    "# we can see as the distance increases fare amount also increases"
   ]
  },
  {
   "cell_type": "markdown",
   "metadata": {},
   "source": [
    "# Feature Selection"
   ]
  },
  {
   "cell_type": "code",
   "execution_count": 96,
   "metadata": {},
   "outputs": [
    {
     "data": {
      "text/plain": [
       "Index(['fare_amount', 'pickup_longitude', 'pickup_latitude',\n",
       "       'dropoff_longitude', 'dropoff_latitude', 'passenger_count',\n",
       "       'haversine_distance', 'year', 'month', 'date', 'day_of_week', 'hour'],\n",
       "      dtype='object')"
      ]
     },
     "execution_count": 96,
     "metadata": {},
     "output_type": "execute_result"
    }
   ],
   "source": [
    "train.columns"
   ]
  },
  {
   "cell_type": "code",
   "execution_count": 97,
   "metadata": {},
   "outputs": [
    {
     "data": {
      "text/plain": [
       "fare_amount           float64\n",
       "pickup_longitude      float64\n",
       "pickup_latitude       float64\n",
       "dropoff_longitude     float64\n",
       "dropoff_latitude      float64\n",
       "passenger_count       float64\n",
       "haversine_distance    float64\n",
       "year                  float64\n",
       "month                 float64\n",
       "date                  float64\n",
       "day_of_week           float64\n",
       "hour                  float64\n",
       "dtype: object"
      ]
     },
     "execution_count": 97,
     "metadata": {},
     "output_type": "execute_result"
    }
   ],
   "source": [
    "train.dtypes"
   ]
  },
  {
   "cell_type": "code",
   "execution_count": 98,
   "metadata": {},
   "outputs": [],
   "source": [
    "# Lets convert passenger_count into int64 data type\n",
    "train['passenger_count'] = train['passenger_count'].astype('int64')"
   ]
  },
  {
   "cell_type": "code",
   "execution_count": 99,
   "metadata": {},
   "outputs": [],
   "source": [
    "# Similarly convert year,month,date,day,hour as these comes under categorical variables\n",
    "for i in [train,test]:\n",
    "    i['year'] = i['year'].astype('object')\n",
    "    i['month'] = i['month'].astype('object')\n",
    "    i['date'] = i['date'].astype('object')\n",
    "    i['day_of_week'] = i['day_of_week'].astype('object')\n",
    "    i['hour'] = i['hour'].astype('object')"
   ]
  },
  {
   "cell_type": "code",
   "execution_count": 100,
   "metadata": {},
   "outputs": [
    {
     "data": {
      "text/plain": [
       "fare_amount           float64\n",
       "pickup_longitude      float64\n",
       "pickup_latitude       float64\n",
       "dropoff_longitude     float64\n",
       "dropoff_latitude      float64\n",
       "passenger_count         int64\n",
       "haversine_distance    float64\n",
       "year                   object\n",
       "month                  object\n",
       "date                   object\n",
       "day_of_week            object\n",
       "hour                   object\n",
       "dtype: object"
      ]
     },
     "execution_count": 100,
     "metadata": {},
     "output_type": "execute_result"
    }
   ],
   "source": [
    "train.dtypes"
   ]
  },
  {
   "cell_type": "code",
   "execution_count": 101,
   "metadata": {},
   "outputs": [
    {
     "data": {
      "text/plain": [
       "pickup_longitude      float64\n",
       "pickup_latitude       float64\n",
       "dropoff_longitude     float64\n",
       "dropoff_latitude      float64\n",
       "passenger_count         int64\n",
       "haversine_distance    float64\n",
       "year                   object\n",
       "month                  object\n",
       "date                   object\n",
       "day_of_week            object\n",
       "hour                   object\n",
       "dtype: object"
      ]
     },
     "execution_count": 101,
     "metadata": {},
     "output_type": "execute_result"
    }
   ],
   "source": [
    "test.dtypes"
   ]
  },
  {
   "cell_type": "code",
   "execution_count": 102,
   "metadata": {},
   "outputs": [],
   "source": [
    "numeric = ['fare_amount', 'pickup_longitude', 'pickup_latitude', \n",
    "           'dropoff_longitude', 'dropoff_latitude', 'passenger_count','haversine_distance']\n",
    "categorical = ['year','month', 'date', 'day_of_week', 'hour']"
   ]
  },
  {
   "cell_type": "markdown",
   "metadata": {},
   "source": [
    "#### Correlation Analysis"
   ]
  },
  {
   "cell_type": "code",
   "execution_count": 103,
   "metadata": {},
   "outputs": [],
   "source": [
    "df_corr = train.loc[:,numeric]"
   ]
  },
  {
   "cell_type": "code",
   "execution_count": 104,
   "metadata": {},
   "outputs": [
    {
     "name": "stdout",
     "output_type": "stream",
     "text": [
      "                    fare_amount  pickup_longitude  pickup_latitude  \\\n",
      "fare_amount            1.000000          0.012520        -0.013591   \n",
      "pickup_longitude       0.012520          1.000000        -0.982932   \n",
      "pickup_latitude       -0.013591         -0.982932         1.000000   \n",
      "dropoff_longitude      0.012850          0.969927        -0.954714   \n",
      "dropoff_latitude      -0.013998         -0.957337         0.976110   \n",
      "passenger_count        0.006427         -0.003037         0.002051   \n",
      "haversine_distance     0.710859          0.069726        -0.063908   \n",
      "\n",
      "                    dropoff_longitude  dropoff_latitude  passenger_count  \\\n",
      "fare_amount                  0.012850         -0.013998         0.006427   \n",
      "pickup_longitude             0.969927         -0.957337        -0.003037   \n",
      "pickup_latitude             -0.954714          0.976110         0.002051   \n",
      "dropoff_longitude            1.000000         -0.977127        -0.004667   \n",
      "dropoff_latitude            -0.977127          1.000000         0.002511   \n",
      "passenger_count             -0.004667          0.002511         1.000000   \n",
      "haversine_distance           0.070154         -0.064553        -0.005338   \n",
      "\n",
      "                    haversine_distance  \n",
      "fare_amount                   0.710859  \n",
      "pickup_longitude              0.069726  \n",
      "pickup_latitude              -0.063908  \n",
      "dropoff_longitude             0.070154  \n",
      "dropoff_latitude             -0.064553  \n",
      "passenger_count              -0.005338  \n",
      "haversine_distance            1.000000  \n"
     ]
    },
    {
     "data": {
      "text/plain": [
       "<matplotlib.axes._subplots.AxesSubplot at 0x1caafbe1400>"
      ]
     },
     "execution_count": 104,
     "metadata": {},
     "output_type": "execute_result"
    },
    {
     "data": {
      "image/png": "[encoded data removed]",
      "text/plain": [
       "<Figure size 720x360 with 2 Axes>"
      ]
     },
     "metadata": {
      "needs_background": "light"
     },
     "output_type": "display_data"
    }
   ],
   "source": [
    "f, ax = plt.subplots(figsize=(10, 5))\n",
    "\n",
    "#Generate correlation matrix\n",
    "corr = df_corr.corr()\n",
    "\n",
    "print(corr)# From correlation analysis we can say distance is significant variable to pass in to the model \n",
    "\n",
    "#Plot using seaborn library\n",
    "sns.heatmap(corr, mask=np.zeros_like(corr, dtype=np.bool), cmap=sns.diverging_palette(220, 10, as_cmap=True),\n",
    "            square=True, ax=ax,annot=True)"
   ]
  },
  {
   "cell_type": "markdown",
   "metadata": {},
   "source": [
    "#### Anova Test"
   ]
  },
  {
   "cell_type": "code",
   "execution_count": 105,
   "metadata": {},
   "outputs": [
    {
     "name": "stdout",
     "output_type": "stream",
     "text": [
      "                sum_sq       df          F        PR(>F)\n",
      "year      2.154747e+04      6.0  38.958425  2.762441e-47\n",
      "Residual  1.462551e+06  15866.0        NaN           NaN\n",
      "                sum_sq       df         F    PR(>F)\n",
      "month     4.150925e+03     11.0  4.044236  0.000006\n",
      "Residual  1.479947e+06  15861.0       NaN       NaN\n",
      "                sum_sq       df         F    PR(>F)\n",
      "date      1.822500e+03     30.0  0.649273  0.929301\n",
      "Residual  1.482276e+06  15842.0       NaN       NaN\n",
      "                   sum_sq       df         F    PR(>F)\n",
      "day_of_week  6.995622e+02      6.0  1.247052  0.278602\n",
      "Residual     1.483399e+06  15866.0       NaN       NaN\n",
      "                sum_sq       df         F        PR(>F)\n",
      "hour      8.883680e+03     23.0  4.149652  9.308214e-11\n",
      "Residual  1.475215e+06  15849.0       NaN           NaN\n"
     ]
    }
   ],
   "source": [
    "# Anova Test is performed between categorical independent variables & fare_amount(continuous target variable) \n",
    "\n",
    "import statsmodels.api as sm\n",
    "from statsmodels.formula.api import ols\n",
    "\n",
    "for i in categorical:\n",
    "    mod = ols('fare_amount' + '~' + i, data = train).fit()\n",
    "    aov_table = sm.stats.anova_lm(mod, typ = 2)\n",
    "    print(aov_table)\n",
    "    \n",
    "# From the anova result, we can observe Date ,weekday\n",
    "# has p value > 0.05, so delete these variables and should not be considered in model."
   ]
  },
  {
   "cell_type": "code",
   "execution_count": 106,
   "metadata": {},
   "outputs": [],
   "source": [
    "train.drop(['date','day_of_week'], axis=1, inplace=True)\n",
    "test.drop(['date','day_of_week'], axis=1, inplace=True)"
   ]
  },
  {
   "cell_type": "code",
   "execution_count": 107,
   "metadata": {},
   "outputs": [],
   "source": [
    "categorical = ['year', 'month', 'hour']"
   ]
  },
  {
   "cell_type": "code",
   "execution_count": 108,
   "metadata": {},
   "outputs": [],
   "source": [
    "#Since we have calculated distance from coordinates, we will drop pickup and dropoff latitudes and longitudes.\n",
    "train.drop(['pickup_latitude','pickup_longitude','dropoff_latitude','dropoff_longitude'], axis=1, inplace=True)\n",
    "test.drop(['pickup_latitude','pickup_longitude','dropoff_latitude','dropoff_longitude'], axis=1, inplace=True)"
   ]
  },
  {
   "cell_type": "code",
   "execution_count": 109,
   "metadata": {},
   "outputs": [
    {
     "name": "stdout",
     "output_type": "stream",
     "text": [
      "<class 'pandas.core.frame.DataFrame'>\n",
      "Int64Index: 15873 entries, 0 to 16065\n",
      "Data columns (total 6 columns):\n",
      "fare_amount           15873 non-null float64\n",
      "passenger_count       15873 non-null int64\n",
      "haversine_distance    15873 non-null float64\n",
      "year                  15873 non-null object\n",
      "month                 15873 non-null object\n",
      "hour                  15873 non-null object\n",
      "dtypes: float64(2), int64(1), object(3)\n",
      "memory usage: 868.1+ KB\n"
     ]
    }
   ],
   "source": [
    "train.info()"
   ]
  },
  {
   "cell_type": "code",
   "execution_count": 110,
   "metadata": {},
   "outputs": [
    {
     "name": "stdout",
     "output_type": "stream",
     "text": [
      "<class 'pandas.core.frame.DataFrame'>\n",
      "Int64Index: 9829 entries, 0 to 9913\n",
      "Data columns (total 5 columns):\n",
      "passenger_count       9829 non-null int64\n",
      "haversine_distance    9829 non-null float64\n",
      "year                  9829 non-null object\n",
      "month                 9829 non-null object\n",
      "hour                  9829 non-null object\n",
      "dtypes: float64(1), int64(1), object(3)\n",
      "memory usage: 460.7+ KB\n"
     ]
    }
   ],
   "source": [
    "test.info()"
   ]
  },
  {
   "cell_type": "markdown",
   "metadata": {},
   "source": [
    "#### Feature Scaling"
   ]
  },
  {
   "cell_type": "code",
   "execution_count": 111,
   "metadata": {},
   "outputs": [
    {
     "data": {
      "image/png": "[encoded data removed]",
      "text/plain": [
       "<Figure size 432x288 with 1 Axes>"
      ]
     },
     "metadata": {
      "needs_background": "light"
     },
     "output_type": "display_data"
    }
   ],
   "source": [
    "sns.distplot(train['haversine_distance'],bins='auto',color='blue')\n",
    "plt.title(\"Distance distribution\")\n",
    "plt.ylabel(\"Density\")\n",
    "plt.show()"
   ]
  },
  {
   "cell_type": "code",
   "execution_count": 112,
   "metadata": {},
   "outputs": [],
   "source": [
    "# The distance variable is right skewed we can reduce this skewness using log transformation\n",
    "train['haversine_distance'] = np.log(train['haversine_distance'])"
   ]
  },
  {
   "cell_type": "code",
   "execution_count": 113,
   "metadata": {},
   "outputs": [
    {
     "data": {
      "image/png": "[encoded data removed]",
      "text/plain": [
       "<Figure size 432x288 with 1 Axes>"
      ]
     },
     "metadata": {
      "needs_background": "light"
     },
     "output_type": "display_data"
    }
   ],
   "source": [
    "sns.distplot(train['haversine_distance'],bins='auto',color='blue')\n",
    "plt.title(\"Distance distribution after log transformation\")\n",
    "plt.ylabel(\"Density\")\n",
    "plt.show()"
   ]
  },
  {
   "cell_type": "code",
   "execution_count": 114,
   "metadata": {},
   "outputs": [
    {
     "data": {
      "image/png": "[encoded data removed]",
      "text/plain": [
       "<Figure size 432x288 with 1 Axes>"
      ]
     },
     "metadata": {
      "needs_background": "light"
     },
     "output_type": "display_data"
    }
   ],
   "source": [
    "sns.distplot(train['fare_amount'],bins='auto',color='blue')\n",
    "plt.title(\"Fare Amount distribution\")\n",
    "plt.ylabel(\"Density\")\n",
    "plt.show()\n",
    "#Even fare is right skewed."
   ]
  },
  {
   "cell_type": "code",
   "execution_count": 115,
   "metadata": {},
   "outputs": [],
   "source": [
    "#Using log transformation.\n",
    "train['fare_amount'] = np.log(train['fare_amount'])"
   ]
  },
  {
   "cell_type": "code",
   "execution_count": 116,
   "metadata": {},
   "outputs": [
    {
     "data": {
      "image/png": "[encoded data removed]",
      "text/plain": [
       "<Figure size 432x288 with 1 Axes>"
      ]
     },
     "metadata": {
      "needs_background": "light"
     },
     "output_type": "display_data"
    }
   ],
   "source": [
    "sns.distplot(train['fare_amount'],bins='auto',color='blue')\n",
    "plt.title(\"Fare Amount distribution\")\n",
    "plt.ylabel(\"Density\")\n",
    "plt.show()"
   ]
  },
  {
   "cell_type": "markdown",
   "metadata": {},
   "source": [
    "Similarly we will check and transform test data"
   ]
  },
  {
   "cell_type": "code",
   "execution_count": 117,
   "metadata": {},
   "outputs": [
    {
     "data": {
      "image/png": "[encoded data removed]",
      "text/plain": [
       "<Figure size 432x288 with 1 Axes>"
      ]
     },
     "metadata": {
      "needs_background": "light"
     },
     "output_type": "display_data"
    }
   ],
   "source": [
    "sns.distplot(test['haversine_distance'],bins='auto',color='blue')\n",
    "plt.title(\"Distance distribution\")\n",
    "plt.ylabel(\"Density\")\n",
    "plt.show()"
   ]
  },
  {
   "cell_type": "code",
   "execution_count": 118,
   "metadata": {},
   "outputs": [],
   "source": [
    "test['haversine_distance'] = np.log(test['haversine_distance'])"
   ]
  },
  {
   "cell_type": "code",
   "execution_count": 119,
   "metadata": {},
   "outputs": [
    {
     "data": {
      "image/png": "[encoded data removed]",
      "text/plain": [
       "<Figure size 432x288 with 1 Axes>"
      ]
     },
     "metadata": {
      "needs_background": "light"
     },
     "output_type": "display_data"
    }
   ],
   "source": [
    "sns.distplot(test['haversine_distance'],bins='auto',color='blue')\n",
    "plt.title(\"Distance distribution after log transformation\")\n",
    "plt.ylabel(\"Density\")\n",
    "plt.show()"
   ]
  },
  {
   "cell_type": "markdown",
   "metadata": {},
   "source": [
    "We can observe now, after applying log function, the data is normalised."
   ]
  },
  {
   "cell_type": "markdown",
   "metadata": {},
   "source": [
    "# Model Development"
   ]
  },
  {
   "cell_type": "code",
   "execution_count": 120,
   "metadata": {},
   "outputs": [],
   "source": [
    "from sklearn.model_selection import train_test_split\n",
    "from sklearn.metrics import mean_squared_error, r2_score\n",
    "from sklearn.linear_model import LinearRegression\n",
    "from sklearn.ensemble import RandomForestRegressor\n",
    "from sklearn.tree import DecisionTreeRegressor\n",
    "from sklearn.ensemble import GradientBoostingRegressor\n",
    "from pprint import pprint\n",
    "from sklearn.model_selection import RandomizedSearchCV, GridSearchCV"
   ]
  },
  {
   "cell_type": "code",
   "execution_count": 121,
   "metadata": {},
   "outputs": [],
   "source": [
    "X = train.drop(['fare_amount'],axis=1)\n",
    "y = train['fare_amount']"
   ]
  },
  {
   "cell_type": "code",
   "execution_count": 122,
   "metadata": {},
   "outputs": [],
   "source": [
    "X_train, X_test, y_train, y_test = train_test_split(X, y, test_size=0.2, random_state=42)"
   ]
  },
  {
   "cell_type": "markdown",
   "metadata": {},
   "source": [
    "### Linear Regression"
   ]
  },
  {
   "cell_type": "code",
   "execution_count": 123,
   "metadata": {},
   "outputs": [],
   "source": [
    "linear_regression_model = LinearRegression()"
   ]
  },
  {
   "cell_type": "code",
   "execution_count": 124,
   "metadata": {},
   "outputs": [
    {
     "data": {
      "text/plain": [
       "LinearRegression(copy_X=True, fit_intercept=True, n_jobs=None, normalize=False)"
      ]
     },
     "execution_count": 124,
     "metadata": {},
     "output_type": "execute_result"
    }
   ],
   "source": [
    "linear_regression_model.fit(X_train, y_train)"
   ]
  },
  {
   "cell_type": "code",
   "execution_count": 125,
   "metadata": {},
   "outputs": [],
   "source": [
    "y_pred_lr = linear_regression_model.predict(X_test)"
   ]
  },
  {
   "cell_type": "code",
   "execution_count": 126,
   "metadata": {},
   "outputs": [
    {
     "name": "stdout",
     "output_type": "stream",
     "text": [
      "Root mean squared error =  0.3917272481977636\n"
     ]
    }
   ],
   "source": [
    "#Calculating RMSE\n",
    "RMSE_lr = np.sqrt(mean_squared_error(y_test, y_pred_lr))\n",
    "print(\"Root mean squared error = \", str(RMSE_lr))"
   ]
  },
  {
   "cell_type": "code",
   "execution_count": 127,
   "metadata": {},
   "outputs": [
    {
     "name": "stdout",
     "output_type": "stream",
     "text": [
      "R^2 score =  0.5799510435326292\n"
     ]
    }
   ],
   "source": [
    "#Calculating R^2\n",
    "print(\"R^2 score = \", str(r2_score(y_test, y_pred_lr)))"
   ]
  },
  {
   "cell_type": "markdown",
   "metadata": {},
   "source": [
    "### Decision Tree\n",
    "    "
   ]
  },
  {
   "cell_type": "code",
   "execution_count": 128,
   "metadata": {},
   "outputs": [],
   "source": [
    "decision_tree_model = DecisionTreeRegressor(max_depth=5, random_state=42)"
   ]
  },
  {
   "cell_type": "code",
   "execution_count": 129,
   "metadata": {},
   "outputs": [
    {
     "data": {
      "text/plain": [
       "DecisionTreeRegressor(criterion='mse', max_depth=5, max_features=None,\n",
       "                      max_leaf_nodes=None, min_impurity_decrease=0.0,\n",
       "                      min_impurity_split=None, min_samples_leaf=1,\n",
       "                      min_samples_split=2, min_weight_fraction_leaf=0.0,\n",
       "                      presort=False, random_state=42, splitter='best')"
      ]
     },
     "execution_count": 129,
     "metadata": {},
     "output_type": "execute_result"
    }
   ],
   "source": [
    "decision_tree_model.fit(X_train, y_train)"
   ]
  },
  {
   "cell_type": "code",
   "execution_count": 130,
   "metadata": {},
   "outputs": [],
   "source": [
    "y_pred_dt = decision_tree_model.predict(X_test)"
   ]
  },
  {
   "cell_type": "code",
   "execution_count": 131,
   "metadata": {},
   "outputs": [
    {
     "name": "stdout",
     "output_type": "stream",
     "text": [
      "Root mean squared error =  0.2913631751418235\n"
     ]
    }
   ],
   "source": [
    "#Calculating RMSE\n",
    "RMSE_dt = np.sqrt(mean_squared_error(y_test, y_pred_dt))\n",
    "print(\"Root mean squared error = \", str(RMSE_dt))"
   ]
  },
  {
   "cell_type": "code",
   "execution_count": 132,
   "metadata": {},
   "outputs": [
    {
     "name": "stdout",
     "output_type": "stream",
     "text": [
      "R^2 score =  0.7676184366566188\n"
     ]
    }
   ],
   "source": [
    "#Calculating R^2\n",
    "print(\"R^2 score = \", str(r2_score(y_test, y_pred_dt)))"
   ]
  },
  {
   "cell_type": "markdown",
   "metadata": {},
   "source": [
    "### Random Forest Model"
   ]
  },
  {
   "cell_type": "code",
   "execution_count": 133,
   "metadata": {},
   "outputs": [],
   "source": [
    "random_forest_model = RandomForestRegressor(n_estimators=200, random_state=42)"
   ]
  },
  {
   "cell_type": "code",
   "execution_count": 134,
   "metadata": {},
   "outputs": [
    {
     "data": {
      "text/plain": [
       "RandomForestRegressor(bootstrap=True, criterion='mse', max_depth=None,\n",
       "                      max_features='auto', max_leaf_nodes=None,\n",
       "                      min_impurity_decrease=0.0, min_impurity_split=None,\n",
       "                      min_samples_leaf=1, min_samples_split=2,\n",
       "                      min_weight_fraction_leaf=0.0, n_estimators=200,\n",
       "                      n_jobs=None, oob_score=False, random_state=42, verbose=0,\n",
       "                      warm_start=False)"
      ]
     },
     "execution_count": 134,
     "metadata": {},
     "output_type": "execute_result"
    }
   ],
   "source": [
    "random_forest_model.fit(X_train, y_train)"
   ]
  },
  {
   "cell_type": "code",
   "execution_count": 135,
   "metadata": {},
   "outputs": [],
   "source": [
    "y_pred_rf = random_forest_model.predict(X_test)"
   ]
  },
  {
   "cell_type": "code",
   "execution_count": 136,
   "metadata": {},
   "outputs": [
    {
     "name": "stdout",
     "output_type": "stream",
     "text": [
      "Root mean squared error =  0.3009358644177034\n"
     ]
    }
   ],
   "source": [
    "#Calculating RMSE\n",
    "RMSE_rf = np.sqrt(mean_squared_error(y_test, y_pred_rf))\n",
    "print(\"Root mean squared error = \", str(RMSE_rf))"
   ]
  },
  {
   "cell_type": "code",
   "execution_count": 137,
   "metadata": {},
   "outputs": [
    {
     "name": "stdout",
     "output_type": "stream",
     "text": [
      "R^2 score =  0.752097878436571\n"
     ]
    }
   ],
   "source": [
    "#Calculating R^2\n",
    "print(\"R^2 score = \", str(r2_score(y_test, y_pred_rf)))"
   ]
  },
  {
   "cell_type": "markdown",
   "metadata": {},
   "source": [
    "### Gradient Boosting:"
   ]
  },
  {
   "cell_type": "code",
   "execution_count": 138,
   "metadata": {},
   "outputs": [],
   "source": [
    "gradient_boosting_model = GradientBoostingRegressor(random_state=42)"
   ]
  },
  {
   "cell_type": "code",
   "execution_count": 139,
   "metadata": {},
   "outputs": [
    {
     "data": {
      "text/plain": [
       "GradientBoostingRegressor(alpha=0.9, criterion='friedman_mse', init=None,\n",
       "                          learning_rate=0.1, loss='ls', max_depth=3,\n",
       "                          max_features=None, max_leaf_nodes=None,\n",
       "                          min_impurity_decrease=0.0, min_impurity_split=None,\n",
       "                          min_samples_leaf=1, min_samples_split=2,\n",
       "                          min_weight_fraction_leaf=0.0, n_estimators=100,\n",
       "                          n_iter_no_change=None, presort='auto',\n",
       "                          random_state=42, subsample=1.0, tol=0.0001,\n",
       "                          validation_fraction=0.1, verbose=0, warm_start=False)"
      ]
     },
     "execution_count": 139,
     "metadata": {},
     "output_type": "execute_result"
    }
   ],
   "source": [
    "gradient_boosting_model.fit(X_train, y_train)"
   ]
  },
  {
   "cell_type": "code",
   "execution_count": 140,
   "metadata": {},
   "outputs": [],
   "source": [
    "y_pred_gb = gradient_boosting_model.predict(X_test)"
   ]
  },
  {
   "cell_type": "code",
   "execution_count": 141,
   "metadata": {},
   "outputs": [
    {
     "name": "stdout",
     "output_type": "stream",
     "text": [
      "Root mean squared error =  0.28328158762151934\n"
     ]
    }
   ],
   "source": [
    "#Calculating RMSE\n",
    "RMSE_gb = np.sqrt(mean_squared_error(y_test, y_pred_gb))\n",
    "print(\"Root mean squared error = \", str(RMSE_gb))"
   ]
  },
  {
   "cell_type": "code",
   "execution_count": 142,
   "metadata": {},
   "outputs": [
    {
     "name": "stdout",
     "output_type": "stream",
     "text": [
      "R^2 score =  0.7803308638934974\n"
     ]
    }
   ],
   "source": [
    "#Calculating R^2\n",
    "print(\"R^2 score = \", str(r2_score(y_test, y_pred_gb)))"
   ]
  },
  {
   "cell_type": "markdown",
   "metadata": {},
   "source": [
    "### Optimizing using parameter tuning:"
   ]
  },
  {
   "cell_type": "markdown",
   "metadata": {},
   "source": [
    "#### Randomized Search CV on Random Forest"
   ]
  },
  {
   "cell_type": "code",
   "execution_count": 143,
   "metadata": {},
   "outputs": [
    {
     "name": "stdout",
     "output_type": "stream",
     "text": [
      "Parameters currently in use:\n",
      "\n",
      "{'bootstrap': True,\n",
      " 'criterion': 'mse',\n",
      " 'max_depth': None,\n",
      " 'max_features': 'auto',\n",
      " 'max_leaf_nodes': None,\n",
      " 'min_impurity_decrease': 0.0,\n",
      " 'min_impurity_split': None,\n",
      " 'min_samples_leaf': 1,\n",
      " 'min_samples_split': 2,\n",
      " 'min_weight_fraction_leaf': 0.0,\n",
      " 'n_estimators': 200,\n",
      " 'n_jobs': None,\n",
      " 'oob_score': False,\n",
      " 'random_state': 42,\n",
      " 'verbose': 0,\n",
      " 'warm_start': False}\n"
     ]
    }
   ],
   "source": [
    "# Look at parameters used by our current forest\n",
    "print('Parameters currently in use:\\n')\n",
    "pprint(random_forest_model.get_params())"
   ]
  },
  {
   "cell_type": "code",
   "execution_count": 144,
   "metadata": {},
   "outputs": [],
   "source": [
    "random_forest_m = RandomForestRegressor(random_state=42)\n",
    "n_estimator = list(range(11,20,2))\n",
    "depth = list(range(1,100,2))\n",
    "\n",
    "#Create random grid\n",
    "rand_grid = {'n_estimators' : n_estimator, 'max_depth' : depth}"
   ]
  },
  {
   "cell_type": "code",
   "execution_count": 145,
   "metadata": {},
   "outputs": [],
   "source": [
    "rsc_rf = RandomizedSearchCV(random_forest_m, param_distributions=rand_grid, n_iter=5, cv=5, random_state=42)"
   ]
  },
  {
   "cell_type": "code",
   "execution_count": 146,
   "metadata": {},
   "outputs": [
    {
     "data": {
      "text/plain": [
       "RandomizedSearchCV(cv=5, error_score='raise-deprecating',\n",
       "                   estimator=RandomForestRegressor(bootstrap=True,\n",
       "                                                   criterion='mse',\n",
       "                                                   max_depth=None,\n",
       "                                                   max_features='auto',\n",
       "                                                   max_leaf_nodes=None,\n",
       "                                                   min_impurity_decrease=0.0,\n",
       "                                                   min_impurity_split=None,\n",
       "                                                   min_samples_leaf=1,\n",
       "                                                   min_samples_split=2,\n",
       "                                                   min_weight_fraction_leaf=0.0,\n",
       "                                                   n_estimators='warn',\n",
       "                                                   n_jobs=None, oob_score=False,\n",
       "                                                   random_state=42, verbose=0,\n",
       "                                                   warm_start=False),\n",
       "                   iid='warn', n_iter=5, n_jobs=None,\n",
       "                   param_distributions={'max_depth': [1, 3, 5, 7, 9, 11, 13, 15,\n",
       "                                                      17, 19, 21, 23, 25, 27,\n",
       "                                                      29, 31, 33, 35, 37, 39,\n",
       "                                                      41, 43, 45, 47, 49, 51,\n",
       "                                                      53, 55, 57, 59, ...],\n",
       "                                        'n_estimators': [11, 13, 15, 17, 19]},\n",
       "                   pre_dispatch='2*n_jobs', random_state=42, refit=True,\n",
       "                   return_train_score=False, scoring=None, verbose=0)"
      ]
     },
     "execution_count": 146,
     "metadata": {},
     "output_type": "execute_result"
    }
   ],
   "source": [
    "rsc_rf.fit(X_train, y_train)"
   ]
  },
  {
   "cell_type": "code",
   "execution_count": 147,
   "metadata": {},
   "outputs": [],
   "source": [
    "y_pred_rsc_rf = rsc_rf.predict(X_test)"
   ]
  },
  {
   "cell_type": "code",
   "execution_count": 148,
   "metadata": {},
   "outputs": [
    {
     "name": "stdout",
     "output_type": "stream",
     "text": [
      "Random Search CV Random Forest Regressor Model Performance:\n",
      "Best Parameters =  {'n_estimators': 15, 'max_depth': 57}\n",
      "R-squared = 0.74\n",
      "RMSE =  0.31004077197460206\n"
     ]
    }
   ],
   "source": [
    "#R^2\n",
    "rsc_rf_r2 = r2_score(y_test, y_pred_rsc_rf)\n",
    "#Calculating RMSE\n",
    "rsc_rf_rmse = np.sqrt(mean_squared_error(y_test, y_pred_rsc_rf))\n",
    "\n",
    "print('Random Search CV Random Forest Regressor Model Performance:')\n",
    "print('Best Parameters = ', rsc_rf.best_params_)\n",
    "print('R-squared = {:0.2}'.format(rsc_rf_r2))\n",
    "print('RMSE = ',rsc_rf_rmse)"
   ]
  },
  {
   "cell_type": "markdown",
   "metadata": {},
   "source": [
    "#### Randomized Search CV on Gradient Boost"
   ]
  },
  {
   "cell_type": "code",
   "execution_count": 149,
   "metadata": {},
   "outputs": [
    {
     "name": "stdout",
     "output_type": "stream",
     "text": [
      "Parameters currently in use:\n",
      "\n",
      "{'alpha': 0.9,\n",
      " 'criterion': 'friedman_mse',\n",
      " 'init': None,\n",
      " 'learning_rate': 0.1,\n",
      " 'loss': 'ls',\n",
      " 'max_depth': 3,\n",
      " 'max_features': None,\n",
      " 'max_leaf_nodes': None,\n",
      " 'min_impurity_decrease': 0.0,\n",
      " 'min_impurity_split': None,\n",
      " 'min_samples_leaf': 1,\n",
      " 'min_samples_split': 2,\n",
      " 'min_weight_fraction_leaf': 0.0,\n",
      " 'n_estimators': 100,\n",
      " 'n_iter_no_change': None,\n",
      " 'presort': 'auto',\n",
      " 'random_state': 42,\n",
      " 'subsample': 1.0,\n",
      " 'tol': 0.0001,\n",
      " 'validation_fraction': 0.1,\n",
      " 'verbose': 0,\n",
      " 'warm_start': False}\n"
     ]
    }
   ],
   "source": [
    "# Look at parameters used by our current forest\n",
    "print('Parameters currently in use:\\n')\n",
    "pprint(gradient_boosting_model.get_params())"
   ]
  },
  {
   "cell_type": "code",
   "execution_count": 150,
   "metadata": {},
   "outputs": [],
   "source": [
    "gradient_boosting_m = GradientBoostingRegressor(random_state=42)\n",
    "n_estimator = list(range(11,20,2))\n",
    "depth = list(range(1,100,2))"
   ]
  },
  {
   "cell_type": "code",
   "execution_count": 151,
   "metadata": {},
   "outputs": [],
   "source": [
    "# Create the random grid\n",
    "rand_grid = {'n_estimators': n_estimator,\n",
    "               'max_depth': depth}"
   ]
  },
  {
   "cell_type": "code",
   "execution_count": 152,
   "metadata": {},
   "outputs": [],
   "source": [
    "rsc_gb = RandomizedSearchCV(gradient_boosting_m, param_distributions=rand_grid, n_iter=5, cv=5, random_state=42)"
   ]
  },
  {
   "cell_type": "code",
   "execution_count": 153,
   "metadata": {},
   "outputs": [
    {
     "data": {
      "text/plain": [
       "RandomizedSearchCV(cv=5, error_score='raise-deprecating',\n",
       "                   estimator=GradientBoostingRegressor(alpha=0.9,\n",
       "                                                       criterion='friedman_mse',\n",
       "                                                       init=None,\n",
       "                                                       learning_rate=0.1,\n",
       "                                                       loss='ls', max_depth=3,\n",
       "                                                       max_features=None,\n",
       "                                                       max_leaf_nodes=None,\n",
       "                                                       min_impurity_decrease=0.0,\n",
       "                                                       min_impurity_split=None,\n",
       "                                                       min_samples_leaf=1,\n",
       "                                                       min_samples_split=2,\n",
       "                                                       min_weight_fraction_leaf=0.0,\n",
       "                                                       n_estimators=100,...\n",
       "                                                       tol=0.0001,\n",
       "                                                       validation_fraction=0.1,\n",
       "                                                       verbose=0,\n",
       "                                                       warm_start=False),\n",
       "                   iid='warn', n_iter=5, n_jobs=None,\n",
       "                   param_distributions={'max_depth': [1, 3, 5, 7, 9, 11, 13, 15,\n",
       "                                                      17, 19, 21, 23, 25, 27,\n",
       "                                                      29, 31, 33, 35, 37, 39,\n",
       "                                                      41, 43, 45, 47, 49, 51,\n",
       "                                                      53, 55, 57, 59, ...],\n",
       "                                        'n_estimators': [11, 13, 15, 17, 19]},\n",
       "                   pre_dispatch='2*n_jobs', random_state=42, refit=True,\n",
       "                   return_train_score=False, scoring=None, verbose=0)"
      ]
     },
     "execution_count": 153,
     "metadata": {},
     "output_type": "execute_result"
    }
   ],
   "source": [
    "rsc_gb.fit(X_train, y_train)"
   ]
  },
  {
   "cell_type": "code",
   "execution_count": 154,
   "metadata": {},
   "outputs": [],
   "source": [
    "y_pred_rsc_gb = rsc_gb.predict(X_test)"
   ]
  },
  {
   "cell_type": "code",
   "execution_count": 155,
   "metadata": {},
   "outputs": [
    {
     "name": "stdout",
     "output_type": "stream",
     "text": [
      "Random Search CV Gradient Boosting Model Performance:\n",
      "Best Parameters =  {'n_estimators': 13, 'max_depth': 3}\n",
      "R-squared = 0.7\n",
      "RMSE =  0.33234735212900013\n"
     ]
    }
   ],
   "source": [
    "#R^2\n",
    "rsc_gb_r2 = r2_score(y_test, y_pred_rsc_gb)\n",
    "#Calculating RMSE\n",
    "rsc_gb_rmse = np.sqrt(mean_squared_error(y_test, y_pred_rsc_gb))\n",
    "\n",
    "print('Random Search CV Gradient Boosting Model Performance:')\n",
    "print('Best Parameters = ', rsc_gb.best_params_)\n",
    "print('R-squared = {:0.2}'.format(rsc_gb_r2))\n",
    "print('RMSE = ', rsc_gb_rmse)"
   ]
  },
  {
   "cell_type": "markdown",
   "metadata": {},
   "source": [
    "#### Grid Search CV on Random Forest"
   ]
  },
  {
   "cell_type": "code",
   "execution_count": 156,
   "metadata": {},
   "outputs": [
    {
     "name": "stdout",
     "output_type": "stream",
     "text": [
      "Grid Search CV Random Forest Regressor Model Performance:\n",
      "Best Parameters =  {'max_depth': 7, 'n_estimators': 19}\n",
      "R-squared = 0.76\n",
      "RMSE =  0.2931642433186812\n"
     ]
    }
   ],
   "source": [
    "regr = RandomForestRegressor(random_state = 42)\n",
    "n_estimator = list(range(11,20,2))\n",
    "depth = list(range(5,15,2))\n",
    "\n",
    "# Create the grid\n",
    "grid_search = {'n_estimators': n_estimator,\n",
    "               'max_depth': depth}\n",
    "\n",
    "## Grid Search Cross-Validation with 5 fold CV\n",
    "gridcv_rf = GridSearchCV(regr, param_grid = grid_search, cv = 5)\n",
    "gridcv_rf = gridcv_rf.fit(X_train,y_train)\n",
    "view_best_params_GRF = gridcv_rf.best_params_\n",
    "\n",
    "#Apply model on test data\n",
    "predictions_GRF = gridcv_rf.predict(X_test)\n",
    "\n",
    "#R^2\n",
    "GRF_r2 = r2_score(y_test, predictions_GRF)\n",
    "#Calculating RMSE\n",
    "GRF_rmse = np.sqrt(mean_squared_error(y_test,predictions_GRF))\n",
    "\n",
    "print('Grid Search CV Random Forest Regressor Model Performance:')\n",
    "print('Best Parameters = ',view_best_params_GRF)\n",
    "print('R-squared = {:0.2}'.format(GRF_r2))\n",
    "print('RMSE = ',(GRF_rmse))"
   ]
  },
  {
   "cell_type": "markdown",
   "metadata": {},
   "source": [
    "#### Grid Search CV on Gradient Boost"
   ]
  },
  {
   "cell_type": "code",
   "execution_count": 157,
   "metadata": {},
   "outputs": [
    {
     "name": "stdout",
     "output_type": "stream",
     "text": [
      "Grid Search CV Gradient Boosting regression Model Performance:\n",
      "Best Parameters =  {'max_depth': 5, 'n_estimators': 19}\n",
      "R-squared = 0.75.\n",
      "RMSE =  0.2998601342482256\n"
     ]
    }
   ],
   "source": [
    "gb = GradientBoostingRegressor(random_state = 42)\n",
    "n_estimator = list(range(11,20,2))\n",
    "depth = list(range(5,15,2))\n",
    "\n",
    "# Create the grid\n",
    "grid_search = {'n_estimators': n_estimator,\n",
    "               'max_depth': depth}\n",
    "\n",
    "## Grid Search Cross-Validation with 5 fold CV\n",
    "gridcv_gb = GridSearchCV(gb, param_grid = grid_search, cv = 5)\n",
    "gridcv_gb = gridcv_gb.fit(X_train,y_train)\n",
    "view_best_params_Ggb = gridcv_gb.best_params_\n",
    "\n",
    "#Apply model on test data\n",
    "predictions_Ggb = gridcv_gb.predict(X_test)\n",
    "\n",
    "#R^2\n",
    "Ggb_r2 = r2_score(y_test, predictions_Ggb)\n",
    "#Calculating RMSE\n",
    "Ggb_rmse = np.sqrt(mean_squared_error(y_test,predictions_Ggb))\n",
    "\n",
    "print('Grid Search CV Gradient Boosting regression Model Performance:')\n",
    "print('Best Parameters = ',view_best_params_Ggb)\n",
    "print('R-squared = {:0.2}.'.format(Ggb_r2))\n",
    "print('RMSE = ',(Ggb_rmse))"
   ]
  },
  {
   "cell_type": "markdown",
   "metadata": {},
   "source": [
    "# Prediction of fare from provided test dataset:"
   ]
  },
  {
   "cell_type": "markdown",
   "metadata": {},
   "source": [
    "We have already cleaned and processed our test dataset along with our training dataset. Hence we will be predicting using grid search CV for random forest model"
   ]
  },
  {
   "cell_type": "code",
   "execution_count": 158,
   "metadata": {},
   "outputs": [],
   "source": [
    "#Apply model on test data\n",
    "predictions_GRF_test_Df = gridcv_rf.predict(test)"
   ]
  },
  {
   "cell_type": "code",
   "execution_count": 159,
   "metadata": {},
   "outputs": [],
   "source": [
    "test['Predicted Fare'] = predictions_GRF_test_Df"
   ]
  },
  {
   "cell_type": "code",
   "execution_count": 160,
   "metadata": {},
   "outputs": [
    {
     "data": {
      "text/html": [
       "<div>\n",
       "<style scoped>\n",
       "    .dataframe tbody tr th:only-of-type {\n",
       "        vertical-align: middle;\n",
       "    }\n",
       "\n",
       "    .dataframe tbody tr th {\n",
       "        vertical-align: top;\n",
       "    }\n",
       "\n",
       "    .dataframe thead th {\n",
       "        text-align: right;\n",
       "    }\n",
       "</style>\n",
       "<table border=\"1\" class=\"dataframe\">\n",
       "  <thead>\n",
       "    <tr style=\"text-align: right;\">\n",
       "      <th></th>\n",
       "      <th>passenger_count</th>\n",
       "      <th>haversine_distance</th>\n",
       "      <th>year</th>\n",
       "      <th>month</th>\n",
       "      <th>hour</th>\n",
       "      <th>Predicted Fare</th>\n",
       "    </tr>\n",
       "  </thead>\n",
       "  <tbody>\n",
       "    <tr>\n",
       "      <th>0</th>\n",
       "      <td>1</td>\n",
       "      <td>0.842971</td>\n",
       "      <td>2015</td>\n",
       "      <td>1</td>\n",
       "      <td>13</td>\n",
       "      <td>2.245965</td>\n",
       "    </tr>\n",
       "    <tr>\n",
       "      <th>1</th>\n",
       "      <td>1</td>\n",
       "      <td>0.885977</td>\n",
       "      <td>2015</td>\n",
       "      <td>1</td>\n",
       "      <td>13</td>\n",
       "      <td>2.290162</td>\n",
       "    </tr>\n",
       "    <tr>\n",
       "      <th>2</th>\n",
       "      <td>1</td>\n",
       "      <td>-0.480251</td>\n",
       "      <td>2011</td>\n",
       "      <td>10</td>\n",
       "      <td>11</td>\n",
       "      <td>1.486161</td>\n",
       "    </tr>\n",
       "    <tr>\n",
       "      <th>3</th>\n",
       "      <td>1</td>\n",
       "      <td>0.673471</td>\n",
       "      <td>2012</td>\n",
       "      <td>12</td>\n",
       "      <td>21</td>\n",
       "      <td>2.044164</td>\n",
       "    </tr>\n",
       "    <tr>\n",
       "      <th>4</th>\n",
       "      <td>1</td>\n",
       "      <td>1.684045</td>\n",
       "      <td>2012</td>\n",
       "      <td>12</td>\n",
       "      <td>21</td>\n",
       "      <td>2.778691</td>\n",
       "    </tr>\n",
       "  </tbody>\n",
       "</table>\n",
       "</div>"
      ],
      "text/plain": [
       "   passenger_count  haversine_distance  year month hour  Predicted Fare\n",
       "0                1            0.842971  2015     1   13        2.245965\n",
       "1                1            0.885977  2015     1   13        2.290162\n",
       "2                1           -0.480251  2011    10   11        1.486161\n",
       "3                1            0.673471  2012    12   21        2.044164\n",
       "4                1            1.684045  2012    12   21        2.778691"
      ]
     },
     "execution_count": 160,
     "metadata": {},
     "output_type": "execute_result"
    }
   ],
   "source": [
    "test.head()"
   ]
  },
  {
   "cell_type": "code",
   "execution_count": 161,
   "metadata": {},
   "outputs": [],
   "source": [
    "test.to_csv('test_python.csv', index=False)"
   ]
  }
 ],
 "metadata": {
  "kernelspec": {
   "display_name": "Python 3",
   "language": "python",
   "name": "python3"
  },
  "language_info": {
   "codemirror_mode": {
    "name": "ipython",
    "version": 3
   },
   "file_extension": ".py",
   "mimetype": "text/x-python",
   "name": "python",
   "nbconvert_exporter": "python",
   "pygments_lexer": "ipython3",
   "version": "3.7.3"
  }
 },
 "nbformat": 4,
 "nbformat_minor": 2
}
